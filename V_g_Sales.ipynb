{
  "nbformat": 4,
  "nbformat_minor": 0,
  "metadata": {
    "colab": {
      "provenance": []
    },
    "kernelspec": {
      "name": "python3",
      "display_name": "Python 3"
    },
    "language_info": {
      "name": "python"
    }
  },
  "cells": [
    {
      "cell_type": "code",
      "source": [
        "import pandas as pd # Used for data manipulation and analysis, especially with DataFrames\n",
        "import numpy as np  # Used for numerical operations and handling arrays\n",
        "import matplotlib.pyplot as plt # Used for basic plotting of graphs\n",
        "import seaborn as sns # Used for creating advanced statistical plots\n",
        "import plotly.express as px  # Used for creating interactive plots\n",
        "\n",
        "\n",
        "# Data Preprocessing and Scaling\n",
        "from sklearn.preprocessing import LabelEncoder,StandardScaler  # Used for encoding categorical data into numerical format\n",
        "from sklearn.preprocessing import StandardScaler  # Used for scaling numerical features to have a mean of 0 and standard deviation of 1\n",
        "\n",
        "\n",
        "from scipy.stats import zscore   # Used to calculate the Z-score of a dataset, which helps in identifying outliers\n",
        "\n",
        "\n"
      ],
      "metadata": {
        "id": "8wB3C8eCjjVa"
      },
      "execution_count": null,
      "outputs": []
    },
    {
      "cell_type": "code",
      "source": [
        "\n",
        "df = pd.read_csv('/content/video_game_sales.csv')"
      ],
      "metadata": {
        "id": "hLsTjWU8jj9g"
      },
      "execution_count": null,
      "outputs": []
    },
    {
      "cell_type": "code",
      "source": [
        "# Returns a tuple representing the dimensions of the DataFrame 'df'.\n",
        "\n",
        "# Useful for quickly checking the size of the dataset and understanding its structure.\n",
        "\n",
        "df.shape"
      ],
      "metadata": {
        "colab": {
          "base_uri": "https://localhost:8080/"
        },
        "id": "S9HUlH_AjkAZ",
        "outputId": "58e6680e-ee3d-4e15-f758-f9ce7490ed37"
      },
      "execution_count": null,
      "outputs": [
        {
          "output_type": "execute_result",
          "data": {
            "text/plain": [
              "(64016, 14)"
            ]
          },
          "metadata": {},
          "execution_count": 190
        }
      ]
    },
    {
      "cell_type": "code",
      "source": [
        "df.head()"
      ],
      "metadata": {
        "colab": {
          "base_uri": "https://localhost:8080/",
          "height": 521
        },
        "id": "ISqNysDQYQwK",
        "outputId": "3e2861f6-45a9-4ba8-b68f-4000b3170802"
      },
      "execution_count": null,
      "outputs": [
        {
          "output_type": "execute_result",
          "data": {
            "text/plain": [
              "                                             img                        title  \\\n",
              "0  /games/boxart/full_6510540AmericaFrontccc.jpg           Grand Theft Auto V   \n",
              "1  /games/boxart/full_5563178AmericaFrontccc.jpg           Grand Theft Auto V   \n",
              "2                    /games/boxart/827563ccc.jpg  Grand Theft Auto: Vice City   \n",
              "3  /games/boxart/full_9218923AmericaFrontccc.jpg           Grand Theft Auto V   \n",
              "4  /games/boxart/full_4990510AmericaFrontccc.jpg    Call of Duty: Black Ops 3   \n",
              "\n",
              "  console    genre       publisher       developer  critic_score  total_sales  \\\n",
              "0     PS3   Action  Rockstar Games  Rockstar North           9.4        20.32   \n",
              "1     PS4   Action  Rockstar Games  Rockstar North           9.7        19.39   \n",
              "2     PS2   Action  Rockstar Games  Rockstar North           9.6        16.15   \n",
              "3    X360   Action  Rockstar Games  Rockstar North           NaN        15.86   \n",
              "4     PS4  Shooter      Activision        Treyarch           8.1        15.09   \n",
              "\n",
              "   na_sales  jp_sales  pal_sales  other_sales release_date last_update  \n",
              "0      6.37      0.99       9.85         3.12   2013-09-17         NaN  \n",
              "1      6.06      0.60       9.71         3.02   2014-11-18  2018-01-03  \n",
              "2      8.41      0.47       5.49         1.78   2002-10-28         NaN  \n",
              "3      9.06      0.06       5.33         1.42   2013-09-17         NaN  \n",
              "4      6.18      0.41       6.05         2.44   2015-11-06  2018-01-14  "
            ],
            "text/html": [
              "\n",
              "  <div id=\"df-b61c0ad5-d4b8-4ec7-849a-554d71371c78\" class=\"colab-df-container\">\n",
              "    <div>\n",
              "<style scoped>\n",
              "    .dataframe tbody tr th:only-of-type {\n",
              "        vertical-align: middle;\n",
              "    }\n",
              "\n",
              "    .dataframe tbody tr th {\n",
              "        vertical-align: top;\n",
              "    }\n",
              "\n",
              "    .dataframe thead th {\n",
              "        text-align: right;\n",
              "    }\n",
              "</style>\n",
              "<table border=\"1\" class=\"dataframe\">\n",
              "  <thead>\n",
              "    <tr style=\"text-align: right;\">\n",
              "      <th></th>\n",
              "      <th>img</th>\n",
              "      <th>title</th>\n",
              "      <th>console</th>\n",
              "      <th>genre</th>\n",
              "      <th>publisher</th>\n",
              "      <th>developer</th>\n",
              "      <th>critic_score</th>\n",
              "      <th>total_sales</th>\n",
              "      <th>na_sales</th>\n",
              "      <th>jp_sales</th>\n",
              "      <th>pal_sales</th>\n",
              "      <th>other_sales</th>\n",
              "      <th>release_date</th>\n",
              "      <th>last_update</th>\n",
              "    </tr>\n",
              "  </thead>\n",
              "  <tbody>\n",
              "    <tr>\n",
              "      <th>0</th>\n",
              "      <td>/games/boxart/full_6510540AmericaFrontccc.jpg</td>\n",
              "      <td>Grand Theft Auto V</td>\n",
              "      <td>PS3</td>\n",
              "      <td>Action</td>\n",
              "      <td>Rockstar Games</td>\n",
              "      <td>Rockstar North</td>\n",
              "      <td>9.4</td>\n",
              "      <td>20.32</td>\n",
              "      <td>6.37</td>\n",
              "      <td>0.99</td>\n",
              "      <td>9.85</td>\n",
              "      <td>3.12</td>\n",
              "      <td>2013-09-17</td>\n",
              "      <td>NaN</td>\n",
              "    </tr>\n",
              "    <tr>\n",
              "      <th>1</th>\n",
              "      <td>/games/boxart/full_5563178AmericaFrontccc.jpg</td>\n",
              "      <td>Grand Theft Auto V</td>\n",
              "      <td>PS4</td>\n",
              "      <td>Action</td>\n",
              "      <td>Rockstar Games</td>\n",
              "      <td>Rockstar North</td>\n",
              "      <td>9.7</td>\n",
              "      <td>19.39</td>\n",
              "      <td>6.06</td>\n",
              "      <td>0.60</td>\n",
              "      <td>9.71</td>\n",
              "      <td>3.02</td>\n",
              "      <td>2014-11-18</td>\n",
              "      <td>2018-01-03</td>\n",
              "    </tr>\n",
              "    <tr>\n",
              "      <th>2</th>\n",
              "      <td>/games/boxart/827563ccc.jpg</td>\n",
              "      <td>Grand Theft Auto: Vice City</td>\n",
              "      <td>PS2</td>\n",
              "      <td>Action</td>\n",
              "      <td>Rockstar Games</td>\n",
              "      <td>Rockstar North</td>\n",
              "      <td>9.6</td>\n",
              "      <td>16.15</td>\n",
              "      <td>8.41</td>\n",
              "      <td>0.47</td>\n",
              "      <td>5.49</td>\n",
              "      <td>1.78</td>\n",
              "      <td>2002-10-28</td>\n",
              "      <td>NaN</td>\n",
              "    </tr>\n",
              "    <tr>\n",
              "      <th>3</th>\n",
              "      <td>/games/boxart/full_9218923AmericaFrontccc.jpg</td>\n",
              "      <td>Grand Theft Auto V</td>\n",
              "      <td>X360</td>\n",
              "      <td>Action</td>\n",
              "      <td>Rockstar Games</td>\n",
              "      <td>Rockstar North</td>\n",
              "      <td>NaN</td>\n",
              "      <td>15.86</td>\n",
              "      <td>9.06</td>\n",
              "      <td>0.06</td>\n",
              "      <td>5.33</td>\n",
              "      <td>1.42</td>\n",
              "      <td>2013-09-17</td>\n",
              "      <td>NaN</td>\n",
              "    </tr>\n",
              "    <tr>\n",
              "      <th>4</th>\n",
              "      <td>/games/boxart/full_4990510AmericaFrontccc.jpg</td>\n",
              "      <td>Call of Duty: Black Ops 3</td>\n",
              "      <td>PS4</td>\n",
              "      <td>Shooter</td>\n",
              "      <td>Activision</td>\n",
              "      <td>Treyarch</td>\n",
              "      <td>8.1</td>\n",
              "      <td>15.09</td>\n",
              "      <td>6.18</td>\n",
              "      <td>0.41</td>\n",
              "      <td>6.05</td>\n",
              "      <td>2.44</td>\n",
              "      <td>2015-11-06</td>\n",
              "      <td>2018-01-14</td>\n",
              "    </tr>\n",
              "  </tbody>\n",
              "</table>\n",
              "</div>\n",
              "    <div class=\"colab-df-buttons\">\n",
              "\n",
              "  <div class=\"colab-df-container\">\n",
              "    <button class=\"colab-df-convert\" onclick=\"convertToInteractive('df-b61c0ad5-d4b8-4ec7-849a-554d71371c78')\"\n",
              "            title=\"Convert this dataframe to an interactive table.\"\n",
              "            style=\"display:none;\">\n",
              "\n",
              "  <svg xmlns=\"http://www.w3.org/2000/svg\" height=\"24px\" viewBox=\"0 -960 960 960\">\n",
              "    <path d=\"M120-120v-720h720v720H120Zm60-500h600v-160H180v160Zm220 220h160v-160H400v160Zm0 220h160v-160H400v160ZM180-400h160v-160H180v160Zm440 0h160v-160H620v160ZM180-180h160v-160H180v160Zm440 0h160v-160H620v160Z\"/>\n",
              "  </svg>\n",
              "    </button>\n",
              "\n",
              "  <style>\n",
              "    .colab-df-container {\n",
              "      display:flex;\n",
              "      gap: 12px;\n",
              "    }\n",
              "\n",
              "    .colab-df-convert {\n",
              "      background-color: #E8F0FE;\n",
              "      border: none;\n",
              "      border-radius: 50%;\n",
              "      cursor: pointer;\n",
              "      display: none;\n",
              "      fill: #1967D2;\n",
              "      height: 32px;\n",
              "      padding: 0 0 0 0;\n",
              "      width: 32px;\n",
              "    }\n",
              "\n",
              "    .colab-df-convert:hover {\n",
              "      background-color: #E2EBFA;\n",
              "      box-shadow: 0px 1px 2px rgba(60, 64, 67, 0.3), 0px 1px 3px 1px rgba(60, 64, 67, 0.15);\n",
              "      fill: #174EA6;\n",
              "    }\n",
              "\n",
              "    .colab-df-buttons div {\n",
              "      margin-bottom: 4px;\n",
              "    }\n",
              "\n",
              "    [theme=dark] .colab-df-convert {\n",
              "      background-color: #3B4455;\n",
              "      fill: #D2E3FC;\n",
              "    }\n",
              "\n",
              "    [theme=dark] .colab-df-convert:hover {\n",
              "      background-color: #434B5C;\n",
              "      box-shadow: 0px 1px 3px 1px rgba(0, 0, 0, 0.15);\n",
              "      filter: drop-shadow(0px 1px 2px rgba(0, 0, 0, 0.3));\n",
              "      fill: #FFFFFF;\n",
              "    }\n",
              "  </style>\n",
              "\n",
              "    <script>\n",
              "      const buttonEl =\n",
              "        document.querySelector('#df-b61c0ad5-d4b8-4ec7-849a-554d71371c78 button.colab-df-convert');\n",
              "      buttonEl.style.display =\n",
              "        google.colab.kernel.accessAllowed ? 'block' : 'none';\n",
              "\n",
              "      async function convertToInteractive(key) {\n",
              "        const element = document.querySelector('#df-b61c0ad5-d4b8-4ec7-849a-554d71371c78');\n",
              "        const dataTable =\n",
              "          await google.colab.kernel.invokeFunction('convertToInteractive',\n",
              "                                                    [key], {});\n",
              "        if (!dataTable) return;\n",
              "\n",
              "        const docLinkHtml = 'Like what you see? Visit the ' +\n",
              "          '<a target=\"_blank\" href=https://colab.research.google.com/notebooks/data_table.ipynb>data table notebook</a>'\n",
              "          + ' to learn more about interactive tables.';\n",
              "        element.innerHTML = '';\n",
              "        dataTable['output_type'] = 'display_data';\n",
              "        await google.colab.output.renderOutput(dataTable, element);\n",
              "        const docLink = document.createElement('div');\n",
              "        docLink.innerHTML = docLinkHtml;\n",
              "        element.appendChild(docLink);\n",
              "      }\n",
              "    </script>\n",
              "  </div>\n",
              "\n",
              "\n",
              "<div id=\"df-09150e4c-8b55-4559-a78b-f6613dcf9855\">\n",
              "  <button class=\"colab-df-quickchart\" onclick=\"quickchart('df-09150e4c-8b55-4559-a78b-f6613dcf9855')\"\n",
              "            title=\"Suggest charts\"\n",
              "            style=\"display:none;\">\n",
              "\n",
              "<svg xmlns=\"http://www.w3.org/2000/svg\" height=\"24px\"viewBox=\"0 0 24 24\"\n",
              "     width=\"24px\">\n",
              "    <g>\n",
              "        <path d=\"M19 3H5c-1.1 0-2 .9-2 2v14c0 1.1.9 2 2 2h14c1.1 0 2-.9 2-2V5c0-1.1-.9-2-2-2zM9 17H7v-7h2v7zm4 0h-2V7h2v10zm4 0h-2v-4h2v4z\"/>\n",
              "    </g>\n",
              "</svg>\n",
              "  </button>\n",
              "\n",
              "<style>\n",
              "  .colab-df-quickchart {\n",
              "      --bg-color: #E8F0FE;\n",
              "      --fill-color: #1967D2;\n",
              "      --hover-bg-color: #E2EBFA;\n",
              "      --hover-fill-color: #174EA6;\n",
              "      --disabled-fill-color: #AAA;\n",
              "      --disabled-bg-color: #DDD;\n",
              "  }\n",
              "\n",
              "  [theme=dark] .colab-df-quickchart {\n",
              "      --bg-color: #3B4455;\n",
              "      --fill-color: #D2E3FC;\n",
              "      --hover-bg-color: #434B5C;\n",
              "      --hover-fill-color: #FFFFFF;\n",
              "      --disabled-bg-color: #3B4455;\n",
              "      --disabled-fill-color: #666;\n",
              "  }\n",
              "\n",
              "  .colab-df-quickchart {\n",
              "    background-color: var(--bg-color);\n",
              "    border: none;\n",
              "    border-radius: 50%;\n",
              "    cursor: pointer;\n",
              "    display: none;\n",
              "    fill: var(--fill-color);\n",
              "    height: 32px;\n",
              "    padding: 0;\n",
              "    width: 32px;\n",
              "  }\n",
              "\n",
              "  .colab-df-quickchart:hover {\n",
              "    background-color: var(--hover-bg-color);\n",
              "    box-shadow: 0 1px 2px rgba(60, 64, 67, 0.3), 0 1px 3px 1px rgba(60, 64, 67, 0.15);\n",
              "    fill: var(--button-hover-fill-color);\n",
              "  }\n",
              "\n",
              "  .colab-df-quickchart-complete:disabled,\n",
              "  .colab-df-quickchart-complete:disabled:hover {\n",
              "    background-color: var(--disabled-bg-color);\n",
              "    fill: var(--disabled-fill-color);\n",
              "    box-shadow: none;\n",
              "  }\n",
              "\n",
              "  .colab-df-spinner {\n",
              "    border: 2px solid var(--fill-color);\n",
              "    border-color: transparent;\n",
              "    border-bottom-color: var(--fill-color);\n",
              "    animation:\n",
              "      spin 1s steps(1) infinite;\n",
              "  }\n",
              "\n",
              "  @keyframes spin {\n",
              "    0% {\n",
              "      border-color: transparent;\n",
              "      border-bottom-color: var(--fill-color);\n",
              "      border-left-color: var(--fill-color);\n",
              "    }\n",
              "    20% {\n",
              "      border-color: transparent;\n",
              "      border-left-color: var(--fill-color);\n",
              "      border-top-color: var(--fill-color);\n",
              "    }\n",
              "    30% {\n",
              "      border-color: transparent;\n",
              "      border-left-color: var(--fill-color);\n",
              "      border-top-color: var(--fill-color);\n",
              "      border-right-color: var(--fill-color);\n",
              "    }\n",
              "    40% {\n",
              "      border-color: transparent;\n",
              "      border-right-color: var(--fill-color);\n",
              "      border-top-color: var(--fill-color);\n",
              "    }\n",
              "    60% {\n",
              "      border-color: transparent;\n",
              "      border-right-color: var(--fill-color);\n",
              "    }\n",
              "    80% {\n",
              "      border-color: transparent;\n",
              "      border-right-color: var(--fill-color);\n",
              "      border-bottom-color: var(--fill-color);\n",
              "    }\n",
              "    90% {\n",
              "      border-color: transparent;\n",
              "      border-bottom-color: var(--fill-color);\n",
              "    }\n",
              "  }\n",
              "</style>\n",
              "\n",
              "  <script>\n",
              "    async function quickchart(key) {\n",
              "      const quickchartButtonEl =\n",
              "        document.querySelector('#' + key + ' button');\n",
              "      quickchartButtonEl.disabled = true;  // To prevent multiple clicks.\n",
              "      quickchartButtonEl.classList.add('colab-df-spinner');\n",
              "      try {\n",
              "        const charts = await google.colab.kernel.invokeFunction(\n",
              "            'suggestCharts', [key], {});\n",
              "      } catch (error) {\n",
              "        console.error('Error during call to suggestCharts:', error);\n",
              "      }\n",
              "      quickchartButtonEl.classList.remove('colab-df-spinner');\n",
              "      quickchartButtonEl.classList.add('colab-df-quickchart-complete');\n",
              "    }\n",
              "    (() => {\n",
              "      let quickchartButtonEl =\n",
              "        document.querySelector('#df-09150e4c-8b55-4559-a78b-f6613dcf9855 button');\n",
              "      quickchartButtonEl.style.display =\n",
              "        google.colab.kernel.accessAllowed ? 'block' : 'none';\n",
              "    })();\n",
              "  </script>\n",
              "</div>\n",
              "\n",
              "    </div>\n",
              "  </div>\n"
            ],
            "application/vnd.google.colaboratory.intrinsic+json": {
              "type": "dataframe",
              "variable_name": "df",
              "summary": "{\n  \"name\": \"df\",\n  \"rows\": 64016,\n  \"fields\": [\n    {\n      \"column\": \"img\",\n      \"properties\": {\n        \"dtype\": \"string\",\n        \"num_unique_values\": 56177,\n        \"samples\": [\n          \"/games/boxart/full_6806541JapanFrontccc.jpg\",\n          \"/games/boxart/full_2684056JapanFrontccc.jpg\",\n          \"/games/boxart/full_1420931AmericaFrontccc.jpg\"\n        ],\n        \"semantic_type\": \"\",\n        \"description\": \"\"\n      }\n    },\n    {\n      \"column\": \"title\",\n      \"properties\": {\n        \"dtype\": \"string\",\n        \"num_unique_values\": 39798,\n        \"samples\": [\n          \"Sokukoku no Kusabi: Hiiro no Kakera 3 Portable\",\n          \"Fit in Six\",\n          \"Destination Earthstar\"\n        ],\n        \"semantic_type\": \"\",\n        \"description\": \"\"\n      }\n    },\n    {\n      \"column\": \"console\",\n      \"properties\": {\n        \"dtype\": \"category\",\n        \"num_unique_values\": 81,\n        \"samples\": [\n          \"WW\",\n          \"PS3\",\n          \"GC\"\n        ],\n        \"semantic_type\": \"\",\n        \"description\": \"\"\n      }\n    },\n    {\n      \"column\": \"genre\",\n      \"properties\": {\n        \"dtype\": \"category\",\n        \"num_unique_values\": 20,\n        \"samples\": [\n          \"Action\",\n          \"Education\",\n          \"Sandbox\"\n        ],\n        \"semantic_type\": \"\",\n        \"description\": \"\"\n      }\n    },\n    {\n      \"column\": \"publisher\",\n      \"properties\": {\n        \"dtype\": \"category\",\n        \"num_unique_values\": 3383,\n        \"samples\": [\n          \"Planet Entertainment\",\n          \"Tommo\",\n          \"Klei Entertainment\"\n        ],\n        \"semantic_type\": \"\",\n        \"description\": \"\"\n      }\n    },\n    {\n      \"column\": \"developer\",\n      \"properties\": {\n        \"dtype\": \"category\",\n        \"num_unique_values\": 8862,\n        \"samples\": [\n          \"niceplay games\",\n          \"Cobra Mobile\",\n          \"Probe Software\"\n        ],\n        \"semantic_type\": \"\",\n        \"description\": \"\"\n      }\n    },\n    {\n      \"column\": \"critic_score\",\n      \"properties\": {\n        \"dtype\": \"number\",\n        \"std\": 1.4570656379948146,\n        \"min\": 1.0,\n        \"max\": 10.0,\n        \"num_unique_values\": 89,\n        \"samples\": [\n          6.0,\n          5.0,\n          6.8\n        ],\n        \"semantic_type\": \"\",\n        \"description\": \"\"\n      }\n    },\n    {\n      \"column\": \"total_sales\",\n      \"properties\": {\n        \"dtype\": \"number\",\n        \"std\": 0.8074621979965082,\n        \"min\": 0.0,\n        \"max\": 20.32,\n        \"num_unique_values\": 482,\n        \"samples\": [\n          0.65,\n          0.09,\n          3.11\n        ],\n        \"semantic_type\": \"\",\n        \"description\": \"\"\n      }\n    },\n    {\n      \"column\": \"na_sales\",\n      \"properties\": {\n        \"dtype\": \"number\",\n        \"std\": 0.49478659622521276,\n        \"min\": 0.0,\n        \"max\": 9.76,\n        \"num_unique_values\": 320,\n        \"samples\": [\n          2.43,\n          2.38,\n          0.84\n        ],\n        \"semantic_type\": \"\",\n        \"description\": \"\"\n      }\n    },\n    {\n      \"column\": \"jp_sales\",\n      \"properties\": {\n        \"dtype\": \"number\",\n        \"std\": 0.1688113766824115,\n        \"min\": 0.0,\n        \"max\": 2.13,\n        \"num_unique_values\": 121,\n        \"samples\": [\n          0.0,\n          0.59,\n          0.41\n        ],\n        \"semantic_type\": \"\",\n        \"description\": \"\"\n      }\n    },\n    {\n      \"column\": \"pal_sales\",\n      \"properties\": {\n        \"dtype\": \"number\",\n        \"std\": 0.3926526251894178,\n        \"min\": 0.0,\n        \"max\": 9.85,\n        \"num_unique_values\": 256,\n        \"samples\": [\n          1.0,\n          3.73,\n          1.38\n        ],\n        \"semantic_type\": \"\",\n        \"description\": \"\"\n      }\n    },\n    {\n      \"column\": \"other_sales\",\n      \"properties\": {\n        \"dtype\": \"number\",\n        \"std\": 0.12664349644248915,\n        \"min\": 0.0,\n        \"max\": 3.12,\n        \"num_unique_values\": 133,\n        \"samples\": [\n          0.23,\n          0.66,\n          1.74\n        ],\n        \"semantic_type\": \"\",\n        \"description\": \"\"\n      }\n    },\n    {\n      \"column\": \"release_date\",\n      \"properties\": {\n        \"dtype\": \"object\",\n        \"num_unique_values\": 7922,\n        \"samples\": [\n          \"2020-10-22\",\n          \"2004-09-21\",\n          \"2006-04-28\"\n        ],\n        \"semantic_type\": \"\",\n        \"description\": \"\"\n      }\n    },\n    {\n      \"column\": \"last_update\",\n      \"properties\": {\n        \"dtype\": \"date\",\n        \"min\": \"2017-11-28 00:00:00\",\n        \"max\": \"2024-01-28 00:00:00\",\n        \"num_unique_values\": 1545,\n        \"samples\": [\n          \"2023-11-04\",\n          \"2020-02-13\",\n          \"2019-01-08\"\n        ],\n        \"semantic_type\": \"\",\n        \"description\": \"\"\n      }\n    }\n  ]\n}"
            }
          },
          "metadata": {},
          "execution_count": 191
        }
      ]
    },
    {
      "cell_type": "markdown",
      "source": [
        "#DATA PRE PROCESSING\n",
        "->\n",
        "Data preprocessing is the process of preparing raw data for analysis by transforming it into a clean, consistent, and usable format. It is an essential step in data science and machine learning, as raw data is often incomplete, inconsistent, or noisy, which can negatively impact model performance and analysis quality. Preprocessing ensures that the data is suitable for further analysis, modeling, and visualization."
      ],
      "metadata": {
        "id": "ltTY4q3H8HL6"
      }
    },
    {
      "cell_type": "code",
      "source": [
        "#deleting unwanted column\n",
        "\n",
        "df.drop(columns = ['img'], inplace = True)\n",
        "\n",
        "# Removes the column named 'img' from the DataFrame 'df'.\n",
        "# 'inplace=True' makes this change directly in the DataFrame without needing to reassign it.\n",
        "# This is useful for removing unnecessary data that does not contribute to analysis or modeling."
      ],
      "metadata": {
        "id": "eFHxJDAUIdsr"
      },
      "execution_count": null,
      "outputs": []
    },
    {
      "cell_type": "code",
      "source": [
        "#checking null values\n",
        "\n",
        "df.isna().sum()\n",
        "\n",
        "# Checks for missing (null) values in each column of the DataFrame 'df'.\n",
        "# 'isna()' identifies null values, and 'sum()' aggregates the count of nulls per column.\n",
        "# This helps in understanding the extent of missing data, which is crucial for data cleaning."
      ],
      "metadata": {
        "colab": {
          "base_uri": "https://localhost:8080/",
          "height": 491
        },
        "id": "IAJpZR056K6U",
        "outputId": "1679014c-2118-4b4c-a2d2-f7962c83ad9a"
      },
      "execution_count": null,
      "outputs": [
        {
          "output_type": "execute_result",
          "data": {
            "text/plain": [
              "title               0\n",
              "console             0\n",
              "genre               0\n",
              "publisher           0\n",
              "developer          17\n",
              "critic_score    57338\n",
              "total_sales     45094\n",
              "na_sales        51379\n",
              "jp_sales        57290\n",
              "pal_sales       51192\n",
              "other_sales     48888\n",
              "release_date     7051\n",
              "last_update     46137\n",
              "dtype: int64"
            ],
            "text/html": [
              "<div>\n",
              "<style scoped>\n",
              "    .dataframe tbody tr th:only-of-type {\n",
              "        vertical-align: middle;\n",
              "    }\n",
              "\n",
              "    .dataframe tbody tr th {\n",
              "        vertical-align: top;\n",
              "    }\n",
              "\n",
              "    .dataframe thead th {\n",
              "        text-align: right;\n",
              "    }\n",
              "</style>\n",
              "<table border=\"1\" class=\"dataframe\">\n",
              "  <thead>\n",
              "    <tr style=\"text-align: right;\">\n",
              "      <th></th>\n",
              "      <th>0</th>\n",
              "    </tr>\n",
              "  </thead>\n",
              "  <tbody>\n",
              "    <tr>\n",
              "      <th>title</th>\n",
              "      <td>0</td>\n",
              "    </tr>\n",
              "    <tr>\n",
              "      <th>console</th>\n",
              "      <td>0</td>\n",
              "    </tr>\n",
              "    <tr>\n",
              "      <th>genre</th>\n",
              "      <td>0</td>\n",
              "    </tr>\n",
              "    <tr>\n",
              "      <th>publisher</th>\n",
              "      <td>0</td>\n",
              "    </tr>\n",
              "    <tr>\n",
              "      <th>developer</th>\n",
              "      <td>17</td>\n",
              "    </tr>\n",
              "    <tr>\n",
              "      <th>critic_score</th>\n",
              "      <td>57338</td>\n",
              "    </tr>\n",
              "    <tr>\n",
              "      <th>total_sales</th>\n",
              "      <td>45094</td>\n",
              "    </tr>\n",
              "    <tr>\n",
              "      <th>na_sales</th>\n",
              "      <td>51379</td>\n",
              "    </tr>\n",
              "    <tr>\n",
              "      <th>jp_sales</th>\n",
              "      <td>57290</td>\n",
              "    </tr>\n",
              "    <tr>\n",
              "      <th>pal_sales</th>\n",
              "      <td>51192</td>\n",
              "    </tr>\n",
              "    <tr>\n",
              "      <th>other_sales</th>\n",
              "      <td>48888</td>\n",
              "    </tr>\n",
              "    <tr>\n",
              "      <th>release_date</th>\n",
              "      <td>7051</td>\n",
              "    </tr>\n",
              "    <tr>\n",
              "      <th>last_update</th>\n",
              "      <td>46137</td>\n",
              "    </tr>\n",
              "  </tbody>\n",
              "</table>\n",
              "</div><br><label><b>dtype:</b> int64</label>"
            ]
          },
          "metadata": {},
          "execution_count": 143
        }
      ]
    },
    {
      "cell_type": "code",
      "source": [
        "df.info()\n",
        "\n",
        "# Shows the number of non-null values, data types of each column, and memory usage.\n",
        "# Useful for quickly understanding the structure of the dataset, identifying columns with missing values,\n",
        "# and checking data types for compatibility with analysis or modeling tasks."
      ],
      "metadata": {
        "colab": {
          "base_uri": "https://localhost:8080/"
        },
        "id": "5QTlSx7D6lPV",
        "outputId": "3aff2343-a3b6-4eab-e813-30c4785179a3"
      },
      "execution_count": null,
      "outputs": [
        {
          "output_type": "stream",
          "name": "stdout",
          "text": [
            "<class 'pandas.core.frame.DataFrame'>\n",
            "RangeIndex: 64016 entries, 0 to 64015\n",
            "Data columns (total 13 columns):\n",
            " #   Column        Non-Null Count  Dtype  \n",
            "---  ------        --------------  -----  \n",
            " 0   title         64016 non-null  object \n",
            " 1   console       64016 non-null  object \n",
            " 2   genre         64016 non-null  object \n",
            " 3   publisher     64016 non-null  object \n",
            " 4   developer     63999 non-null  object \n",
            " 5   critic_score  6678 non-null   float64\n",
            " 6   total_sales   18922 non-null  float64\n",
            " 7   na_sales      12637 non-null  float64\n",
            " 8   jp_sales      6726 non-null   float64\n",
            " 9   pal_sales     12824 non-null  float64\n",
            " 10  other_sales   15128 non-null  float64\n",
            " 11  release_date  56965 non-null  object \n",
            " 12  last_update   17879 non-null  object \n",
            "dtypes: float64(6), object(7)\n",
            "memory usage: 6.3+ MB\n"
          ]
        }
      ]
    },
    {
      "cell_type": "code",
      "source": [
        "# Check the column names to confirm\n",
        "\n",
        "print(\"Column names in the dataset:\", df.columns)\n",
        "\n",
        "# Prints the names of all columns in the DataFrame 'df'.\n",
        "# This is useful for confirming the exact names of each column,\n",
        "# which is helpful when selecting, renaming, or modifying specific columns in the dataset."
      ],
      "metadata": {
        "colab": {
          "base_uri": "https://localhost:8080/"
        },
        "id": "zu-6zT9rrzfK",
        "outputId": "7869303f-6ff1-42b6-da3f-8e34b9f0080c"
      },
      "execution_count": null,
      "outputs": [
        {
          "output_type": "stream",
          "name": "stdout",
          "text": [
            "Column names in the dataset: Index(['title', 'console', 'genre', 'publisher', 'developer', 'critic_score',\n",
            "       'total_sales', 'na_sales', 'jp_sales', 'pal_sales', 'other_sales',\n",
            "       'release_date', 'last_update'],\n",
            "      dtype='object')\n"
          ]
        }
      ]
    },
    {
      "cell_type": "markdown",
      "source": [
        "ENCODING\n",
        "\n",
        "->Encoding in the context of data preprocessing and machine learning is the process of converting categorical (non-numeric) data into a numerical format so that machine learning algorithms can interpret it."
      ],
      "metadata": {
        "id": "1LJu4o9tldQ_"
      }
    },
    {
      "cell_type": "code",
      "source": [
        "# Define the columns for encoding based on the actual dataset columns\n",
        "\n",
        "columns_to_encode = ['platform', 'genre', 'publisher']\n",
        "\n",
        "# Specifies the list of categorical columns that need to be encoded for modeling.\n",
        "# Encoding transforms categorical variables into numerical form, making them usable in machine learning algorithms.\n",
        "\n",
        "label_encoders = {}\n",
        "\n",
        "# Initializes an empty dictionary to store LabelEncoder objects for each categorical column.\n",
        "# This allows us to encode multiple columns and keep track of the encoders used,"
      ],
      "metadata": {
        "id": "j5GVyh_GqZPM"
      },
      "execution_count": null,
      "outputs": []
    },
    {
      "cell_type": "code",
      "source": [
        "# Check if each column exists in the dataset before encoding\n",
        "\n",
        "for column in columns_to_encode:\n",
        "    if column in df.columns: # Verifies that the specified column is present in the DataFrame\n",
        "        le = LabelEncoder()   # Creates a new LabelEncoder instance for encoding\n",
        "        df[column] = le.fit_transform(df[column])   # Encodes the categorical values in the column to numeric values\n",
        "        label_encoders[column] = le # Stores the LabelEncoder in the dictionary for potential reverse transformations\n",
        "    else:\n",
        "        print(f\"Column '{column}' not found in the dataset.\") # Alerts if a specified column is missing in the DataFrame\n",
        "\n",
        "\n",
        "        # This loop ensures only existing columns are encoded, avoiding errors if a specified column is absent.\n",
        "        # Storing encoders allows decoding later, which may be useful in interpreting the encoded data.\n"
      ],
      "metadata": {
        "colab": {
          "base_uri": "https://localhost:8080/"
        },
        "id": "G7t5OPy3qZXV",
        "outputId": "dcf82a4e-6651-4eb8-e44d-b23aad44d913"
      },
      "execution_count": null,
      "outputs": [
        {
          "output_type": "stream",
          "name": "stdout",
          "text": [
            "Column 'platform' not found in the dataset.\n"
          ]
        }
      ]
    },
    {
      "cell_type": "code",
      "source": [
        "print(\"Encoding complete. Here’s a sample of the data:\\n\", df.head())\n",
        "\n",
        "# Prints a message indicating that the encoding process is complete.\n",
        "# Then displays the first few rows (by default, 5 rows) of the DataFrame 'df' using the 'head()' method.\n",
        "# This is useful for quickly inspecting the changes made to the data, ensuring that the categorical columns\n",
        "# have been correctly encoded into numerical values."
      ],
      "metadata": {
        "colab": {
          "base_uri": "https://localhost:8080/"
        },
        "id": "Diiqk-vZqZbb",
        "outputId": "7d089002-3a84-49a1-88af-c0b1edd05bbc"
      },
      "execution_count": null,
      "outputs": [
        {
          "output_type": "stream",
          "name": "stdout",
          "text": [
            "Encoding complete. Here’s a sample of the data:\n",
            "                          title console  genre  publisher       developer  \\\n",
            "0           Grand Theft Auto V     PS3      0       2445  Rockstar North   \n",
            "1           Grand Theft Auto V     PS4      0       2445  Rockstar North   \n",
            "2  Grand Theft Auto: Vice City     PS2      0       2445  Rockstar North   \n",
            "3           Grand Theft Auto V    X360      0       2445  Rockstar North   \n",
            "4    Call of Duty: Black Ops 3     PS4     15        101        Treyarch   \n",
            "\n",
            "   critic_score  total_sales  na_sales  jp_sales  pal_sales  other_sales  \\\n",
            "0           9.4        20.32      6.37      0.99       9.85         3.12   \n",
            "1           9.7        19.39      6.06      0.60       9.71         3.02   \n",
            "2           9.6        16.15      8.41      0.47       5.49         1.78   \n",
            "3           NaN        15.86      9.06      0.06       5.33         1.42   \n",
            "4           8.1        15.09      6.18      0.41       6.05         2.44   \n",
            "\n",
            "  release_date last_update  \n",
            "0   2013-09-17         NaN  \n",
            "1   2014-11-18  2018-01-03  \n",
            "2   2002-10-28         NaN  \n",
            "3   2013-09-17         NaN  \n",
            "4   2015-11-06  2018-01-14  \n"
          ]
        }
      ]
    },
    {
      "cell_type": "code",
      "source": [
        "# Print the column names in the DataFrame (df) to see the structure of the dataset\n",
        "print(\"Columns in the dataset:\", df.columns)\n"
      ],
      "metadata": {
        "colab": {
          "base_uri": "https://localhost:8080/"
        },
        "id": "onU2PFrpsxTc",
        "outputId": "c667d143-9d08-4f26-891d-5a6b7aa93e3e"
      },
      "execution_count": null,
      "outputs": [
        {
          "output_type": "stream",
          "name": "stdout",
          "text": [
            "Columns in the dataset: Index(['title', 'console', 'genre', 'publisher', 'developer', 'critic_score',\n",
            "       'total_sales', 'na_sales', 'jp_sales', 'pal_sales', 'other_sales',\n",
            "       'release_date', 'last_update'],\n",
            "      dtype='object')\n"
          ]
        }
      ]
    },
    {
      "cell_type": "markdown",
      "source": [
        "standard scaler\n",
        "\n",
        "->The Standard Scaler is a preprocessing technique that transforms data to have a mean of 0 and a standard deviation of 1. It is commonly used to standardize features in machine learning, ensuring that all features contribute equally to the model by eliminating scale differences."
      ],
      "metadata": {
        "id": "svK0q4mFlI-q"
      }
    },
    {
      "cell_type": "code",
      "source": [
        "# Verify and scale only existing columns\n",
        "# Initialize the StandardScaler to scale numerical features\n",
        "scaler = StandardScaler()\n",
        "\n",
        "\n",
        "# List of columns to be scaled (only those that exist in the dataset)\n",
        "scaled_columns = ['na_sales', 'eu_sales', 'jp_sales', 'other_sales', 'global_sales']"
      ],
      "metadata": {
        "id": "tPgxHWK4qZvE"
      },
      "execution_count": null,
      "outputs": []
    },
    {
      "cell_type": "code",
      "source": [
        "# Check which columns are available in the DataFrame and scale only those\n",
        "existing_columns = [col for col in scaled_columns if col in df.columns and df[col].dtype in ['float64', 'int64']]"
      ],
      "metadata": {
        "id": "xfJLCEUOuqyp"
      },
      "execution_count": null,
      "outputs": []
    },
    {
      "cell_type": "code",
      "source": [
        "# Check if any columns are valid columns to sacle\n",
        "\n",
        "if existing_columns:\n",
        "\n",
        "  # Apply the StandardScaler to the existing columns and update the DataFrame with the scaled values\n",
        "    df[existing_columns] = scaler.fit_transform(df[existing_columns])\n",
        "else:\n",
        "\n",
        "  # If no valid columns are found, print a message\n",
        "    print(\"No valid columns to scale.\")"
      ],
      "metadata": {
        "id": "gYuAjVYtqZ1U"
      },
      "execution_count": null,
      "outputs": []
    },
    {
      "cell_type": "code",
      "source": [
        "# Print a message indicating that scaling is complete\n",
        "# Display the first few rows of the DataFrame to show a sample of the scaled data\n",
        "\n",
        "print(\"Scaling complete. Here’s a sample of the data:\\n\", df.head())"
      ],
      "metadata": {
        "colab": {
          "base_uri": "https://localhost:8080/"
        },
        "id": "jKhxItWFqZ60",
        "outputId": "68f8c57c-8f1f-4b95-c2da-3600d46a9bf1"
      },
      "execution_count": null,
      "outputs": [
        {
          "output_type": "stream",
          "name": "stdout",
          "text": [
            "Scaling complete. Here’s a sample of the data:\n",
            "                          title console  genre  publisher       developer  \\\n",
            "0           Grand Theft Auto V     PS3      0       2445  Rockstar North   \n",
            "1           Grand Theft Auto V     PS4      0       2445  Rockstar North   \n",
            "2  Grand Theft Auto: Vice City     PS2      0       2445  Rockstar North   \n",
            "3           Grand Theft Auto V    X360      0       2445  Rockstar North   \n",
            "4    Call of Duty: Black Ops 3     PS4     15        101        Treyarch   \n",
            "\n",
            "   critic_score  total_sales   na_sales  jp_sales  pal_sales  other_sales  \\\n",
            "0           9.4        20.32  12.339666  5.259037       9.85    24.297031   \n",
            "1           9.7        19.39  11.713109  2.948595       9.71    23.507387   \n",
            "2           9.6        16.15  16.462819  2.178447       5.49    13.715799   \n",
            "3           NaN        15.86  17.776569 -0.250480       5.33    10.873079   \n",
            "4           8.1        15.09  11.955647  1.822994       6.05    18.927450   \n",
            "\n",
            "  release_date last_update  \n",
            "0   2013-09-17         NaN  \n",
            "1   2014-11-18  2018-01-03  \n",
            "2   2002-10-28         NaN  \n",
            "3   2013-09-17         NaN  \n",
            "4   2015-11-06  2018-01-14  \n"
          ]
        }
      ]
    },
    {
      "cell_type": "code",
      "source": [
        "# Print the column names in the DataFrame to view the structure of the dataset\n",
        "print(\"Columns in the dataset:\", df.columns)\n"
      ],
      "metadata": {
        "colab": {
          "base_uri": "https://localhost:8080/"
        },
        "id": "M2gmlOPiv6lS",
        "outputId": "adefc250-6acc-4949-a8eb-48404ffcd8df"
      },
      "execution_count": null,
      "outputs": [
        {
          "output_type": "stream",
          "name": "stdout",
          "text": [
            "Columns in the dataset: Index(['title', 'console', 'genre', 'publisher', 'developer', 'critic_score',\n",
            "       'total_sales', 'na_sales', 'jp_sales', 'pal_sales', 'other_sales',\n",
            "       'release_date', 'last_update'],\n",
            "      dtype='object')\n"
          ]
        }
      ]
    },
    {
      "cell_type": "markdown",
      "source": [
        "z-score\n",
        "\n",
        "->The z-score (or standard score) is a statistical measurement that describes how far a data point is from the mean of a dataset in terms of standard deviations. It helps us understand whether a value is above or below the mean and by how much, making it easier to compare data points from different distributions or scales.\n"
      ],
      "metadata": {
        "id": "vvwB_NZLkxVC"
      }
    },
    {
      "cell_type": "code",
      "source": [
        "# Check if 'global_sales' exists in the dataset before applying z-score\n",
        "if 'global_sales' in df.columns:\n",
        "\n",
        "\n",
        "    # Calculate the Z-score for the 'global_sales' column and create a new column for it\n",
        "    df['global_sales_zscore'] = zscore(df['global_sales'])\n",
        "\n",
        "\n",
        "    # Filter out rows where the Z-score of 'global_sales' is outside the range of -3 to 3 (outliers)\n",
        "    df = df[(df['global_sales_zscore'] > -3) & (df['global_sales_zscore'] < 3)]"
      ],
      "metadata": {
        "id": "kWZlQ6TGv5b8"
      },
      "execution_count": null,
      "outputs": []
    },
    {
      "cell_type": "code",
      "source": [
        "# Drop the Z-score column after filtering\n",
        "if 'global_sales' in df.columns:\n",
        "    df.drop(columns=['global_sales_zscore'], inplace=True)\n",
        "    print(\"Outlier handling complete. Here’s a sample of the data:\\n\", df.head())\n",
        "else:\n",
        "    print(\"Column 'global_sales' not found in the dataset.\")\n"
      ],
      "metadata": {
        "colab": {
          "base_uri": "https://localhost:8080/"
        },
        "id": "hHifrsKKqaF2",
        "outputId": "01caccfa-d515-4846-8218-a60af7154eb3"
      },
      "execution_count": null,
      "outputs": [
        {
          "output_type": "stream",
          "name": "stdout",
          "text": [
            "Column 'global_sales' not found in the dataset.\n"
          ]
        }
      ]
    },
    {
      "cell_type": "code",
      "source": [
        "# Check if the 'global_sales' column exists in the DataFrame before dropping the Z-score column\n",
        "if 'global_sales_zscore' in df.columns:\n",
        "\n",
        "\n",
        "      # Drop the 'global_sales_zscore' column after outlier filtering is complete\n",
        "    df.drop(columns=['global_sales_zscore'], inplace=True)\n",
        "\n",
        "\n",
        "    # Print a message confirming outlier handling is complete and display a sample of the data\n",
        "    print(\"Column 'global_sales_zscore' dropped successfully.\")\n",
        "else:\n",
        "\n",
        "\n",
        "  # If the 'global_sales' column is not found, print a message indicating the issue\n",
        "    print(\"Column 'global_sales_zscore' not found in the DataFrame.\")\n"
      ],
      "metadata": {
        "colab": {
          "base_uri": "https://localhost:8080/"
        },
        "id": "bEch9VM-qaId",
        "outputId": "09463051-867b-4200-d810-0daf39be38f7"
      },
      "execution_count": null,
      "outputs": [
        {
          "output_type": "stream",
          "name": "stdout",
          "text": [
            "Column 'global_sales_zscore' not found in the DataFrame.\n"
          ]
        }
      ]
    },
    {
      "cell_type": "markdown",
      "source": [
        "feature engineering\n",
        "->Feature engineering is the process of creating new features (variables) or modifying existing ones to improve the performance of a machine learning model. It involves transforming raw data into a format that helps a model learn better by capturing relevant patterns and relationships."
      ],
      "metadata": {
        "id": "hH0jRfl1kTnC"
      }
    },
    {
      "cell_type": "code",
      "source": [
        "# Feature Engineering: Average sales per region\n",
        "# Creating a list of existing sales columns that are present in the DataFrame\n",
        "existing_sales_columns = [col for col in ['na_sales', 'eu_sales', 'jp_sales', 'other_sales'] if col in df.columns]"
      ],
      "metadata": {
        "id": "gydyfs5BqaNz"
      },
      "execution_count": null,
      "outputs": []
    },
    {
      "cell_type": "code",
      "source": [
        "# Check if there are columns to calculate the average\n",
        "if existing_sales_columns:\n",
        "\n",
        "\n",
        "  # Calculate the average sales per region across the existing columns\n",
        "    df['avg_sales_per_region'] = df[existing_sales_columns].mean(axis=1)\n",
        "\n",
        "    print(\"Average sales per region calculated successfully.\")\n",
        "else:\n",
        "\n",
        "\n",
        "  # If none of the specified sales columns are found, print a message\n",
        "    print(\"None of the sales columns ('na_sales', 'eu_sales', 'jp_sales', 'other_sales') were found in the DataFrame.\")"
      ],
      "metadata": {
        "colab": {
          "base_uri": "https://localhost:8080/"
        },
        "id": "eLAmnamP0_Sy",
        "outputId": "523631bc-0355-4919-df6b-6189f8e08914"
      },
      "execution_count": null,
      "outputs": [
        {
          "output_type": "stream",
          "name": "stdout",
          "text": [
            "Average sales per region calculated successfully.\n"
          ]
        }
      ]
    },
    {
      "cell_type": "code",
      "source": [
        "# Final Preprocessed Data\n",
        "# Display the first few rows of the preprocessed data\n",
        "print(\"Preprocessed data:\\n\",df.head())"
      ],
      "metadata": {
        "colab": {
          "base_uri": "https://localhost:8080/"
        },
        "id": "lVt5LDNLqaSH",
        "outputId": "4ec0a38f-2f51-423c-d781-5f40ae858d1b"
      },
      "execution_count": null,
      "outputs": [
        {
          "output_type": "stream",
          "name": "stdout",
          "text": [
            "Preprocessed data:\n",
            "                          title console  genre  publisher       developer  \\\n",
            "0           Grand Theft Auto V     PS3      0       2445  Rockstar North   \n",
            "1           Grand Theft Auto V     PS4      0       2445  Rockstar North   \n",
            "2  Grand Theft Auto: Vice City     PS2      0       2445  Rockstar North   \n",
            "3           Grand Theft Auto V    X360      0       2445  Rockstar North   \n",
            "4    Call of Duty: Black Ops 3     PS4     15        101        Treyarch   \n",
            "\n",
            "   critic_score  total_sales   na_sales  jp_sales  pal_sales  other_sales  \\\n",
            "0           9.4        20.32  12.339666  5.259037       9.85    24.297031   \n",
            "1           9.7        19.39  11.713109  2.948595       9.71    23.507387   \n",
            "2           9.6        16.15  16.462819  2.178447       5.49    13.715799   \n",
            "3           NaN        15.86  17.776569 -0.250480       5.33    10.873079   \n",
            "4           8.1        15.09  11.955647  1.822994       6.05    18.927450   \n",
            "\n",
            "  release_date last_update  avg_sales_per_region  \n",
            "0   2013-09-17         NaN             13.965245  \n",
            "1   2014-11-18  2018-01-03             12.723030  \n",
            "2   2002-10-28         NaN             10.785688  \n",
            "3   2013-09-17         NaN              9.466389  \n",
            "4   2015-11-06  2018-01-14             10.902031  \n"
          ]
        }
      ]
    },
    {
      "cell_type": "markdown",
      "source": [
        "#DATA WRANGLING\n",
        "->Data wrangling, also known as data munging, is the process of transforming and cleaning raw data into a usable format for analysis. It involves various techniques to organize, restructure, and prepare data, ensuring that it's suitable for machine learning models or statistical analysis.\n",
        "\n",
        "\n",
        "\n"
      ],
      "metadata": {
        "id": "Q8LzKvZ3ove0"
      }
    },
    {
      "cell_type": "code",
      "source": [
        "# Remove duplicate rows from the DataFrame\n",
        "df.drop_duplicates(inplace=True)"
      ],
      "metadata": {
        "id": "qTOL6i8SjkUn"
      },
      "execution_count": null,
      "outputs": []
    },
    {
      "cell_type": "markdown",
      "source": [
        "# 2. Handle missing values\n",
        "# Fill missing 'Year' values with the median year and 'Publisher' with \"Unknown\""
      ],
      "metadata": {
        "id": "TijyD7HHpw9-"
      }
    },
    {
      "cell_type": "code",
      "source": [
        "# Print the names of all columns in the DataFrame\n",
        "print(df.columns)\n"
      ],
      "metadata": {
        "colab": {
          "base_uri": "https://localhost:8080/"
        },
        "id": "pHKhogsgJ8CL",
        "outputId": "2320a18e-d1a4-4258-848b-e78e848ab0f8"
      },
      "execution_count": null,
      "outputs": [
        {
          "output_type": "stream",
          "name": "stdout",
          "text": [
            "Index(['title', 'console', 'genre', 'publisher', 'developer', 'critic_score',\n",
            "       'total_sales', 'na_sales', 'jp_sales', 'pal_sales', 'other_sales',\n",
            "       'release_date', 'last_update', 'avg_sales_per_region'],\n",
            "      dtype='object')\n"
          ]
        }
      ]
    },
    {
      "cell_type": "code",
      "source": [
        "# Rename the column 'incorrect_name' to 'Year' in the DataFrame\n",
        "df.rename(columns={'incorrect_name': 'Year'}, inplace=True)\n"
      ],
      "metadata": {
        "id": "88JFbUPKJ_K0"
      },
      "execution_count": null,
      "outputs": []
    },
    {
      "cell_type": "code",
      "source": [
        "# Handle missing values\n",
        "# Check if 'Year' column exists and fill missing values\n",
        "if 'Year' in df.columns:\n",
        "    df['Year'].fillna(df['Year'].median(), inplace=True)\n",
        "\n",
        "\n",
        "# Check if 'Publisher' column exists and fill missing values\n",
        "if 'Publisher' in df.columns:\n",
        "    df['Publisher'].fillna('Unknown', inplace=True)\n"
      ],
      "metadata": {
        "id": "MFQfKeEMKDzr"
      },
      "execution_count": null,
      "outputs": []
    },
    {
      "cell_type": "code",
      "source": [
        "# Standardize column names: remove leading/trailing spaces, convert to lowercase, and replace spaces with underscores\n",
        "df.columns = df.columns.str.strip().str.lower().str.replace(' ', '_')"
      ],
      "metadata": {
        "id": "b4V48u-0jkZI"
      },
      "execution_count": null,
      "outputs": []
    },
    {
      "cell_type": "code",
      "source": [
        "# Print the updated column names after standardization\n",
        "print(df.columns)\n"
      ],
      "metadata": {
        "colab": {
          "base_uri": "https://localhost:8080/"
        },
        "id": "K2Q5Ix5NJYdy",
        "outputId": "698065ce-9154-44d0-b998-a05a3db35054"
      },
      "execution_count": null,
      "outputs": [
        {
          "output_type": "stream",
          "name": "stdout",
          "text": [
            "Index(['title', 'console', 'genre', 'publisher', 'developer', 'critic_score',\n",
            "       'total_sales', 'na_sales', 'jp_sales', 'pal_sales', 'other_sales',\n",
            "       'release_date', 'last_update', 'avg_sales_per_region'],\n",
            "      dtype='object')\n"
          ]
        }
      ]
    },
    {
      "cell_type": "code",
      "source": [
        "# Rename the column 'incorrect_column_name' to 'eu_sales' in the DataFrame\n",
        "\n",
        "df.rename(columns={'incorrect_column_name': 'eu_sales'}, inplace=True)\n"
      ],
      "metadata": {
        "id": "7ARLdK2QKYO5"
      },
      "execution_count": null,
      "outputs": []
    },
    {
      "cell_type": "code",
      "source": [
        "# Check if the columns 'eu_sales' and 'global_sales' exist\n",
        "if 'eu_sales' in df.columns and 'global_sales' in df.columns:\n",
        "\n",
        "\n",
        "  # Group the data by 'genre' and calculate the sum of sales for each region and 'global_sales'\n",
        "    genre_sales = df.groupby('genre')[['na_sales', 'eu_sales', 'jp_sales', 'other_sales', 'global_sales']].sum()\n",
        "\n",
        "\n",
        "    # Merge the calculated genre sales with the original DataFrame on the 'genre' column\n",
        "    df = df.merge(genre_sales, on='genre', suffixes=('', '_total'))\n",
        "else:\n",
        "\n",
        "\n",
        "  # If the required columns are missing, print a message\n",
        "    print(\"The required columns are missing from the DataFrame.\")\n"
      ],
      "metadata": {
        "colab": {
          "base_uri": "https://localhost:8080/"
        },
        "id": "IyzUVPozJgV6",
        "outputId": "c60bd253-595a-4309-c67e-317e40bc7fe1"
      },
      "execution_count": null,
      "outputs": [
        {
          "output_type": "stream",
          "name": "stdout",
          "text": [
            "The required columns are missing from the DataFrame.\n"
          ]
        }
      ]
    },
    {
      "cell_type": "code",
      "source": [
        "# Print the first few rows of the wrangled dataset to check the changes\n",
        "print(\"Wrangled data:\\n\",df.head())"
      ],
      "metadata": {
        "colab": {
          "base_uri": "https://localhost:8080/"
        },
        "id": "O-ObtTNCjkeI",
        "outputId": "9633df65-f6c8-4a35-b1fe-b175b9aa8226"
      },
      "execution_count": null,
      "outputs": [
        {
          "output_type": "stream",
          "name": "stdout",
          "text": [
            "Wrangled data:\n",
            "                          title console  genre  publisher       developer  \\\n",
            "0           Grand Theft Auto V     PS3      0       2445  Rockstar North   \n",
            "1           Grand Theft Auto V     PS4      0       2445  Rockstar North   \n",
            "2  Grand Theft Auto: Vice City     PS2      0       2445  Rockstar North   \n",
            "3           Grand Theft Auto V    X360      0       2445  Rockstar North   \n",
            "4    Call of Duty: Black Ops 3     PS4     15        101        Treyarch   \n",
            "\n",
            "   critic_score  total_sales   na_sales  jp_sales  pal_sales  other_sales  \\\n",
            "0           9.4        20.32  12.339666  5.259037       9.85    24.297031   \n",
            "1           9.7        19.39  11.713109  2.948595       9.71    23.507387   \n",
            "2           9.6        16.15  16.462819  2.178447       5.49    13.715799   \n",
            "3           NaN        15.86  17.776569 -0.250480       5.33    10.873079   \n",
            "4           8.1        15.09  11.955647  1.822994       6.05    18.927450   \n",
            "\n",
            "  release_date last_update  avg_sales_per_region  \n",
            "0   2013-09-17         NaN             13.965245  \n",
            "1   2014-11-18  2018-01-03             12.723030  \n",
            "2   2002-10-28         NaN             10.785688  \n",
            "3   2013-09-17         NaN              9.466389  \n",
            "4   2015-11-06  2018-01-14             10.902031  \n"
          ]
        }
      ]
    },
    {
      "cell_type": "markdown",
      "source": [
        "#EDA (EXPLORATORY DATA ANALYSIS)\n",
        "->Exploratory Data Analysis (EDA) is the process of analyzing and visualizing a dataset to uncover its underlying structure, patterns, relationships, and key characteristics. The goal of EDA is to gain insights that will guide further data preprocessing, feature selection, and modeling steps. EDA is essential because it helps to identify trends, detect outliers, and assess assumptions about the data, ultimately aiding in better decision-making and preparation for predictive modeling."
      ],
      "metadata": {
        "id": "CPb1cxcA_Kt5"
      }
    },
    {
      "cell_type": "markdown",
      "source": [
        "#1.WHICH TITLES SOLD THE WORLDWIDE?"
      ],
      "metadata": {
        "id": "YsyCz1ej_Z6I"
      }
    },
    {
      "cell_type": "code",
      "source": [
        "# Group the data by 'title' and calculate the sum of 'total_sales' for each title, then reset the index\n",
        "sales_by_title = df.groupby('title')['total_sales'].sum().reset_index()"
      ],
      "metadata": {
        "id": "wOdrBkVw_Jhg"
      },
      "execution_count": null,
      "outputs": []
    },
    {
      "cell_type": "code",
      "source": [
        "# Sort the 'sales_by_title' DataFrame by 'total_sales' in descending order\n",
        "sales_by_title_sort = sales_by_title.sort_values(by = 'total_sales',ascending=False)"
      ],
      "metadata": {
        "id": "lLbRtBOzjklf"
      },
      "execution_count": null,
      "outputs": []
    },
    {
      "cell_type": "code",
      "source": [
        "# Create a bar chart displaying the top 10 titles by worldwide sales\n",
        "px.bar(sales_by_title_sort.head(10), x = 'title', y = 'total_sales',\n",
        "      title = 'Top 10 titles by Worldwide sales')"
      ],
      "metadata": {
        "id": "u19BIqk1jkoH",
        "colab": {
          "base_uri": "https://localhost:8080/",
          "height": 542
        },
        "outputId": "6a98de6e-2c0b-4513-ccd7-3c9c176ea300"
      },
      "execution_count": null,
      "outputs": [
        {
          "output_type": "display_data",
          "data": {
            "text/html": [
              "<html>\n",
              "<head><meta charset=\"utf-8\" /></head>\n",
              "<body>\n",
              "    <div>            <script src=\"https://cdnjs.cloudflare.com/ajax/libs/mathjax/2.7.5/MathJax.js?config=TeX-AMS-MML_SVG\"></script><script type=\"text/javascript\">if (window.MathJax && window.MathJax.Hub && window.MathJax.Hub.Config) {window.MathJax.Hub.Config({SVG: {font: \"STIX-Web\"}});}</script>                <script type=\"text/javascript\">window.PlotlyConfig = {MathJaxConfig: 'local'};</script>\n",
              "        <script charset=\"utf-8\" src=\"https://cdn.plot.ly/plotly-2.35.2.min.js\"></script>                <div id=\"54d9681e-7400-4c26-a4b9-11bdb9408e39\" class=\"plotly-graph-div\" style=\"height:525px; width:100%;\"></div>            <script type=\"text/javascript\">                                    window.PLOTLYENV=window.PLOTLYENV || {};                                    if (document.getElementById(\"54d9681e-7400-4c26-a4b9-11bdb9408e39\")) {                    Plotly.newPlot(                        \"54d9681e-7400-4c26-a4b9-11bdb9408e39\",                        [{\"alignmentgroup\":\"True\",\"hovertemplate\":\"title=%{x}\\u003cbr\\u003etotal_sales=%{y}\\u003cextra\\u003e\\u003c\\u002fextra\\u003e\",\"legendgroup\":\"\",\"marker\":{\"color\":\"#636efa\",\"pattern\":{\"shape\":\"\"}},\"name\":\"\",\"offsetgroup\":\"\",\"orientation\":\"v\",\"showlegend\":false,\"textposition\":\"auto\",\"x\":[\"Grand Theft Auto V\",\"Call of Duty: Black Ops\",\"Call of Duty: Modern Warfare 3\",\"Call of Duty: Black Ops II\",\"Call of Duty: Ghosts\",\"Call of Duty: Black Ops 3\",\"Call of Duty: Modern Warfare 2\",\"Minecraft\",\"Grand Theft Auto IV\",\"Call of Duty: Advanced Warfare\"],\"xaxis\":\"x\",\"y\":[64.29,30.990000000000002,30.71,29.59,28.8,26.72,25.02,24.009999999999998,22.53,21.78],\"yaxis\":\"y\",\"type\":\"bar\"}],                        {\"template\":{\"data\":{\"histogram2dcontour\":[{\"type\":\"histogram2dcontour\",\"colorbar\":{\"outlinewidth\":0,\"ticks\":\"\"},\"colorscale\":[[0.0,\"#0d0887\"],[0.1111111111111111,\"#46039f\"],[0.2222222222222222,\"#7201a8\"],[0.3333333333333333,\"#9c179e\"],[0.4444444444444444,\"#bd3786\"],[0.5555555555555556,\"#d8576b\"],[0.6666666666666666,\"#ed7953\"],[0.7777777777777778,\"#fb9f3a\"],[0.8888888888888888,\"#fdca26\"],[1.0,\"#f0f921\"]]}],\"choropleth\":[{\"type\":\"choropleth\",\"colorbar\":{\"outlinewidth\":0,\"ticks\":\"\"}}],\"histogram2d\":[{\"type\":\"histogram2d\",\"colorbar\":{\"outlinewidth\":0,\"ticks\":\"\"},\"colorscale\":[[0.0,\"#0d0887\"],[0.1111111111111111,\"#46039f\"],[0.2222222222222222,\"#7201a8\"],[0.3333333333333333,\"#9c179e\"],[0.4444444444444444,\"#bd3786\"],[0.5555555555555556,\"#d8576b\"],[0.6666666666666666,\"#ed7953\"],[0.7777777777777778,\"#fb9f3a\"],[0.8888888888888888,\"#fdca26\"],[1.0,\"#f0f921\"]]}],\"heatmap\":[{\"type\":\"heatmap\",\"colorbar\":{\"outlinewidth\":0,\"ticks\":\"\"},\"colorscale\":[[0.0,\"#0d0887\"],[0.1111111111111111,\"#46039f\"],[0.2222222222222222,\"#7201a8\"],[0.3333333333333333,\"#9c179e\"],[0.4444444444444444,\"#bd3786\"],[0.5555555555555556,\"#d8576b\"],[0.6666666666666666,\"#ed7953\"],[0.7777777777777778,\"#fb9f3a\"],[0.8888888888888888,\"#fdca26\"],[1.0,\"#f0f921\"]]}],\"heatmapgl\":[{\"type\":\"heatmapgl\",\"colorbar\":{\"outlinewidth\":0,\"ticks\":\"\"},\"colorscale\":[[0.0,\"#0d0887\"],[0.1111111111111111,\"#46039f\"],[0.2222222222222222,\"#7201a8\"],[0.3333333333333333,\"#9c179e\"],[0.4444444444444444,\"#bd3786\"],[0.5555555555555556,\"#d8576b\"],[0.6666666666666666,\"#ed7953\"],[0.7777777777777778,\"#fb9f3a\"],[0.8888888888888888,\"#fdca26\"],[1.0,\"#f0f921\"]]}],\"contourcarpet\":[{\"type\":\"contourcarpet\",\"colorbar\":{\"outlinewidth\":0,\"ticks\":\"\"}}],\"contour\":[{\"type\":\"contour\",\"colorbar\":{\"outlinewidth\":0,\"ticks\":\"\"},\"colorscale\":[[0.0,\"#0d0887\"],[0.1111111111111111,\"#46039f\"],[0.2222222222222222,\"#7201a8\"],[0.3333333333333333,\"#9c179e\"],[0.4444444444444444,\"#bd3786\"],[0.5555555555555556,\"#d8576b\"],[0.6666666666666666,\"#ed7953\"],[0.7777777777777778,\"#fb9f3a\"],[0.8888888888888888,\"#fdca26\"],[1.0,\"#f0f921\"]]}],\"surface\":[{\"type\":\"surface\",\"colorbar\":{\"outlinewidth\":0,\"ticks\":\"\"},\"colorscale\":[[0.0,\"#0d0887\"],[0.1111111111111111,\"#46039f\"],[0.2222222222222222,\"#7201a8\"],[0.3333333333333333,\"#9c179e\"],[0.4444444444444444,\"#bd3786\"],[0.5555555555555556,\"#d8576b\"],[0.6666666666666666,\"#ed7953\"],[0.7777777777777778,\"#fb9f3a\"],[0.8888888888888888,\"#fdca26\"],[1.0,\"#f0f921\"]]}],\"mesh3d\":[{\"type\":\"mesh3d\",\"colorbar\":{\"outlinewidth\":0,\"ticks\":\"\"}}],\"scatter\":[{\"fillpattern\":{\"fillmode\":\"overlay\",\"size\":10,\"solidity\":0.2},\"type\":\"scatter\"}],\"parcoords\":[{\"type\":\"parcoords\",\"line\":{\"colorbar\":{\"outlinewidth\":0,\"ticks\":\"\"}}}],\"scatterpolargl\":[{\"type\":\"scatterpolargl\",\"marker\":{\"colorbar\":{\"outlinewidth\":0,\"ticks\":\"\"}}}],\"bar\":[{\"error_x\":{\"color\":\"#2a3f5f\"},\"error_y\":{\"color\":\"#2a3f5f\"},\"marker\":{\"line\":{\"color\":\"#E5ECF6\",\"width\":0.5},\"pattern\":{\"fillmode\":\"overlay\",\"size\":10,\"solidity\":0.2}},\"type\":\"bar\"}],\"scattergeo\":[{\"type\":\"scattergeo\",\"marker\":{\"colorbar\":{\"outlinewidth\":0,\"ticks\":\"\"}}}],\"scatterpolar\":[{\"type\":\"scatterpolar\",\"marker\":{\"colorbar\":{\"outlinewidth\":0,\"ticks\":\"\"}}}],\"histogram\":[{\"marker\":{\"pattern\":{\"fillmode\":\"overlay\",\"size\":10,\"solidity\":0.2}},\"type\":\"histogram\"}],\"scattergl\":[{\"type\":\"scattergl\",\"marker\":{\"colorbar\":{\"outlinewidth\":0,\"ticks\":\"\"}}}],\"scatter3d\":[{\"type\":\"scatter3d\",\"line\":{\"colorbar\":{\"outlinewidth\":0,\"ticks\":\"\"}},\"marker\":{\"colorbar\":{\"outlinewidth\":0,\"ticks\":\"\"}}}],\"scattermapbox\":[{\"type\":\"scattermapbox\",\"marker\":{\"colorbar\":{\"outlinewidth\":0,\"ticks\":\"\"}}}],\"scatterternary\":[{\"type\":\"scatterternary\",\"marker\":{\"colorbar\":{\"outlinewidth\":0,\"ticks\":\"\"}}}],\"scattercarpet\":[{\"type\":\"scattercarpet\",\"marker\":{\"colorbar\":{\"outlinewidth\":0,\"ticks\":\"\"}}}],\"carpet\":[{\"aaxis\":{\"endlinecolor\":\"#2a3f5f\",\"gridcolor\":\"white\",\"linecolor\":\"white\",\"minorgridcolor\":\"white\",\"startlinecolor\":\"#2a3f5f\"},\"baxis\":{\"endlinecolor\":\"#2a3f5f\",\"gridcolor\":\"white\",\"linecolor\":\"white\",\"minorgridcolor\":\"white\",\"startlinecolor\":\"#2a3f5f\"},\"type\":\"carpet\"}],\"table\":[{\"cells\":{\"fill\":{\"color\":\"#EBF0F8\"},\"line\":{\"color\":\"white\"}},\"header\":{\"fill\":{\"color\":\"#C8D4E3\"},\"line\":{\"color\":\"white\"}},\"type\":\"table\"}],\"barpolar\":[{\"marker\":{\"line\":{\"color\":\"#E5ECF6\",\"width\":0.5},\"pattern\":{\"fillmode\":\"overlay\",\"size\":10,\"solidity\":0.2}},\"type\":\"barpolar\"}],\"pie\":[{\"automargin\":true,\"type\":\"pie\"}]},\"layout\":{\"autotypenumbers\":\"strict\",\"colorway\":[\"#636efa\",\"#EF553B\",\"#00cc96\",\"#ab63fa\",\"#FFA15A\",\"#19d3f3\",\"#FF6692\",\"#B6E880\",\"#FF97FF\",\"#FECB52\"],\"font\":{\"color\":\"#2a3f5f\"},\"hovermode\":\"closest\",\"hoverlabel\":{\"align\":\"left\"},\"paper_bgcolor\":\"white\",\"plot_bgcolor\":\"#E5ECF6\",\"polar\":{\"bgcolor\":\"#E5ECF6\",\"angularaxis\":{\"gridcolor\":\"white\",\"linecolor\":\"white\",\"ticks\":\"\"},\"radialaxis\":{\"gridcolor\":\"white\",\"linecolor\":\"white\",\"ticks\":\"\"}},\"ternary\":{\"bgcolor\":\"#E5ECF6\",\"aaxis\":{\"gridcolor\":\"white\",\"linecolor\":\"white\",\"ticks\":\"\"},\"baxis\":{\"gridcolor\":\"white\",\"linecolor\":\"white\",\"ticks\":\"\"},\"caxis\":{\"gridcolor\":\"white\",\"linecolor\":\"white\",\"ticks\":\"\"}},\"coloraxis\":{\"colorbar\":{\"outlinewidth\":0,\"ticks\":\"\"}},\"colorscale\":{\"sequential\":[[0.0,\"#0d0887\"],[0.1111111111111111,\"#46039f\"],[0.2222222222222222,\"#7201a8\"],[0.3333333333333333,\"#9c179e\"],[0.4444444444444444,\"#bd3786\"],[0.5555555555555556,\"#d8576b\"],[0.6666666666666666,\"#ed7953\"],[0.7777777777777778,\"#fb9f3a\"],[0.8888888888888888,\"#fdca26\"],[1.0,\"#f0f921\"]],\"sequentialminus\":[[0.0,\"#0d0887\"],[0.1111111111111111,\"#46039f\"],[0.2222222222222222,\"#7201a8\"],[0.3333333333333333,\"#9c179e\"],[0.4444444444444444,\"#bd3786\"],[0.5555555555555556,\"#d8576b\"],[0.6666666666666666,\"#ed7953\"],[0.7777777777777778,\"#fb9f3a\"],[0.8888888888888888,\"#fdca26\"],[1.0,\"#f0f921\"]],\"diverging\":[[0,\"#8e0152\"],[0.1,\"#c51b7d\"],[0.2,\"#de77ae\"],[0.3,\"#f1b6da\"],[0.4,\"#fde0ef\"],[0.5,\"#f7f7f7\"],[0.6,\"#e6f5d0\"],[0.7,\"#b8e186\"],[0.8,\"#7fbc41\"],[0.9,\"#4d9221\"],[1,\"#276419\"]]},\"xaxis\":{\"gridcolor\":\"white\",\"linecolor\":\"white\",\"ticks\":\"\",\"title\":{\"standoff\":15},\"zerolinecolor\":\"white\",\"automargin\":true,\"zerolinewidth\":2},\"yaxis\":{\"gridcolor\":\"white\",\"linecolor\":\"white\",\"ticks\":\"\",\"title\":{\"standoff\":15},\"zerolinecolor\":\"white\",\"automargin\":true,\"zerolinewidth\":2},\"scene\":{\"xaxis\":{\"backgroundcolor\":\"#E5ECF6\",\"gridcolor\":\"white\",\"linecolor\":\"white\",\"showbackground\":true,\"ticks\":\"\",\"zerolinecolor\":\"white\",\"gridwidth\":2},\"yaxis\":{\"backgroundcolor\":\"#E5ECF6\",\"gridcolor\":\"white\",\"linecolor\":\"white\",\"showbackground\":true,\"ticks\":\"\",\"zerolinecolor\":\"white\",\"gridwidth\":2},\"zaxis\":{\"backgroundcolor\":\"#E5ECF6\",\"gridcolor\":\"white\",\"linecolor\":\"white\",\"showbackground\":true,\"ticks\":\"\",\"zerolinecolor\":\"white\",\"gridwidth\":2}},\"shapedefaults\":{\"line\":{\"color\":\"#2a3f5f\"}},\"annotationdefaults\":{\"arrowcolor\":\"#2a3f5f\",\"arrowhead\":0,\"arrowwidth\":1},\"geo\":{\"bgcolor\":\"white\",\"landcolor\":\"#E5ECF6\",\"subunitcolor\":\"white\",\"showland\":true,\"showlakes\":true,\"lakecolor\":\"white\"},\"title\":{\"x\":0.05},\"mapbox\":{\"style\":\"light\"}}},\"xaxis\":{\"anchor\":\"y\",\"domain\":[0.0,1.0],\"title\":{\"text\":\"title\"}},\"yaxis\":{\"anchor\":\"x\",\"domain\":[0.0,1.0],\"title\":{\"text\":\"total_sales\"}},\"legend\":{\"tracegroupgap\":0},\"title\":{\"text\":\"Top 10 titles by Worldwide sales\"},\"barmode\":\"relative\"},                        {\"responsive\": true}                    ).then(function(){\n",
              "                            \n",
              "var gd = document.getElementById('54d9681e-7400-4c26-a4b9-11bdb9408e39');\n",
              "var x = new MutationObserver(function (mutations, observer) {{\n",
              "        var display = window.getComputedStyle(gd).display;\n",
              "        if (!display || display === 'none') {{\n",
              "            console.log([gd, 'removed!']);\n",
              "            Plotly.purge(gd);\n",
              "            observer.disconnect();\n",
              "        }}\n",
              "}});\n",
              "\n",
              "// Listen for the removal of the full notebook cells\n",
              "var notebookContainer = gd.closest('#notebook-container');\n",
              "if (notebookContainer) {{\n",
              "    x.observe(notebookContainer, {childList: true});\n",
              "}}\n",
              "\n",
              "// Listen for the clearing of the current output cell\n",
              "var outputEl = gd.closest('.output');\n",
              "if (outputEl) {{\n",
              "    x.observe(outputEl, {childList: true});\n",
              "}}\n",
              "\n",
              "                        })                };                            </script>        </div>\n",
              "</body>\n",
              "</html>"
            ]
          },
          "metadata": {}
        }
      ]
    },
    {
      "cell_type": "markdown",
      "source": [
        "#2.WHICH YEAR HAD THE HIGHEST SALES?HAS THE INDUSTRY GROWN OVER TIME?"
      ],
      "metadata": {
        "id": "kfGIWYe1j83W"
      }
    },
    {
      "cell_type": "markdown",
      "source": [
        "The titles 'Grand theft auto 5','call of Duty Black ops' and 'call of Duty : Modern Warfare' had  the highest sales worldwide"
      ],
      "metadata": {
        "id": "WRAFEw5flWuS"
      }
    },
    {
      "cell_type": "code",
      "source": [
        "# Extract the year from the 'release_date' column and create a new column 'release_year'\n",
        "df['release_year'] = pd.to_datetime(df['release_date']).dt.year"
      ],
      "metadata": {
        "id": "cGvX2GL6jkqp"
      },
      "execution_count": null,
      "outputs": []
    },
    {
      "cell_type": "code",
      "source": [
        "# Display the first few rows of the DataFrame to check the data\n",
        "df.head()"
      ],
      "metadata": {
        "id": "EKpg-wNXjksf",
        "colab": {
          "base_uri": "https://localhost:8080/",
          "height": 521
        },
        "outputId": "34ed2610-98ec-41e5-8152-06e160c26e01"
      },
      "execution_count": null,
      "outputs": [
        {
          "output_type": "execute_result",
          "data": {
            "text/plain": [
              "                         title console  genre  publisher       developer  \\\n",
              "0           Grand Theft Auto V     PS3      0       2445  Rockstar North   \n",
              "1           Grand Theft Auto V     PS4      0       2445  Rockstar North   \n",
              "2  Grand Theft Auto: Vice City     PS2      0       2445  Rockstar North   \n",
              "3           Grand Theft Auto V    X360      0       2445  Rockstar North   \n",
              "4    Call of Duty: Black Ops 3     PS4     15        101        Treyarch   \n",
              "\n",
              "   critic_score  total_sales   na_sales  jp_sales  pal_sales  other_sales  \\\n",
              "0           9.4        20.32  12.339666  5.259037       9.85    24.297031   \n",
              "1           9.7        19.39  11.713109  2.948595       9.71    23.507387   \n",
              "2           9.6        16.15  16.462819  2.178447       5.49    13.715799   \n",
              "3           NaN        15.86  17.776569 -0.250480       5.33    10.873079   \n",
              "4           8.1        15.09  11.955647  1.822994       6.05    18.927450   \n",
              "\n",
              "  release_date last_update  avg_sales_per_region  release_year  \n",
              "0   2013-09-17         NaN             13.965245        2013.0  \n",
              "1   2014-11-18  2018-01-03             12.723030        2014.0  \n",
              "2   2002-10-28         NaN             10.785688        2002.0  \n",
              "3   2013-09-17         NaN              9.466389        2013.0  \n",
              "4   2015-11-06  2018-01-14             10.902031        2015.0  "
            ],
            "text/html": [
              "\n",
              "  <div id=\"df-1a88c738-ba70-4d3c-b191-d8792204d4ba\" class=\"colab-df-container\">\n",
              "    <div>\n",
              "<style scoped>\n",
              "    .dataframe tbody tr th:only-of-type {\n",
              "        vertical-align: middle;\n",
              "    }\n",
              "\n",
              "    .dataframe tbody tr th {\n",
              "        vertical-align: top;\n",
              "    }\n",
              "\n",
              "    .dataframe thead th {\n",
              "        text-align: right;\n",
              "    }\n",
              "</style>\n",
              "<table border=\"1\" class=\"dataframe\">\n",
              "  <thead>\n",
              "    <tr style=\"text-align: right;\">\n",
              "      <th></th>\n",
              "      <th>title</th>\n",
              "      <th>console</th>\n",
              "      <th>genre</th>\n",
              "      <th>publisher</th>\n",
              "      <th>developer</th>\n",
              "      <th>critic_score</th>\n",
              "      <th>total_sales</th>\n",
              "      <th>na_sales</th>\n",
              "      <th>jp_sales</th>\n",
              "      <th>pal_sales</th>\n",
              "      <th>other_sales</th>\n",
              "      <th>release_date</th>\n",
              "      <th>last_update</th>\n",
              "      <th>avg_sales_per_region</th>\n",
              "      <th>release_year</th>\n",
              "    </tr>\n",
              "  </thead>\n",
              "  <tbody>\n",
              "    <tr>\n",
              "      <th>0</th>\n",
              "      <td>Grand Theft Auto V</td>\n",
              "      <td>PS3</td>\n",
              "      <td>0</td>\n",
              "      <td>2445</td>\n",
              "      <td>Rockstar North</td>\n",
              "      <td>9.4</td>\n",
              "      <td>20.32</td>\n",
              "      <td>12.339666</td>\n",
              "      <td>5.259037</td>\n",
              "      <td>9.85</td>\n",
              "      <td>24.297031</td>\n",
              "      <td>2013-09-17</td>\n",
              "      <td>NaN</td>\n",
              "      <td>13.965245</td>\n",
              "      <td>2013.0</td>\n",
              "    </tr>\n",
              "    <tr>\n",
              "      <th>1</th>\n",
              "      <td>Grand Theft Auto V</td>\n",
              "      <td>PS4</td>\n",
              "      <td>0</td>\n",
              "      <td>2445</td>\n",
              "      <td>Rockstar North</td>\n",
              "      <td>9.7</td>\n",
              "      <td>19.39</td>\n",
              "      <td>11.713109</td>\n",
              "      <td>2.948595</td>\n",
              "      <td>9.71</td>\n",
              "      <td>23.507387</td>\n",
              "      <td>2014-11-18</td>\n",
              "      <td>2018-01-03</td>\n",
              "      <td>12.723030</td>\n",
              "      <td>2014.0</td>\n",
              "    </tr>\n",
              "    <tr>\n",
              "      <th>2</th>\n",
              "      <td>Grand Theft Auto: Vice City</td>\n",
              "      <td>PS2</td>\n",
              "      <td>0</td>\n",
              "      <td>2445</td>\n",
              "      <td>Rockstar North</td>\n",
              "      <td>9.6</td>\n",
              "      <td>16.15</td>\n",
              "      <td>16.462819</td>\n",
              "      <td>2.178447</td>\n",
              "      <td>5.49</td>\n",
              "      <td>13.715799</td>\n",
              "      <td>2002-10-28</td>\n",
              "      <td>NaN</td>\n",
              "      <td>10.785688</td>\n",
              "      <td>2002.0</td>\n",
              "    </tr>\n",
              "    <tr>\n",
              "      <th>3</th>\n",
              "      <td>Grand Theft Auto V</td>\n",
              "      <td>X360</td>\n",
              "      <td>0</td>\n",
              "      <td>2445</td>\n",
              "      <td>Rockstar North</td>\n",
              "      <td>NaN</td>\n",
              "      <td>15.86</td>\n",
              "      <td>17.776569</td>\n",
              "      <td>-0.250480</td>\n",
              "      <td>5.33</td>\n",
              "      <td>10.873079</td>\n",
              "      <td>2013-09-17</td>\n",
              "      <td>NaN</td>\n",
              "      <td>9.466389</td>\n",
              "      <td>2013.0</td>\n",
              "    </tr>\n",
              "    <tr>\n",
              "      <th>4</th>\n",
              "      <td>Call of Duty: Black Ops 3</td>\n",
              "      <td>PS4</td>\n",
              "      <td>15</td>\n",
              "      <td>101</td>\n",
              "      <td>Treyarch</td>\n",
              "      <td>8.1</td>\n",
              "      <td>15.09</td>\n",
              "      <td>11.955647</td>\n",
              "      <td>1.822994</td>\n",
              "      <td>6.05</td>\n",
              "      <td>18.927450</td>\n",
              "      <td>2015-11-06</td>\n",
              "      <td>2018-01-14</td>\n",
              "      <td>10.902031</td>\n",
              "      <td>2015.0</td>\n",
              "    </tr>\n",
              "  </tbody>\n",
              "</table>\n",
              "</div>\n",
              "    <div class=\"colab-df-buttons\">\n",
              "\n",
              "  <div class=\"colab-df-container\">\n",
              "    <button class=\"colab-df-convert\" onclick=\"convertToInteractive('df-1a88c738-ba70-4d3c-b191-d8792204d4ba')\"\n",
              "            title=\"Convert this dataframe to an interactive table.\"\n",
              "            style=\"display:none;\">\n",
              "\n",
              "  <svg xmlns=\"http://www.w3.org/2000/svg\" height=\"24px\" viewBox=\"0 -960 960 960\">\n",
              "    <path d=\"M120-120v-720h720v720H120Zm60-500h600v-160H180v160Zm220 220h160v-160H400v160Zm0 220h160v-160H400v160ZM180-400h160v-160H180v160Zm440 0h160v-160H620v160ZM180-180h160v-160H180v160Zm440 0h160v-160H620v160Z\"/>\n",
              "  </svg>\n",
              "    </button>\n",
              "\n",
              "  <style>\n",
              "    .colab-df-container {\n",
              "      display:flex;\n",
              "      gap: 12px;\n",
              "    }\n",
              "\n",
              "    .colab-df-convert {\n",
              "      background-color: #E8F0FE;\n",
              "      border: none;\n",
              "      border-radius: 50%;\n",
              "      cursor: pointer;\n",
              "      display: none;\n",
              "      fill: #1967D2;\n",
              "      height: 32px;\n",
              "      padding: 0 0 0 0;\n",
              "      width: 32px;\n",
              "    }\n",
              "\n",
              "    .colab-df-convert:hover {\n",
              "      background-color: #E2EBFA;\n",
              "      box-shadow: 0px 1px 2px rgba(60, 64, 67, 0.3), 0px 1px 3px 1px rgba(60, 64, 67, 0.15);\n",
              "      fill: #174EA6;\n",
              "    }\n",
              "\n",
              "    .colab-df-buttons div {\n",
              "      margin-bottom: 4px;\n",
              "    }\n",
              "\n",
              "    [theme=dark] .colab-df-convert {\n",
              "      background-color: #3B4455;\n",
              "      fill: #D2E3FC;\n",
              "    }\n",
              "\n",
              "    [theme=dark] .colab-df-convert:hover {\n",
              "      background-color: #434B5C;\n",
              "      box-shadow: 0px 1px 3px 1px rgba(0, 0, 0, 0.15);\n",
              "      filter: drop-shadow(0px 1px 2px rgba(0, 0, 0, 0.3));\n",
              "      fill: #FFFFFF;\n",
              "    }\n",
              "  </style>\n",
              "\n",
              "    <script>\n",
              "      const buttonEl =\n",
              "        document.querySelector('#df-1a88c738-ba70-4d3c-b191-d8792204d4ba button.colab-df-convert');\n",
              "      buttonEl.style.display =\n",
              "        google.colab.kernel.accessAllowed ? 'block' : 'none';\n",
              "\n",
              "      async function convertToInteractive(key) {\n",
              "        const element = document.querySelector('#df-1a88c738-ba70-4d3c-b191-d8792204d4ba');\n",
              "        const dataTable =\n",
              "          await google.colab.kernel.invokeFunction('convertToInteractive',\n",
              "                                                    [key], {});\n",
              "        if (!dataTable) return;\n",
              "\n",
              "        const docLinkHtml = 'Like what you see? Visit the ' +\n",
              "          '<a target=\"_blank\" href=https://colab.research.google.com/notebooks/data_table.ipynb>data table notebook</a>'\n",
              "          + ' to learn more about interactive tables.';\n",
              "        element.innerHTML = '';\n",
              "        dataTable['output_type'] = 'display_data';\n",
              "        await google.colab.output.renderOutput(dataTable, element);\n",
              "        const docLink = document.createElement('div');\n",
              "        docLink.innerHTML = docLinkHtml;\n",
              "        element.appendChild(docLink);\n",
              "      }\n",
              "    </script>\n",
              "  </div>\n",
              "\n",
              "\n",
              "<div id=\"df-6dbabe48-b40e-4574-9949-4bd5c6a52672\">\n",
              "  <button class=\"colab-df-quickchart\" onclick=\"quickchart('df-6dbabe48-b40e-4574-9949-4bd5c6a52672')\"\n",
              "            title=\"Suggest charts\"\n",
              "            style=\"display:none;\">\n",
              "\n",
              "<svg xmlns=\"http://www.w3.org/2000/svg\" height=\"24px\"viewBox=\"0 0 24 24\"\n",
              "     width=\"24px\">\n",
              "    <g>\n",
              "        <path d=\"M19 3H5c-1.1 0-2 .9-2 2v14c0 1.1.9 2 2 2h14c1.1 0 2-.9 2-2V5c0-1.1-.9-2-2-2zM9 17H7v-7h2v7zm4 0h-2V7h2v10zm4 0h-2v-4h2v4z\"/>\n",
              "    </g>\n",
              "</svg>\n",
              "  </button>\n",
              "\n",
              "<style>\n",
              "  .colab-df-quickchart {\n",
              "      --bg-color: #E8F0FE;\n",
              "      --fill-color: #1967D2;\n",
              "      --hover-bg-color: #E2EBFA;\n",
              "      --hover-fill-color: #174EA6;\n",
              "      --disabled-fill-color: #AAA;\n",
              "      --disabled-bg-color: #DDD;\n",
              "  }\n",
              "\n",
              "  [theme=dark] .colab-df-quickchart {\n",
              "      --bg-color: #3B4455;\n",
              "      --fill-color: #D2E3FC;\n",
              "      --hover-bg-color: #434B5C;\n",
              "      --hover-fill-color: #FFFFFF;\n",
              "      --disabled-bg-color: #3B4455;\n",
              "      --disabled-fill-color: #666;\n",
              "  }\n",
              "\n",
              "  .colab-df-quickchart {\n",
              "    background-color: var(--bg-color);\n",
              "    border: none;\n",
              "    border-radius: 50%;\n",
              "    cursor: pointer;\n",
              "    display: none;\n",
              "    fill: var(--fill-color);\n",
              "    height: 32px;\n",
              "    padding: 0;\n",
              "    width: 32px;\n",
              "  }\n",
              "\n",
              "  .colab-df-quickchart:hover {\n",
              "    background-color: var(--hover-bg-color);\n",
              "    box-shadow: 0 1px 2px rgba(60, 64, 67, 0.3), 0 1px 3px 1px rgba(60, 64, 67, 0.15);\n",
              "    fill: var(--button-hover-fill-color);\n",
              "  }\n",
              "\n",
              "  .colab-df-quickchart-complete:disabled,\n",
              "  .colab-df-quickchart-complete:disabled:hover {\n",
              "    background-color: var(--disabled-bg-color);\n",
              "    fill: var(--disabled-fill-color);\n",
              "    box-shadow: none;\n",
              "  }\n",
              "\n",
              "  .colab-df-spinner {\n",
              "    border: 2px solid var(--fill-color);\n",
              "    border-color: transparent;\n",
              "    border-bottom-color: var(--fill-color);\n",
              "    animation:\n",
              "      spin 1s steps(1) infinite;\n",
              "  }\n",
              "\n",
              "  @keyframes spin {\n",
              "    0% {\n",
              "      border-color: transparent;\n",
              "      border-bottom-color: var(--fill-color);\n",
              "      border-left-color: var(--fill-color);\n",
              "    }\n",
              "    20% {\n",
              "      border-color: transparent;\n",
              "      border-left-color: var(--fill-color);\n",
              "      border-top-color: var(--fill-color);\n",
              "    }\n",
              "    30% {\n",
              "      border-color: transparent;\n",
              "      border-left-color: var(--fill-color);\n",
              "      border-top-color: var(--fill-color);\n",
              "      border-right-color: var(--fill-color);\n",
              "    }\n",
              "    40% {\n",
              "      border-color: transparent;\n",
              "      border-right-color: var(--fill-color);\n",
              "      border-top-color: var(--fill-color);\n",
              "    }\n",
              "    60% {\n",
              "      border-color: transparent;\n",
              "      border-right-color: var(--fill-color);\n",
              "    }\n",
              "    80% {\n",
              "      border-color: transparent;\n",
              "      border-right-color: var(--fill-color);\n",
              "      border-bottom-color: var(--fill-color);\n",
              "    }\n",
              "    90% {\n",
              "      border-color: transparent;\n",
              "      border-bottom-color: var(--fill-color);\n",
              "    }\n",
              "  }\n",
              "</style>\n",
              "\n",
              "  <script>\n",
              "    async function quickchart(key) {\n",
              "      const quickchartButtonEl =\n",
              "        document.querySelector('#' + key + ' button');\n",
              "      quickchartButtonEl.disabled = true;  // To prevent multiple clicks.\n",
              "      quickchartButtonEl.classList.add('colab-df-spinner');\n",
              "      try {\n",
              "        const charts = await google.colab.kernel.invokeFunction(\n",
              "            'suggestCharts', [key], {});\n",
              "      } catch (error) {\n",
              "        console.error('Error during call to suggestCharts:', error);\n",
              "      }\n",
              "      quickchartButtonEl.classList.remove('colab-df-spinner');\n",
              "      quickchartButtonEl.classList.add('colab-df-quickchart-complete');\n",
              "    }\n",
              "    (() => {\n",
              "      let quickchartButtonEl =\n",
              "        document.querySelector('#df-6dbabe48-b40e-4574-9949-4bd5c6a52672 button');\n",
              "      quickchartButtonEl.style.display =\n",
              "        google.colab.kernel.accessAllowed ? 'block' : 'none';\n",
              "    })();\n",
              "  </script>\n",
              "</div>\n",
              "\n",
              "    </div>\n",
              "  </div>\n"
            ],
            "application/vnd.google.colaboratory.intrinsic+json": {
              "type": "dataframe",
              "variable_name": "df",
              "summary": "{\n  \"name\": \"df\",\n  \"rows\": 63998,\n  \"fields\": [\n    {\n      \"column\": \"title\",\n      \"properties\": {\n        \"dtype\": \"string\",\n        \"num_unique_values\": 39798,\n        \"samples\": [\n          \"Sokukoku no Kusabi: Hiiro no Kakera 3 Portable\",\n          \"Fit in Six\",\n          \"Destination Earthstar\"\n        ],\n        \"semantic_type\": \"\",\n        \"description\": \"\"\n      }\n    },\n    {\n      \"column\": \"console\",\n      \"properties\": {\n        \"dtype\": \"category\",\n        \"num_unique_values\": 81,\n        \"samples\": [\n          \"WW\",\n          \"PS3\",\n          \"GC\"\n        ],\n        \"semantic_type\": \"\",\n        \"description\": \"\"\n      }\n    },\n    {\n      \"column\": \"genre\",\n      \"properties\": {\n        \"dtype\": \"number\",\n        \"std\": 6,\n        \"min\": 0,\n        \"max\": 19,\n        \"num_unique_values\": 20,\n        \"samples\": [\n          0,\n          4,\n          14\n        ],\n        \"semantic_type\": \"\",\n        \"description\": \"\"\n      }\n    },\n    {\n      \"column\": \"publisher\",\n      \"properties\": {\n        \"dtype\": \"number\",\n        \"std\": 1042,\n        \"min\": 0,\n        \"max\": 3382,\n        \"num_unique_values\": 3383,\n        \"samples\": [\n          2219,\n          2963,\n          1553\n        ],\n        \"semantic_type\": \"\",\n        \"description\": \"\"\n      }\n    },\n    {\n      \"column\": \"developer\",\n      \"properties\": {\n        \"dtype\": \"category\",\n        \"num_unique_values\": 8862,\n        \"samples\": [\n          \"niceplay games\",\n          \"Cobra Mobile\",\n          \"Probe Software\"\n        ],\n        \"semantic_type\": \"\",\n        \"description\": \"\"\n      }\n    },\n    {\n      \"column\": \"critic_score\",\n      \"properties\": {\n        \"dtype\": \"number\",\n        \"std\": 1.4570656379948146,\n        \"min\": 1.0,\n        \"max\": 10.0,\n        \"num_unique_values\": 89,\n        \"samples\": [\n          6.0,\n          5.0,\n          6.8\n        ],\n        \"semantic_type\": \"\",\n        \"description\": \"\"\n      }\n    },\n    {\n      \"column\": \"total_sales\",\n      \"properties\": {\n        \"dtype\": \"number\",\n        \"std\": 0.8075169604128118,\n        \"min\": 0.0,\n        \"max\": 20.32,\n        \"num_unique_values\": 482,\n        \"samples\": [\n          0.65,\n          0.09,\n          3.11\n        ],\n        \"semantic_type\": \"\",\n        \"description\": \"\"\n      }\n    },\n    {\n      \"column\": \"na_sales\",\n      \"properties\": {\n        \"dtype\": \"number\",\n        \"std\": 1.0000395687011663,\n        \"min\": -0.5350802275202571,\n        \"max\": 19.19137611747043,\n        \"num_unique_values\": 320,\n        \"samples\": [\n          4.376322325587056,\n          4.275264659885258,\n          1.162688556269925\n        ],\n        \"semantic_type\": \"\",\n        \"description\": \"\"\n      }\n    },\n    {\n      \"column\": \"jp_sales\",\n      \"properties\": {\n        \"dtype\": \"number\",\n        \"std\": 0.9994649021285594,\n        \"min\": -0.6059325384052195,\n        \"max\": 12.012638557268485,\n        \"num_unique_values\": 121,\n        \"samples\": [\n          -0.6059325384052195,\n          2.889352412978577,\n          1.8229942922174185\n        ],\n        \"semantic_type\": \"\",\n        \"description\": \"\"\n      }\n    },\n    {\n      \"column\": \"pal_sales\",\n      \"properties\": {\n        \"dtype\": \"number\",\n        \"std\": 0.3926526251894178,\n        \"min\": 0.0,\n        \"max\": 9.85,\n        \"num_unique_values\": 256,\n        \"samples\": [\n          1.0,\n          3.73,\n          1.38\n        ],\n        \"semantic_type\": \"\",\n        \"description\": \"\"\n      }\n    },\n    {\n      \"column\": \"other_sales\",\n      \"properties\": {\n        \"dtype\": \"number\",\n        \"std\": 1.0000330529341237,\n        \"min\": -0.3398685524905771,\n        \"max\": 24.29703119207517,\n        \"num_unique_values\": 133,\n        \"samples\": [\n          1.4763131594485643,\n          4.871783316552177,\n          13.399940920440319\n        ],\n        \"semantic_type\": \"\",\n        \"description\": \"\"\n      }\n    },\n    {\n      \"column\": \"release_date\",\n      \"properties\": {\n        \"dtype\": \"object\",\n        \"num_unique_values\": 7922,\n        \"samples\": [\n          \"2020-10-22\",\n          \"2004-09-21\",\n          \"2006-04-28\"\n        ],\n        \"semantic_type\": \"\",\n        \"description\": \"\"\n      }\n    },\n    {\n      \"column\": \"last_update\",\n      \"properties\": {\n        \"dtype\": \"date\",\n        \"min\": \"2017-11-28 00:00:00\",\n        \"max\": \"2024-01-28 00:00:00\",\n        \"num_unique_values\": 1545,\n        \"samples\": [\n          \"2023-11-04\",\n          \"2020-02-13\",\n          \"2019-01-08\"\n        ],\n        \"semantic_type\": \"\",\n        \"description\": \"\"\n      }\n    },\n    {\n      \"column\": \"avg_sales_per_region\",\n      \"properties\": {\n        \"dtype\": \"number\",\n        \"std\": 0.7402434479068852,\n        \"min\": -0.6059325384052195,\n        \"max\": 13.965244900248315,\n        \"num_unique_values\": 3771,\n        \"samples\": [\n          1.4227077195986342,\n          -0.05931089913659357,\n          -0.3127533629763046\n        ],\n        \"semantic_type\": \"\",\n        \"description\": \"\"\n      }\n    },\n    {\n      \"column\": \"release_year\",\n      \"properties\": {\n        \"dtype\": \"number\",\n        \"std\": 8.617921617457853,\n        \"min\": 1971.0,\n        \"max\": 2024.0,\n        \"num_unique_values\": 51,\n        \"samples\": [\n          1979.0,\n          1984.0,\n          2021.0\n        ],\n        \"semantic_type\": \"\",\n        \"description\": \"\"\n      }\n    }\n  ]\n}"
            }
          },
          "metadata": {},
          "execution_count": 174
        }
      ]
    },
    {
      "cell_type": "code",
      "source": [
        "# Group the data by 'release_year' and calculate the sum of 'total_sales' for each year\n",
        "sales_by_year = df.groupby('release_year')['total_sales'].sum().reset_index()\n",
        "\n",
        "\n",
        "# Sort the 'sales_by_year' DataFrame by 'total_sales' in descending order\n",
        "sales_by_year_sort = sales_by_year.sort_values(by = 'total_sales', ascending=False)"
      ],
      "metadata": {
        "id": "hVlxNb3wjku3"
      },
      "execution_count": null,
      "outputs": []
    },
    {
      "cell_type": "code",
      "source": [
        "# Now you can create the bar plot\n",
        "# Create a bar chart displaying the top 10 years by worldwide sales\n",
        "px.bar(sales_by_year_sort.head(10), x='release_year', y='total_sales', title='Top 10 Years by Worldwide Sales')"
      ],
      "metadata": {
        "id": "TNrCfSlZjkxf",
        "colab": {
          "base_uri": "https://localhost:8080/",
          "height": 542
        },
        "outputId": "664a0d61-d075-4238-a8cd-86b8aebf6d73"
      },
      "execution_count": null,
      "outputs": [
        {
          "output_type": "display_data",
          "data": {
            "text/html": [
              "<html>\n",
              "<head><meta charset=\"utf-8\" /></head>\n",
              "<body>\n",
              "    <div>            <script src=\"https://cdnjs.cloudflare.com/ajax/libs/mathjax/2.7.5/MathJax.js?config=TeX-AMS-MML_SVG\"></script><script type=\"text/javascript\">if (window.MathJax && window.MathJax.Hub && window.MathJax.Hub.Config) {window.MathJax.Hub.Config({SVG: {font: \"STIX-Web\"}});}</script>                <script type=\"text/javascript\">window.PlotlyConfig = {MathJaxConfig: 'local'};</script>\n",
              "        <script charset=\"utf-8\" src=\"https://cdn.plot.ly/plotly-2.35.2.min.js\"></script>                <div id=\"5562b732-9400-4e3a-aafd-acd73af9fa70\" class=\"plotly-graph-div\" style=\"height:525px; width:100%;\"></div>            <script type=\"text/javascript\">                                    window.PLOTLYENV=window.PLOTLYENV || {};                                    if (document.getElementById(\"5562b732-9400-4e3a-aafd-acd73af9fa70\")) {                    Plotly.newPlot(                        \"5562b732-9400-4e3a-aafd-acd73af9fa70\",                        [{\"alignmentgroup\":\"True\",\"hovertemplate\":\"release_year=%{x}\\u003cbr\\u003etotal_sales=%{y}\\u003cextra\\u003e\\u003c\\u002fextra\\u003e\",\"legendgroup\":\"\",\"marker\":{\"color\":\"#636efa\",\"pattern\":{\"shape\":\"\"}},\"name\":\"\",\"offsetgroup\":\"\",\"orientation\":\"v\",\"showlegend\":false,\"textposition\":\"auto\",\"x\":[2008.0,2009.0,2010.0,2011.0,2007.0,2002.0,2005.0,2003.0,2014.0,2012.0],\"xaxis\":\"x\",\"y\":[538.09,495.36,454.02,440.32,436.39,314.5,313.48,300.89,292.11,285.47],\"yaxis\":\"y\",\"type\":\"bar\"}],                        {\"template\":{\"data\":{\"histogram2dcontour\":[{\"type\":\"histogram2dcontour\",\"colorbar\":{\"outlinewidth\":0,\"ticks\":\"\"},\"colorscale\":[[0.0,\"#0d0887\"],[0.1111111111111111,\"#46039f\"],[0.2222222222222222,\"#7201a8\"],[0.3333333333333333,\"#9c179e\"],[0.4444444444444444,\"#bd3786\"],[0.5555555555555556,\"#d8576b\"],[0.6666666666666666,\"#ed7953\"],[0.7777777777777778,\"#fb9f3a\"],[0.8888888888888888,\"#fdca26\"],[1.0,\"#f0f921\"]]}],\"choropleth\":[{\"type\":\"choropleth\",\"colorbar\":{\"outlinewidth\":0,\"ticks\":\"\"}}],\"histogram2d\":[{\"type\":\"histogram2d\",\"colorbar\":{\"outlinewidth\":0,\"ticks\":\"\"},\"colorscale\":[[0.0,\"#0d0887\"],[0.1111111111111111,\"#46039f\"],[0.2222222222222222,\"#7201a8\"],[0.3333333333333333,\"#9c179e\"],[0.4444444444444444,\"#bd3786\"],[0.5555555555555556,\"#d8576b\"],[0.6666666666666666,\"#ed7953\"],[0.7777777777777778,\"#fb9f3a\"],[0.8888888888888888,\"#fdca26\"],[1.0,\"#f0f921\"]]}],\"heatmap\":[{\"type\":\"heatmap\",\"colorbar\":{\"outlinewidth\":0,\"ticks\":\"\"},\"colorscale\":[[0.0,\"#0d0887\"],[0.1111111111111111,\"#46039f\"],[0.2222222222222222,\"#7201a8\"],[0.3333333333333333,\"#9c179e\"],[0.4444444444444444,\"#bd3786\"],[0.5555555555555556,\"#d8576b\"],[0.6666666666666666,\"#ed7953\"],[0.7777777777777778,\"#fb9f3a\"],[0.8888888888888888,\"#fdca26\"],[1.0,\"#f0f921\"]]}],\"heatmapgl\":[{\"type\":\"heatmapgl\",\"colorbar\":{\"outlinewidth\":0,\"ticks\":\"\"},\"colorscale\":[[0.0,\"#0d0887\"],[0.1111111111111111,\"#46039f\"],[0.2222222222222222,\"#7201a8\"],[0.3333333333333333,\"#9c179e\"],[0.4444444444444444,\"#bd3786\"],[0.5555555555555556,\"#d8576b\"],[0.6666666666666666,\"#ed7953\"],[0.7777777777777778,\"#fb9f3a\"],[0.8888888888888888,\"#fdca26\"],[1.0,\"#f0f921\"]]}],\"contourcarpet\":[{\"type\":\"contourcarpet\",\"colorbar\":{\"outlinewidth\":0,\"ticks\":\"\"}}],\"contour\":[{\"type\":\"contour\",\"colorbar\":{\"outlinewidth\":0,\"ticks\":\"\"},\"colorscale\":[[0.0,\"#0d0887\"],[0.1111111111111111,\"#46039f\"],[0.2222222222222222,\"#7201a8\"],[0.3333333333333333,\"#9c179e\"],[0.4444444444444444,\"#bd3786\"],[0.5555555555555556,\"#d8576b\"],[0.6666666666666666,\"#ed7953\"],[0.7777777777777778,\"#fb9f3a\"],[0.8888888888888888,\"#fdca26\"],[1.0,\"#f0f921\"]]}],\"surface\":[{\"type\":\"surface\",\"colorbar\":{\"outlinewidth\":0,\"ticks\":\"\"},\"colorscale\":[[0.0,\"#0d0887\"],[0.1111111111111111,\"#46039f\"],[0.2222222222222222,\"#7201a8\"],[0.3333333333333333,\"#9c179e\"],[0.4444444444444444,\"#bd3786\"],[0.5555555555555556,\"#d8576b\"],[0.6666666666666666,\"#ed7953\"],[0.7777777777777778,\"#fb9f3a\"],[0.8888888888888888,\"#fdca26\"],[1.0,\"#f0f921\"]]}],\"mesh3d\":[{\"type\":\"mesh3d\",\"colorbar\":{\"outlinewidth\":0,\"ticks\":\"\"}}],\"scatter\":[{\"fillpattern\":{\"fillmode\":\"overlay\",\"size\":10,\"solidity\":0.2},\"type\":\"scatter\"}],\"parcoords\":[{\"type\":\"parcoords\",\"line\":{\"colorbar\":{\"outlinewidth\":0,\"ticks\":\"\"}}}],\"scatterpolargl\":[{\"type\":\"scatterpolargl\",\"marker\":{\"colorbar\":{\"outlinewidth\":0,\"ticks\":\"\"}}}],\"bar\":[{\"error_x\":{\"color\":\"#2a3f5f\"},\"error_y\":{\"color\":\"#2a3f5f\"},\"marker\":{\"line\":{\"color\":\"#E5ECF6\",\"width\":0.5},\"pattern\":{\"fillmode\":\"overlay\",\"size\":10,\"solidity\":0.2}},\"type\":\"bar\"}],\"scattergeo\":[{\"type\":\"scattergeo\",\"marker\":{\"colorbar\":{\"outlinewidth\":0,\"ticks\":\"\"}}}],\"scatterpolar\":[{\"type\":\"scatterpolar\",\"marker\":{\"colorbar\":{\"outlinewidth\":0,\"ticks\":\"\"}}}],\"histogram\":[{\"marker\":{\"pattern\":{\"fillmode\":\"overlay\",\"size\":10,\"solidity\":0.2}},\"type\":\"histogram\"}],\"scattergl\":[{\"type\":\"scattergl\",\"marker\":{\"colorbar\":{\"outlinewidth\":0,\"ticks\":\"\"}}}],\"scatter3d\":[{\"type\":\"scatter3d\",\"line\":{\"colorbar\":{\"outlinewidth\":0,\"ticks\":\"\"}},\"marker\":{\"colorbar\":{\"outlinewidth\":0,\"ticks\":\"\"}}}],\"scattermapbox\":[{\"type\":\"scattermapbox\",\"marker\":{\"colorbar\":{\"outlinewidth\":0,\"ticks\":\"\"}}}],\"scatterternary\":[{\"type\":\"scatterternary\",\"marker\":{\"colorbar\":{\"outlinewidth\":0,\"ticks\":\"\"}}}],\"scattercarpet\":[{\"type\":\"scattercarpet\",\"marker\":{\"colorbar\":{\"outlinewidth\":0,\"ticks\":\"\"}}}],\"carpet\":[{\"aaxis\":{\"endlinecolor\":\"#2a3f5f\",\"gridcolor\":\"white\",\"linecolor\":\"white\",\"minorgridcolor\":\"white\",\"startlinecolor\":\"#2a3f5f\"},\"baxis\":{\"endlinecolor\":\"#2a3f5f\",\"gridcolor\":\"white\",\"linecolor\":\"white\",\"minorgridcolor\":\"white\",\"startlinecolor\":\"#2a3f5f\"},\"type\":\"carpet\"}],\"table\":[{\"cells\":{\"fill\":{\"color\":\"#EBF0F8\"},\"line\":{\"color\":\"white\"}},\"header\":{\"fill\":{\"color\":\"#C8D4E3\"},\"line\":{\"color\":\"white\"}},\"type\":\"table\"}],\"barpolar\":[{\"marker\":{\"line\":{\"color\":\"#E5ECF6\",\"width\":0.5},\"pattern\":{\"fillmode\":\"overlay\",\"size\":10,\"solidity\":0.2}},\"type\":\"barpolar\"}],\"pie\":[{\"automargin\":true,\"type\":\"pie\"}]},\"layout\":{\"autotypenumbers\":\"strict\",\"colorway\":[\"#636efa\",\"#EF553B\",\"#00cc96\",\"#ab63fa\",\"#FFA15A\",\"#19d3f3\",\"#FF6692\",\"#B6E880\",\"#FF97FF\",\"#FECB52\"],\"font\":{\"color\":\"#2a3f5f\"},\"hovermode\":\"closest\",\"hoverlabel\":{\"align\":\"left\"},\"paper_bgcolor\":\"white\",\"plot_bgcolor\":\"#E5ECF6\",\"polar\":{\"bgcolor\":\"#E5ECF6\",\"angularaxis\":{\"gridcolor\":\"white\",\"linecolor\":\"white\",\"ticks\":\"\"},\"radialaxis\":{\"gridcolor\":\"white\",\"linecolor\":\"white\",\"ticks\":\"\"}},\"ternary\":{\"bgcolor\":\"#E5ECF6\",\"aaxis\":{\"gridcolor\":\"white\",\"linecolor\":\"white\",\"ticks\":\"\"},\"baxis\":{\"gridcolor\":\"white\",\"linecolor\":\"white\",\"ticks\":\"\"},\"caxis\":{\"gridcolor\":\"white\",\"linecolor\":\"white\",\"ticks\":\"\"}},\"coloraxis\":{\"colorbar\":{\"outlinewidth\":0,\"ticks\":\"\"}},\"colorscale\":{\"sequential\":[[0.0,\"#0d0887\"],[0.1111111111111111,\"#46039f\"],[0.2222222222222222,\"#7201a8\"],[0.3333333333333333,\"#9c179e\"],[0.4444444444444444,\"#bd3786\"],[0.5555555555555556,\"#d8576b\"],[0.6666666666666666,\"#ed7953\"],[0.7777777777777778,\"#fb9f3a\"],[0.8888888888888888,\"#fdca26\"],[1.0,\"#f0f921\"]],\"sequentialminus\":[[0.0,\"#0d0887\"],[0.1111111111111111,\"#46039f\"],[0.2222222222222222,\"#7201a8\"],[0.3333333333333333,\"#9c179e\"],[0.4444444444444444,\"#bd3786\"],[0.5555555555555556,\"#d8576b\"],[0.6666666666666666,\"#ed7953\"],[0.7777777777777778,\"#fb9f3a\"],[0.8888888888888888,\"#fdca26\"],[1.0,\"#f0f921\"]],\"diverging\":[[0,\"#8e0152\"],[0.1,\"#c51b7d\"],[0.2,\"#de77ae\"],[0.3,\"#f1b6da\"],[0.4,\"#fde0ef\"],[0.5,\"#f7f7f7\"],[0.6,\"#e6f5d0\"],[0.7,\"#b8e186\"],[0.8,\"#7fbc41\"],[0.9,\"#4d9221\"],[1,\"#276419\"]]},\"xaxis\":{\"gridcolor\":\"white\",\"linecolor\":\"white\",\"ticks\":\"\",\"title\":{\"standoff\":15},\"zerolinecolor\":\"white\",\"automargin\":true,\"zerolinewidth\":2},\"yaxis\":{\"gridcolor\":\"white\",\"linecolor\":\"white\",\"ticks\":\"\",\"title\":{\"standoff\":15},\"zerolinecolor\":\"white\",\"automargin\":true,\"zerolinewidth\":2},\"scene\":{\"xaxis\":{\"backgroundcolor\":\"#E5ECF6\",\"gridcolor\":\"white\",\"linecolor\":\"white\",\"showbackground\":true,\"ticks\":\"\",\"zerolinecolor\":\"white\",\"gridwidth\":2},\"yaxis\":{\"backgroundcolor\":\"#E5ECF6\",\"gridcolor\":\"white\",\"linecolor\":\"white\",\"showbackground\":true,\"ticks\":\"\",\"zerolinecolor\":\"white\",\"gridwidth\":2},\"zaxis\":{\"backgroundcolor\":\"#E5ECF6\",\"gridcolor\":\"white\",\"linecolor\":\"white\",\"showbackground\":true,\"ticks\":\"\",\"zerolinecolor\":\"white\",\"gridwidth\":2}},\"shapedefaults\":{\"line\":{\"color\":\"#2a3f5f\"}},\"annotationdefaults\":{\"arrowcolor\":\"#2a3f5f\",\"arrowhead\":0,\"arrowwidth\":1},\"geo\":{\"bgcolor\":\"white\",\"landcolor\":\"#E5ECF6\",\"subunitcolor\":\"white\",\"showland\":true,\"showlakes\":true,\"lakecolor\":\"white\"},\"title\":{\"x\":0.05},\"mapbox\":{\"style\":\"light\"}}},\"xaxis\":{\"anchor\":\"y\",\"domain\":[0.0,1.0],\"title\":{\"text\":\"release_year\"}},\"yaxis\":{\"anchor\":\"x\",\"domain\":[0.0,1.0],\"title\":{\"text\":\"total_sales\"}},\"legend\":{\"tracegroupgap\":0},\"title\":{\"text\":\"Top 10 Years by Worldwide Sales\"},\"barmode\":\"relative\"},                        {\"responsive\": true}                    ).then(function(){\n",
              "                            \n",
              "var gd = document.getElementById('5562b732-9400-4e3a-aafd-acd73af9fa70');\n",
              "var x = new MutationObserver(function (mutations, observer) {{\n",
              "        var display = window.getComputedStyle(gd).display;\n",
              "        if (!display || display === 'none') {{\n",
              "            console.log([gd, 'removed!']);\n",
              "            Plotly.purge(gd);\n",
              "            observer.disconnect();\n",
              "        }}\n",
              "}});\n",
              "\n",
              "// Listen for the removal of the full notebook cells\n",
              "var notebookContainer = gd.closest('#notebook-container');\n",
              "if (notebookContainer) {{\n",
              "    x.observe(notebookContainer, {childList: true});\n",
              "}}\n",
              "\n",
              "// Listen for the clearing of the current output cell\n",
              "var outputEl = gd.closest('.output');\n",
              "if (outputEl) {{\n",
              "    x.observe(outputEl, {childList: true});\n",
              "}}\n",
              "\n",
              "                        })                };                            </script>        </div>\n",
              "</body>\n",
              "</html>"
            ]
          },
          "metadata": {}
        }
      ]
    },
    {
      "cell_type": "markdown",
      "source": [
        "Conclusion : The year 2008 has made the hear 2009 highest sales worldwide followed by the year 2009"
      ],
      "metadata": {
        "id": "UK0OsFkNq1Q-"
      }
    },
    {
      "cell_type": "code",
      "source": [
        "# Create a line chart displaying the global sales trend over the years\n",
        "px.line(sales_by_year, x = 'release_year', y = 'total_sales', title = 'Global Sales Trend over years')"
      ],
      "metadata": {
        "id": "MEomANH0jk0S",
        "colab": {
          "base_uri": "https://localhost:8080/",
          "height": 542
        },
        "outputId": "ec59eb22-9b29-4c35-f009-5bc251727fba"
      },
      "execution_count": null,
      "outputs": [
        {
          "output_type": "display_data",
          "data": {
            "text/html": [
              "<html>\n",
              "<head><meta charset=\"utf-8\" /></head>\n",
              "<body>\n",
              "    <div>            <script src=\"https://cdnjs.cloudflare.com/ajax/libs/mathjax/2.7.5/MathJax.js?config=TeX-AMS-MML_SVG\"></script><script type=\"text/javascript\">if (window.MathJax && window.MathJax.Hub && window.MathJax.Hub.Config) {window.MathJax.Hub.Config({SVG: {font: \"STIX-Web\"}});}</script>                <script type=\"text/javascript\">window.PlotlyConfig = {MathJaxConfig: 'local'};</script>\n",
              "        <script charset=\"utf-8\" src=\"https://cdn.plot.ly/plotly-2.35.2.min.js\"></script>                <div id=\"f5f15dac-dca4-4309-a0d6-d5b86e81c834\" class=\"plotly-graph-div\" style=\"height:525px; width:100%;\"></div>            <script type=\"text/javascript\">                                    window.PLOTLYENV=window.PLOTLYENV || {};                                    if (document.getElementById(\"f5f15dac-dca4-4309-a0d6-d5b86e81c834\")) {                    Plotly.newPlot(                        \"f5f15dac-dca4-4309-a0d6-d5b86e81c834\",                        [{\"hovertemplate\":\"release_year=%{x}\\u003cbr\\u003etotal_sales=%{y}\\u003cextra\\u003e\\u003c\\u002fextra\\u003e\",\"legendgroup\":\"\",\"line\":{\"color\":\"#636efa\",\"dash\":\"solid\"},\"marker\":{\"symbol\":\"circle\"},\"mode\":\"lines\",\"name\":\"\",\"orientation\":\"v\",\"showlegend\":false,\"x\":[1971.0,1973.0,1975.0,1977.0,1978.0,1979.0,1980.0,1981.0,1982.0,1983.0,1984.0,1985.0,1986.0,1987.0,1988.0,1989.0,1990.0,1991.0,1992.0,1993.0,1994.0,1995.0,1996.0,1997.0,1998.0,1999.0,2000.0,2001.0,2002.0,2003.0,2004.0,2005.0,2006.0,2007.0,2008.0,2009.0,2010.0,2011.0,2012.0,2013.0,2014.0,2015.0,2016.0,2017.0,2018.0,2019.0,2020.0,2021.0,2022.0,2023.0,2024.0],\"xaxis\":\"x\",\"y\":[0.0,0.0,0.0,2.5,2.36,0.31,2.26,7.7299999999999995,28.99,22.68,4.85,2.19,10.35,5.59,8.73,9.12,9.07,6.05,9.38,20.16,36.85,52.98,101.36,105.89,132.23,169.61,171.05,226.75,314.5,300.89,284.68,313.48,243.76,436.39,538.09,495.36,454.02,440.32,285.47,266.0,292.11,230.45,208.02,191.96,148.03,2.5500000000000003,3.45,0.0,0.0,0.0,0.0],\"yaxis\":\"y\",\"type\":\"scatter\"}],                        {\"template\":{\"data\":{\"histogram2dcontour\":[{\"type\":\"histogram2dcontour\",\"colorbar\":{\"outlinewidth\":0,\"ticks\":\"\"},\"colorscale\":[[0.0,\"#0d0887\"],[0.1111111111111111,\"#46039f\"],[0.2222222222222222,\"#7201a8\"],[0.3333333333333333,\"#9c179e\"],[0.4444444444444444,\"#bd3786\"],[0.5555555555555556,\"#d8576b\"],[0.6666666666666666,\"#ed7953\"],[0.7777777777777778,\"#fb9f3a\"],[0.8888888888888888,\"#fdca26\"],[1.0,\"#f0f921\"]]}],\"choropleth\":[{\"type\":\"choropleth\",\"colorbar\":{\"outlinewidth\":0,\"ticks\":\"\"}}],\"histogram2d\":[{\"type\":\"histogram2d\",\"colorbar\":{\"outlinewidth\":0,\"ticks\":\"\"},\"colorscale\":[[0.0,\"#0d0887\"],[0.1111111111111111,\"#46039f\"],[0.2222222222222222,\"#7201a8\"],[0.3333333333333333,\"#9c179e\"],[0.4444444444444444,\"#bd3786\"],[0.5555555555555556,\"#d8576b\"],[0.6666666666666666,\"#ed7953\"],[0.7777777777777778,\"#fb9f3a\"],[0.8888888888888888,\"#fdca26\"],[1.0,\"#f0f921\"]]}],\"heatmap\":[{\"type\":\"heatmap\",\"colorbar\":{\"outlinewidth\":0,\"ticks\":\"\"},\"colorscale\":[[0.0,\"#0d0887\"],[0.1111111111111111,\"#46039f\"],[0.2222222222222222,\"#7201a8\"],[0.3333333333333333,\"#9c179e\"],[0.4444444444444444,\"#bd3786\"],[0.5555555555555556,\"#d8576b\"],[0.6666666666666666,\"#ed7953\"],[0.7777777777777778,\"#fb9f3a\"],[0.8888888888888888,\"#fdca26\"],[1.0,\"#f0f921\"]]}],\"heatmapgl\":[{\"type\":\"heatmapgl\",\"colorbar\":{\"outlinewidth\":0,\"ticks\":\"\"},\"colorscale\":[[0.0,\"#0d0887\"],[0.1111111111111111,\"#46039f\"],[0.2222222222222222,\"#7201a8\"],[0.3333333333333333,\"#9c179e\"],[0.4444444444444444,\"#bd3786\"],[0.5555555555555556,\"#d8576b\"],[0.6666666666666666,\"#ed7953\"],[0.7777777777777778,\"#fb9f3a\"],[0.8888888888888888,\"#fdca26\"],[1.0,\"#f0f921\"]]}],\"contourcarpet\":[{\"type\":\"contourcarpet\",\"colorbar\":{\"outlinewidth\":0,\"ticks\":\"\"}}],\"contour\":[{\"type\":\"contour\",\"colorbar\":{\"outlinewidth\":0,\"ticks\":\"\"},\"colorscale\":[[0.0,\"#0d0887\"],[0.1111111111111111,\"#46039f\"],[0.2222222222222222,\"#7201a8\"],[0.3333333333333333,\"#9c179e\"],[0.4444444444444444,\"#bd3786\"],[0.5555555555555556,\"#d8576b\"],[0.6666666666666666,\"#ed7953\"],[0.7777777777777778,\"#fb9f3a\"],[0.8888888888888888,\"#fdca26\"],[1.0,\"#f0f921\"]]}],\"surface\":[{\"type\":\"surface\",\"colorbar\":{\"outlinewidth\":0,\"ticks\":\"\"},\"colorscale\":[[0.0,\"#0d0887\"],[0.1111111111111111,\"#46039f\"],[0.2222222222222222,\"#7201a8\"],[0.3333333333333333,\"#9c179e\"],[0.4444444444444444,\"#bd3786\"],[0.5555555555555556,\"#d8576b\"],[0.6666666666666666,\"#ed7953\"],[0.7777777777777778,\"#fb9f3a\"],[0.8888888888888888,\"#fdca26\"],[1.0,\"#f0f921\"]]}],\"mesh3d\":[{\"type\":\"mesh3d\",\"colorbar\":{\"outlinewidth\":0,\"ticks\":\"\"}}],\"scatter\":[{\"fillpattern\":{\"fillmode\":\"overlay\",\"size\":10,\"solidity\":0.2},\"type\":\"scatter\"}],\"parcoords\":[{\"type\":\"parcoords\",\"line\":{\"colorbar\":{\"outlinewidth\":0,\"ticks\":\"\"}}}],\"scatterpolargl\":[{\"type\":\"scatterpolargl\",\"marker\":{\"colorbar\":{\"outlinewidth\":0,\"ticks\":\"\"}}}],\"bar\":[{\"error_x\":{\"color\":\"#2a3f5f\"},\"error_y\":{\"color\":\"#2a3f5f\"},\"marker\":{\"line\":{\"color\":\"#E5ECF6\",\"width\":0.5},\"pattern\":{\"fillmode\":\"overlay\",\"size\":10,\"solidity\":0.2}},\"type\":\"bar\"}],\"scattergeo\":[{\"type\":\"scattergeo\",\"marker\":{\"colorbar\":{\"outlinewidth\":0,\"ticks\":\"\"}}}],\"scatterpolar\":[{\"type\":\"scatterpolar\",\"marker\":{\"colorbar\":{\"outlinewidth\":0,\"ticks\":\"\"}}}],\"histogram\":[{\"marker\":{\"pattern\":{\"fillmode\":\"overlay\",\"size\":10,\"solidity\":0.2}},\"type\":\"histogram\"}],\"scattergl\":[{\"type\":\"scattergl\",\"marker\":{\"colorbar\":{\"outlinewidth\":0,\"ticks\":\"\"}}}],\"scatter3d\":[{\"type\":\"scatter3d\",\"line\":{\"colorbar\":{\"outlinewidth\":0,\"ticks\":\"\"}},\"marker\":{\"colorbar\":{\"outlinewidth\":0,\"ticks\":\"\"}}}],\"scattermapbox\":[{\"type\":\"scattermapbox\",\"marker\":{\"colorbar\":{\"outlinewidth\":0,\"ticks\":\"\"}}}],\"scatterternary\":[{\"type\":\"scatterternary\",\"marker\":{\"colorbar\":{\"outlinewidth\":0,\"ticks\":\"\"}}}],\"scattercarpet\":[{\"type\":\"scattercarpet\",\"marker\":{\"colorbar\":{\"outlinewidth\":0,\"ticks\":\"\"}}}],\"carpet\":[{\"aaxis\":{\"endlinecolor\":\"#2a3f5f\",\"gridcolor\":\"white\",\"linecolor\":\"white\",\"minorgridcolor\":\"white\",\"startlinecolor\":\"#2a3f5f\"},\"baxis\":{\"endlinecolor\":\"#2a3f5f\",\"gridcolor\":\"white\",\"linecolor\":\"white\",\"minorgridcolor\":\"white\",\"startlinecolor\":\"#2a3f5f\"},\"type\":\"carpet\"}],\"table\":[{\"cells\":{\"fill\":{\"color\":\"#EBF0F8\"},\"line\":{\"color\":\"white\"}},\"header\":{\"fill\":{\"color\":\"#C8D4E3\"},\"line\":{\"color\":\"white\"}},\"type\":\"table\"}],\"barpolar\":[{\"marker\":{\"line\":{\"color\":\"#E5ECF6\",\"width\":0.5},\"pattern\":{\"fillmode\":\"overlay\",\"size\":10,\"solidity\":0.2}},\"type\":\"barpolar\"}],\"pie\":[{\"automargin\":true,\"type\":\"pie\"}]},\"layout\":{\"autotypenumbers\":\"strict\",\"colorway\":[\"#636efa\",\"#EF553B\",\"#00cc96\",\"#ab63fa\",\"#FFA15A\",\"#19d3f3\",\"#FF6692\",\"#B6E880\",\"#FF97FF\",\"#FECB52\"],\"font\":{\"color\":\"#2a3f5f\"},\"hovermode\":\"closest\",\"hoverlabel\":{\"align\":\"left\"},\"paper_bgcolor\":\"white\",\"plot_bgcolor\":\"#E5ECF6\",\"polar\":{\"bgcolor\":\"#E5ECF6\",\"angularaxis\":{\"gridcolor\":\"white\",\"linecolor\":\"white\",\"ticks\":\"\"},\"radialaxis\":{\"gridcolor\":\"white\",\"linecolor\":\"white\",\"ticks\":\"\"}},\"ternary\":{\"bgcolor\":\"#E5ECF6\",\"aaxis\":{\"gridcolor\":\"white\",\"linecolor\":\"white\",\"ticks\":\"\"},\"baxis\":{\"gridcolor\":\"white\",\"linecolor\":\"white\",\"ticks\":\"\"},\"caxis\":{\"gridcolor\":\"white\",\"linecolor\":\"white\",\"ticks\":\"\"}},\"coloraxis\":{\"colorbar\":{\"outlinewidth\":0,\"ticks\":\"\"}},\"colorscale\":{\"sequential\":[[0.0,\"#0d0887\"],[0.1111111111111111,\"#46039f\"],[0.2222222222222222,\"#7201a8\"],[0.3333333333333333,\"#9c179e\"],[0.4444444444444444,\"#bd3786\"],[0.5555555555555556,\"#d8576b\"],[0.6666666666666666,\"#ed7953\"],[0.7777777777777778,\"#fb9f3a\"],[0.8888888888888888,\"#fdca26\"],[1.0,\"#f0f921\"]],\"sequentialminus\":[[0.0,\"#0d0887\"],[0.1111111111111111,\"#46039f\"],[0.2222222222222222,\"#7201a8\"],[0.3333333333333333,\"#9c179e\"],[0.4444444444444444,\"#bd3786\"],[0.5555555555555556,\"#d8576b\"],[0.6666666666666666,\"#ed7953\"],[0.7777777777777778,\"#fb9f3a\"],[0.8888888888888888,\"#fdca26\"],[1.0,\"#f0f921\"]],\"diverging\":[[0,\"#8e0152\"],[0.1,\"#c51b7d\"],[0.2,\"#de77ae\"],[0.3,\"#f1b6da\"],[0.4,\"#fde0ef\"],[0.5,\"#f7f7f7\"],[0.6,\"#e6f5d0\"],[0.7,\"#b8e186\"],[0.8,\"#7fbc41\"],[0.9,\"#4d9221\"],[1,\"#276419\"]]},\"xaxis\":{\"gridcolor\":\"white\",\"linecolor\":\"white\",\"ticks\":\"\",\"title\":{\"standoff\":15},\"zerolinecolor\":\"white\",\"automargin\":true,\"zerolinewidth\":2},\"yaxis\":{\"gridcolor\":\"white\",\"linecolor\":\"white\",\"ticks\":\"\",\"title\":{\"standoff\":15},\"zerolinecolor\":\"white\",\"automargin\":true,\"zerolinewidth\":2},\"scene\":{\"xaxis\":{\"backgroundcolor\":\"#E5ECF6\",\"gridcolor\":\"white\",\"linecolor\":\"white\",\"showbackground\":true,\"ticks\":\"\",\"zerolinecolor\":\"white\",\"gridwidth\":2},\"yaxis\":{\"backgroundcolor\":\"#E5ECF6\",\"gridcolor\":\"white\",\"linecolor\":\"white\",\"showbackground\":true,\"ticks\":\"\",\"zerolinecolor\":\"white\",\"gridwidth\":2},\"zaxis\":{\"backgroundcolor\":\"#E5ECF6\",\"gridcolor\":\"white\",\"linecolor\":\"white\",\"showbackground\":true,\"ticks\":\"\",\"zerolinecolor\":\"white\",\"gridwidth\":2}},\"shapedefaults\":{\"line\":{\"color\":\"#2a3f5f\"}},\"annotationdefaults\":{\"arrowcolor\":\"#2a3f5f\",\"arrowhead\":0,\"arrowwidth\":1},\"geo\":{\"bgcolor\":\"white\",\"landcolor\":\"#E5ECF6\",\"subunitcolor\":\"white\",\"showland\":true,\"showlakes\":true,\"lakecolor\":\"white\"},\"title\":{\"x\":0.05},\"mapbox\":{\"style\":\"light\"}}},\"xaxis\":{\"anchor\":\"y\",\"domain\":[0.0,1.0],\"title\":{\"text\":\"release_year\"}},\"yaxis\":{\"anchor\":\"x\",\"domain\":[0.0,1.0],\"title\":{\"text\":\"total_sales\"}},\"legend\":{\"tracegroupgap\":0},\"title\":{\"text\":\"Global Sales Trend over years\"}},                        {\"responsive\": true}                    ).then(function(){\n",
              "                            \n",
              "var gd = document.getElementById('f5f15dac-dca4-4309-a0d6-d5b86e81c834');\n",
              "var x = new MutationObserver(function (mutations, observer) {{\n",
              "        var display = window.getComputedStyle(gd).display;\n",
              "        if (!display || display === 'none') {{\n",
              "            console.log([gd, 'removed!']);\n",
              "            Plotly.purge(gd);\n",
              "            observer.disconnect();\n",
              "        }}\n",
              "}});\n",
              "\n",
              "// Listen for the removal of the full notebook cells\n",
              "var notebookContainer = gd.closest('#notebook-container');\n",
              "if (notebookContainer) {{\n",
              "    x.observe(notebookContainer, {childList: true});\n",
              "}}\n",
              "\n",
              "// Listen for the clearing of the current output cell\n",
              "var outputEl = gd.closest('.output');\n",
              "if (outputEl) {{\n",
              "    x.observe(outputEl, {childList: true});\n",
              "}}\n",
              "\n",
              "                        })                };                            </script>        </div>\n",
              "</body>\n",
              "</html>"
            ]
          },
          "metadata": {}
        }
      ]
    },
    {
      "cell_type": "markdown",
      "source": [
        "Conclusion : The Industry grown around 2008 but currently the progress is constant"
      ],
      "metadata": {
        "id": "NdFmGnO1sHjg"
      }
    },
    {
      "cell_type": "markdown",
      "source": [
        "#3.DO Any Consoles Seem to Specialize in a Particular Genre?"
      ],
      "metadata": {
        "id": "9b9kG1Uzse0w"
      }
    },
    {
      "cell_type": "code",
      "source": [
        "# Group the data by 'console' and 'genre' and calculate the sum of 'total_sales' for each combination\n",
        "console_genre_sales = df.groupby(['console', 'genre'])['total_sales'].sum().reset_index()\n",
        "\n",
        "# Sort the 'console_genre_sales' DataFrame by 'total_sales' in descending order\n",
        "\n",
        "console_genre_sales_sort = console_genre_sales.sort_values(by = 'total_sales', ascending = False)"
      ],
      "metadata": {
        "id": "S9p7aWcXjk23"
      },
      "execution_count": null,
      "outputs": []
    },
    {
      "cell_type": "code",
      "source": [
        "# Create a sunburst chart to visualize console specialization in different genres\n",
        "px.sunburst(console_genre_sales_sort, path = ['console', 'genre'], values = 'total_sales',\n",
        "            title = 'Console specialization in genre')"
      ],
      "metadata": {
        "id": "x3FW2LXejk53",
        "colab": {
          "base_uri": "https://localhost:8080/",
          "height": 542
        },
        "outputId": "f4bf53a6-b958-4a2a-d6a3-c04d92be5558"
      },
      "execution_count": null,
      "outputs": [
        {
          "output_type": "display_data",
          "data": {
            "text/html": [
              "<html>\n",
              "<head><meta charset=\"utf-8\" /></head>\n",
              "<body>\n",
              "    <div>            <script src=\"https://cdnjs.cloudflare.com/ajax/libs/mathjax/2.7.5/MathJax.js?config=TeX-AMS-MML_SVG\"></script><script type=\"text/javascript\">if (window.MathJax && window.MathJax.Hub && window.MathJax.Hub.Config) {window.MathJax.Hub.Config({SVG: {font: \"STIX-Web\"}});}</script>                <script type=\"text/javascript\">window.PlotlyConfig = {MathJaxConfig: 'local'};</script>\n",
              "        <script charset=\"utf-8\" src=\"https://cdn.plot.ly/plotly-2.35.2.min.js\"></script>                <div id=\"27d32dff-b4e4-4547-ade8-c306a1dc588f\" class=\"plotly-graph-div\" style=\"height:525px; width:100%;\"></div>            <script type=\"text/javascript\">                                    window.PLOTLYENV=window.PLOTLYENV || {};                                    if (document.getElementById(\"27d32dff-b4e4-4547-ade8-c306a1dc588f\")) {                    Plotly.newPlot(                        \"27d32dff-b4e4-4547-ade8-c306a1dc588f\",                        [{\"branchvalues\":\"total\",\"domain\":{\"x\":[0.0,1.0],\"y\":[0.0,1.0]},\"hovertemplate\":\"labels=%{label}\\u003cbr\\u003etotal_sales=%{value}\\u003cbr\\u003eparent=%{parent}\\u003cbr\\u003eid=%{id}\\u003cextra\\u003e\\u003c\\u002fextra\\u003e\",\"ids\":[\"2600\\u002f0\",\"3DO\\u002f0\",\"3DS\\u002f0\",\"5200\\u002f0\",\"7800\\u002f0\",\"ACPC\\u002f0\",\"AJ\\u002f0\",\"AST\\u002f0\",\"All\\u002f0\",\"Amig\\u002f0\",\"And\\u002f0\",\"Arc\\u002f0\",\"C64\\u002f0\",\"CV\\u002f0\",\"DC\\u002f0\",\"DS\\u002f0\",\"DSi\\u002f0\",\"DSiW\\u002f0\",\"FDS\\u002f0\",\"GB\\u002f0\",\"GBA\\u002f0\",\"GBC\\u002f0\",\"GC\\u002f0\",\"GEN\\u002f0\",\"GG\\u002f0\",\"GIZ\\u002f0\",\"Int\\u002f0\",\"Linux\\u002f0\",\"Lynx\\u002f0\",\"MS\\u002f0\",\"MSD\\u002f0\",\"MSX\\u002f0\",\"Mob\\u002f0\",\"N64\\u002f0\",\"NES\\u002f0\",\"NG\\u002f0\",\"NGage\\u002f0\",\"NS\\u002f0\",\"OR\\u002f0\",\"OSX\\u002f0\",\"Ouya\\u002f0\",\"PC\\u002f0\",\"PCE\\u002f0\",\"PCFX\\u002f0\",\"PS\\u002f0\",\"PS2\\u002f0\",\"PS3\\u002f0\",\"PS4\\u002f0\",\"PS5\\u002f0\",\"PSN\\u002f0\",\"PSP\\u002f0\",\"PSV\\u002f0\",\"S32X\\u002f0\",\"SAT\\u002f0\",\"SCD\\u002f0\",\"SNES\\u002f0\",\"Series\\u002f0\",\"VB\\u002f0\",\"VC\\u002f0\",\"WS\\u002f0\",\"WW\\u002f0\",\"Wii\\u002f0\",\"WiiU\\u002f0\",\"WinP\\u002f0\",\"X360\\u002f0\",\"XB\\u002f0\",\"XBL\\u002f0\",\"XOne\\u002f0\",\"XS\\u002f0\",\"ZXS\\u002f0\",\"iOS\\u002f0\",\"iQue\\u002f0\",\"3DS\\u002f1\",\"All\\u002f1\",\"And\\u002f1\",\"CDi\\u002f1\",\"CV\\u002f1\",\"DS\\u002f1\",\"Int\\u002f1\",\"Linux\\u002f1\",\"Mob\\u002f1\",\"NS\\u002f1\",\"OR\\u002f1\",\"OSX\\u002f1\",\"PC\\u002f1\",\"PS\\u002f1\",\"PS2\\u002f1\",\"PS3\\u002f1\",\"PS4\\u002f1\",\"PS5\\u002f1\",\"PSN\\u002f1\",\"PSP\\u002f1\",\"PSV\\u002f1\",\"Series\\u002f1\",\"Wii\\u002f1\",\"WiiU\\u002f1\",\"X360\\u002f1\",\"XB\\u002f1\",\"XBL\\u002f1\",\"XOne\\u002f1\",\"XS\\u002f1\",\"iOS\\u002f1\",\"2600\\u002f2\",\"3DO\\u002f2\",\"3DS\\u002f2\",\"5200\\u002f2\",\"ACPC\\u002f2\",\"AJ\\u002f2\",\"AST\\u002f2\",\"All\\u002f2\",\"Amig\\u002f2\",\"And\\u002f2\",\"C128\\u002f2\",\"CDi\\u002f2\",\"DC\\u002f2\",\"DS\\u002f2\",\"DSiW\\u002f2\",\"GB\\u002f2\",\"GBA\\u002f2\",\"GBC\\u002f2\",\"GC\\u002f2\",\"GEN\\u002f2\",\"GG\\u002f2\",\"GIZ\\u002f2\",\"Int\\u002f2\",\"Linux\\u002f2\",\"MS\\u002f2\",\"MSD\\u002f2\",\"N64\\u002f2\",\"NES\\u002f2\",\"NGage\\u002f2\",\"NS\\u002f2\",\"OR\\u002f2\",\"OSX\\u002f2\",\"Ouya\\u002f2\",\"PC\\u002f2\",\"PCE\\u002f2\",\"PCFX\\u002f2\",\"PS\\u002f2\",\"PS2\\u002f2\",\"PS3\\u002f2\",\"PS4\\u002f2\",\"PS5\\u002f2\",\"PSN\\u002f2\",\"PSP\\u002f2\",\"PSV\\u002f2\",\"SAT\\u002f2\",\"SCD\\u002f2\",\"SNES\\u002f2\",\"Series\\u002f2\",\"VC\\u002f2\",\"WS\\u002f2\",\"WW\\u002f2\",\"Wii\\u002f2\",\"WiiU\\u002f2\",\"WinP\\u002f2\",\"X360\\u002f2\",\"XB\\u002f2\",\"XBL\\u002f2\",\"XOne\\u002f2\",\"XS\\u002f2\",\"iOS\\u002f2\",\"iQue\\u002f2\",\"All\\u002f3\",\"CD32\\u002f3\",\"NES\\u002f3\",\"NS\\u002f3\",\"PC\\u002f3\",\"PS4\\u002f3\",\"PS5\\u002f3\",\"Series\\u002f3\",\"X360\\u002f3\",\"XOne\\u002f3\",\"XS\\u002f3\",\"3DS\\u002f4\",\"GC\\u002f4\",\"MSD\\u002f4\",\"NS\\u002f4\",\"OR\\u002f4\",\"PC\\u002f4\",\"PS2\\u002f4\",\"PS4\\u002f4\",\"Series\\u002f4\",\"WiiU\\u002f4\",\"X360\\u002f4\",\"XOne\\u002f4\",\"2600\\u002f5\",\"3DO\\u002f5\",\"3DS\\u002f5\",\"7800\\u002f5\",\"ACPC\\u002f5\",\"AJ\\u002f5\",\"All\\u002f5\",\"Amig\\u002f5\",\"And\\u002f5\",\"Arc\\u002f5\",\"C64\\u002f5\",\"CDi\\u002f5\",\"CV\\u002f5\",\"DC\\u002f5\",\"DS\\u002f5\",\"DSi\\u002f5\",\"DSiW\\u002f5\",\"GB\\u002f5\",\"GBA\\u002f5\",\"GC\\u002f5\",\"GEN\\u002f5\",\"GG\\u002f5\",\"Linux\\u002f5\",\"MS\\u002f5\",\"MSD\\u002f5\",\"N64\\u002f5\",\"NES\\u002f5\",\"NG\\u002f5\",\"NGage\\u002f5\",\"NS\\u002f5\",\"OR\\u002f5\",\"OSX\\u002f5\",\"PC\\u002f5\",\"PCE\\u002f5\",\"PCFX\\u002f5\",\"PS\\u002f5\",\"PS2\\u002f5\",\"PS3\\u002f5\",\"PS4\\u002f5\",\"PS5\\u002f5\",\"PSN\\u002f5\",\"PSP\\u002f5\",\"PSV\\u002f5\",\"SAT\\u002f5\",\"SCD\\u002f5\",\"SNES\\u002f5\",\"Series\\u002f5\",\"VB\\u002f5\",\"VC\\u002f5\",\"WS\\u002f5\",\"WW\\u002f5\",\"Wii\\u002f5\",\"WiiU\\u002f5\",\"X360\\u002f5\",\"XB\\u002f5\",\"XBL\\u002f5\",\"XOne\\u002f5\",\"XS\\u002f5\",\"iQue\\u002f5\",\"3DS\\u002f6\",\"All\\u002f6\",\"NS\\u002f6\",\"OSX\\u002f6\",\"PC\\u002f6\",\"PS2\\u002f6\",\"PS3\\u002f6\",\"PS4\\u002f6\",\"PS5\\u002f6\",\"PSN\\u002f6\",\"Series\\u002f6\",\"Wii\\u002f6\",\"WiiU\\u002f6\",\"XOne\\u002f6\",\"XS\\u002f6\",\"2600\\u002f7\",\"3DO\\u002f7\",\"3DS\\u002f7\",\"ACPC\\u002f7\",\"AJ\\u002f7\",\"AST\\u002f7\",\"Aco\\u002f7\",\"All\\u002f7\",\"Amig\\u002f7\",\"And\\u002f7\",\"ApII\\u002f7\",\"Arc\\u002f7\",\"BBCM\\u002f7\",\"BRW\\u002f7\",\"C64\\u002f7\",\"CD32\\u002f7\",\"DC\\u002f7\",\"DS\\u002f7\",\"DSi\\u002f7\",\"DSiW\\u002f7\",\"FMT\\u002f7\",\"GB\\u002f7\",\"GBA\\u002f7\",\"GBC\\u002f7\",\"GC\\u002f7\",\"GEN\\u002f7\",\"GG\\u002f7\",\"GIZ\\u002f7\",\"Int\\u002f7\",\"Linux\\u002f7\",\"Lynx\\u002f7\",\"MS\\u002f7\",\"MSD\\u002f7\",\"MSX\\u002f7\",\"Mob\\u002f7\",\"N64\\u002f7\",\"NES\\u002f7\",\"NG\\u002f7\",\"NGage\\u002f7\",\"NS\\u002f7\",\"OR\\u002f7\",\"OSX\\u002f7\",\"Ouya\\u002f7\",\"PC\\u002f7\",\"PCE\\u002f7\",\"PCFX\\u002f7\",\"PS\\u002f7\",\"PS2\\u002f7\",\"PS3\\u002f7\",\"PS4\\u002f7\",\"PS5\\u002f7\",\"PSN\\u002f7\",\"PSP\\u002f7\",\"PSV\\u002f7\",\"SAT\\u002f7\",\"SCD\\u002f7\",\"SNES\\u002f7\",\"Series\\u002f7\",\"TG16\\u002f7\",\"VB\\u002f7\",\"VC\\u002f7\",\"WS\\u002f7\",\"WW\\u002f7\",\"Wii\\u002f7\",\"WiiU\\u002f7\",\"WinP\\u002f7\",\"X360\\u002f7\",\"XB\\u002f7\",\"XBL\\u002f7\",\"XOne\\u002f7\",\"XS\\u002f7\",\"ZXS\\u002f7\",\"iOS\\u002f7\",\"3DS\\u002f8\",\"All\\u002f8\",\"And\\u002f8\",\"DS\\u002f8\",\"GBA\\u002f8\",\"Int\\u002f8\",\"Linux\\u002f8\",\"NS\\u002f8\",\"OR\\u002f8\",\"OSX\\u002f8\",\"PC\\u002f8\",\"PS3\\u002f8\",\"PS4\\u002f8\",\"PS5\\u002f8\",\"PSP\\u002f8\",\"PSV\\u002f8\",\"Series\\u002f8\",\"Wii\\u002f8\",\"WiiU\\u002f8\",\"X360\\u002f8\",\"XB\\u002f8\",\"XOne\\u002f8\",\"XS\\u002f8\",\"iOS\\u002f8\",\"3DS\\u002f9\",\"All\\u002f9\",\"NS\\u002f9\",\"PC\\u002f9\",\"PS\\u002f9\",\"PS2\\u002f9\",\"PS3\\u002f9\",\"PS4\\u002f9\",\"PS5\\u002f9\",\"PSN\\u002f9\",\"PSP\\u002f9\",\"Series\\u002f9\",\"Wii\\u002f9\",\"WiiU\\u002f9\",\"X360\\u002f9\",\"XB\\u002f9\",\"XOne\\u002f9\",\"XS\\u002f9\",\"2600\\u002f10\",\"3DO\\u002f10\",\"3DS\\u002f10\",\"5200\\u002f10\",\"7800\\u002f10\",\"ACPC\\u002f10\",\"AJ\\u002f10\",\"AST\\u002f10\",\"All\\u002f10\",\"Amig\\u002f10\",\"And\\u002f10\",\"BRW\\u002f10\",\"CV\\u002f10\",\"DC\\u002f10\",\"DS\\u002f10\",\"DSi\\u002f10\",\"DSiW\\u002f10\",\"GB\\u002f10\",\"GBA\\u002f10\",\"GBC\\u002f10\",\"GC\\u002f10\",\"GEN\\u002f10\",\"GG\\u002f10\",\"Int\\u002f10\",\"Linux\\u002f10\",\"Lynx\\u002f10\",\"MS\\u002f10\",\"MSD\\u002f10\",\"MSX\\u002f10\",\"Mob\\u002f10\",\"N64\\u002f10\",\"NES\\u002f10\",\"NG\\u002f10\",\"NGage\\u002f10\",\"NS\\u002f10\",\"OSX\\u002f10\",\"PC\\u002f10\",\"PCE\\u002f10\",\"PCFX\\u002f10\",\"PS\\u002f10\",\"PS2\\u002f10\",\"PS3\\u002f10\",\"PS4\\u002f10\",\"PS5\\u002f10\",\"PSN\\u002f10\",\"PSP\\u002f10\",\"PSV\\u002f10\",\"SAT\\u002f10\",\"SCD\\u002f10\",\"SNES\\u002f10\",\"Series\\u002f10\",\"VB\\u002f10\",\"VC\\u002f10\",\"WS\\u002f10\",\"WW\\u002f10\",\"Wii\\u002f10\",\"WiiU\\u002f10\",\"WinP\\u002f10\",\"X360\\u002f10\",\"XB\\u002f10\",\"XBL\\u002f10\",\"XOne\\u002f10\",\"XS\\u002f10\",\"ZXS\\u002f10\",\"iOS\\u002f10\",\"iQue\\u002f10\",\"2600\\u002f11\",\"3DO\\u002f11\",\"3DS\\u002f11\",\"5200\\u002f11\",\"7800\\u002f11\",\"AJ\\u002f11\",\"All\\u002f11\",\"Amig\\u002f11\",\"And\\u002f11\",\"Arc\\u002f11\",\"BRW\\u002f11\",\"CDi\\u002f11\",\"CV\\u002f11\",\"DC\\u002f11\",\"DS\\u002f11\",\"DSiW\\u002f11\",\"GB\\u002f11\",\"GBA\\u002f11\",\"GBC\\u002f11\",\"GC\\u002f11\",\"GEN\\u002f11\",\"GG\\u002f11\",\"GIZ\\u002f11\",\"Int\\u002f11\",\"Linux\\u002f11\",\"Lynx\\u002f11\",\"MS\\u002f11\",\"N64\\u002f11\",\"NES\\u002f11\",\"NG\\u002f11\",\"NGage\\u002f11\",\"NS\\u002f11\",\"OR\\u002f11\",\"OSX\\u002f11\",\"Ouya\\u002f11\",\"PC\\u002f11\",\"PCE\\u002f11\",\"PCFX\\u002f11\",\"PS\\u002f11\",\"PS2\\u002f11\",\"PS3\\u002f11\",\"PS4\\u002f11\",\"PS5\\u002f11\",\"PSN\\u002f11\",\"PSP\\u002f11\",\"PSV\\u002f11\",\"SAT\\u002f11\",\"SCD\\u002f11\",\"SNES\\u002f11\",\"Series\\u002f11\",\"VB\\u002f11\",\"VC\\u002f11\",\"WS\\u002f11\",\"WW\\u002f11\",\"Wii\\u002f11\",\"WiiU\\u002f11\",\"WinP\\u002f11\",\"X360\\u002f11\",\"XB\\u002f11\",\"XBL\\u002f11\",\"XOne\\u002f11\",\"XS\\u002f11\",\"iOS\\u002f11\",\"iQue\\u002f11\",\"2600\\u002f12\",\"3DO\\u002f12\",\"3DS\\u002f12\",\"5200\\u002f12\",\"7800\\u002f12\",\"AJ\\u002f12\",\"All\\u002f12\",\"And\\u002f12\",\"CV\\u002f12\",\"DC\\u002f12\",\"DS\\u002f12\",\"DSiW\\u002f12\",\"GB\\u002f12\",\"GBA\\u002f12\",\"GBC\\u002f12\",\"GC\\u002f12\",\"GEN\\u002f12\",\"GG\\u002f12\",\"GIZ\\u002f12\",\"Int\\u002f12\",\"Linux\\u002f12\",\"Lynx\\u002f12\",\"MS\\u002f12\",\"N64\\u002f12\",\"NES\\u002f12\",\"NGage\\u002f12\",\"NS\\u002f12\",\"OSX\\u002f12\",\"Ouya\\u002f12\",\"PC\\u002f12\",\"PCE\\u002f12\",\"PS\\u002f12\",\"PS2\\u002f12\",\"PS3\\u002f12\",\"PS4\\u002f12\",\"PS5\\u002f12\",\"PSN\\u002f12\",\"PSP\\u002f12\",\"PSV\\u002f12\",\"SAT\\u002f12\",\"SCD\\u002f12\",\"SNES\\u002f12\",\"Series\\u002f12\",\"VC\\u002f12\",\"WS\\u002f12\",\"WW\\u002f12\",\"Wii\\u002f12\",\"WiiU\\u002f12\",\"WinP\\u002f12\",\"X360\\u002f12\",\"XB\\u002f12\",\"XBL\\u002f12\",\"XOne\\u002f12\",\"XS\\u002f12\",\"iOS\\u002f12\",\"iQue\\u002f12\",\"2600\\u002f13\",\"3DO\\u002f13\",\"3DS\\u002f13\",\"ACPC\\u002f13\",\"AJ\\u002f13\",\"All\\u002f13\",\"And\\u002f13\",\"BRW\\u002f13\",\"CV\\u002f13\",\"DC\\u002f13\",\"DS\\u002f13\",\"DSiW\\u002f13\",\"GB\\u002f13\",\"GBA\\u002f13\",\"GBC\\u002f13\",\"GC\\u002f13\",\"GEN\\u002f13\",\"GG\\u002f13\",\"GIZ\\u002f13\",\"Int\\u002f13\",\"Linux\\u002f13\",\"Lynx\\u002f13\",\"MS\\u002f13\",\"N64\\u002f13\",\"NES\\u002f13\",\"NG\\u002f13\",\"NGage\\u002f13\",\"NS\\u002f13\",\"OSX\\u002f13\",\"Ouya\\u002f13\",\"PC\\u002f13\",\"PCE\\u002f13\",\"PCFX\\u002f13\",\"PS\\u002f13\",\"PS2\\u002f13\",\"PS3\\u002f13\",\"PS4\\u002f13\",\"PS5\\u002f13\",\"PSN\\u002f13\",\"PSP\\u002f13\",\"PSV\\u002f13\",\"SAT\\u002f13\",\"SCD\\u002f13\",\"SNES\\u002f13\",\"Series\\u002f13\",\"VC\\u002f13\",\"WS\\u002f13\",\"WW\\u002f13\",\"Wii\\u002f13\",\"WiiU\\u002f13\",\"X360\\u002f13\",\"XB\\u002f13\",\"XBL\\u002f13\",\"XOne\\u002f13\",\"XS\\u002f13\",\"iOS\\u002f13\",\"iQue\\u002f13\",\"All\\u002f14\",\"NS\\u002f14\",\"PC\\u002f14\",\"PS4\\u002f14\",\"Series\\u002f14\",\"XBL\\u002f14\",\"XOne\\u002f14\",\"2600\\u002f15\",\"3DO\\u002f15\",\"3DS\\u002f15\",\"5200\\u002f15\",\"7800\\u002f15\",\"ACPC\\u002f15\",\"AJ\\u002f15\",\"AST\\u002f15\",\"All\\u002f15\",\"Amig\\u002f15\",\"And\\u002f15\",\"ApII\\u002f15\",\"Arc\\u002f15\",\"C64\\u002f15\",\"CV\\u002f15\",\"DC\\u002f15\",\"DS\\u002f15\",\"DSiW\\u002f15\",\"FMT\\u002f15\",\"GB\\u002f15\",\"GBA\\u002f15\",\"GC\\u002f15\",\"GEN\\u002f15\",\"GG\\u002f15\",\"GIZ\\u002f15\",\"Int\\u002f15\",\"Linux\\u002f15\",\"Lynx\\u002f15\",\"MS\\u002f15\",\"MSD\\u002f15\",\"MSX\\u002f15\",\"Mob\\u002f15\",\"N64\\u002f15\",\"NES\\u002f15\",\"NG\\u002f15\",\"NGage\\u002f15\",\"NS\\u002f15\",\"OR\\u002f15\",\"OSX\\u002f15\",\"PC\\u002f15\",\"PCE\\u002f15\",\"PCFX\\u002f15\",\"PS\\u002f15\",\"PS2\\u002f15\",\"PS3\\u002f15\",\"PS4\\u002f15\",\"PS5\\u002f15\",\"PSN\\u002f15\",\"PSP\\u002f15\",\"PSV\\u002f15\",\"S32X\\u002f15\",\"SAT\\u002f15\",\"SCD\\u002f15\",\"SNES\\u002f15\",\"Series\\u002f15\",\"VB\\u002f15\",\"VC\\u002f15\",\"WS\\u002f15\",\"WW\\u002f15\",\"Wii\\u002f15\",\"WiiU\\u002f15\",\"WinP\\u002f15\",\"X360\\u002f15\",\"XB\\u002f15\",\"XBL\\u002f15\",\"XOne\\u002f15\",\"XS\\u002f15\",\"iOS\\u002f15\",\"iQue\\u002f15\",\"2600\\u002f16\",\"3DO\\u002f16\",\"3DS\\u002f16\",\"5200\\u002f16\",\"7800\\u002f16\",\"ACPC\\u002f16\",\"AJ\\u002f16\",\"All\\u002f16\",\"And\\u002f16\",\"CV\\u002f16\",\"DC\\u002f16\",\"DS\\u002f16\",\"DSiW\\u002f16\",\"GB\\u002f16\",\"GBA\\u002f16\",\"GC\\u002f16\",\"GEN\\u002f16\",\"GG\\u002f16\",\"GIZ\\u002f16\",\"Linux\\u002f16\",\"Lynx\\u002f16\",\"MS\\u002f16\",\"N64\\u002f16\",\"NES\\u002f16\",\"NGage\\u002f16\",\"NS\\u002f16\",\"OR\\u002f16\",\"OSX\\u002f16\",\"PC\\u002f16\",\"PCE\\u002f16\",\"PCFX\\u002f16\",\"PS\\u002f16\",\"PS2\\u002f16\",\"PS3\\u002f16\",\"PS4\\u002f16\",\"PS5\\u002f16\",\"PSN\\u002f16\",\"PSP\\u002f16\",\"PSV\\u002f16\",\"SAT\\u002f16\",\"SCD\\u002f16\",\"SNES\\u002f16\",\"Series\\u002f16\",\"VC\\u002f16\",\"WS\\u002f16\",\"WW\\u002f16\",\"Wii\\u002f16\",\"WiiU\\u002f16\",\"WinP\\u002f16\",\"X360\\u002f16\",\"XB\\u002f16\",\"XBL\\u002f16\",\"XOne\\u002f16\",\"XS\\u002f16\",\"iOS\\u002f16\",\"iQue\\u002f16\",\"2600\\u002f17\",\"3DO\\u002f17\",\"3DS\\u002f17\",\"5200\\u002f17\",\"7800\\u002f17\",\"AJ\\u002f17\",\"All\\u002f17\",\"And\\u002f17\",\"ApII\\u002f17\",\"Arc\\u002f17\",\"CV\\u002f17\",\"DC\\u002f17\",\"DS\\u002f17\",\"DSiW\\u002f17\",\"GB\\u002f17\",\"GBA\\u002f17\",\"GBC\\u002f17\",\"GC\\u002f17\",\"GEN\\u002f17\",\"GG\\u002f17\",\"GIZ\\u002f17\",\"Int\\u002f17\",\"Linux\\u002f17\",\"Lynx\\u002f17\",\"MS\\u002f17\",\"N64\\u002f17\",\"NES\\u002f17\",\"NG\\u002f17\",\"NGage\\u002f17\",\"NS\\u002f17\",\"OR\\u002f17\",\"OSX\\u002f17\",\"PC\\u002f17\",\"PCE\\u002f17\",\"PCFX\\u002f17\",\"PS\\u002f17\",\"PS2\\u002f17\",\"PS3\\u002f17\",\"PS4\\u002f17\",\"PS5\\u002f17\",\"PSN\\u002f17\",\"PSP\\u002f17\",\"PSV\\u002f17\",\"SAT\\u002f17\",\"SCD\\u002f17\",\"SNES\\u002f17\",\"Series\\u002f17\",\"VB\\u002f17\",\"VC\\u002f17\",\"WS\\u002f17\",\"WW\\u002f17\",\"Wii\\u002f17\",\"WiiU\\u002f17\",\"X360\\u002f17\",\"XB\\u002f17\",\"XBL\\u002f17\",\"XOne\\u002f17\",\"XS\\u002f17\",\"iOS\\u002f17\",\"2600\\u002f18\",\"3DO\\u002f18\",\"3DS\\u002f18\",\"ACPC\\u002f18\",\"AJ\\u002f18\",\"All\\u002f18\",\"Amig\\u002f18\",\"And\\u002f18\",\"CV\\u002f18\",\"DC\\u002f18\",\"DS\\u002f18\",\"DSiW\\u002f18\",\"GB\\u002f18\",\"GBA\\u002f18\",\"GBC\\u002f18\",\"GC\\u002f18\",\"GEN\\u002f18\",\"GG\\u002f18\",\"GIZ\\u002f18\",\"Int\\u002f18\",\"Linux\\u002f18\",\"Lynx\\u002f18\",\"MS\\u002f18\",\"Mob\\u002f18\",\"N64\\u002f18\",\"NES\\u002f18\",\"NGage\\u002f18\",\"NS\\u002f18\",\"OSX\\u002f18\",\"PC\\u002f18\",\"PCE\\u002f18\",\"PCFX\\u002f18\",\"PS\\u002f18\",\"PS2\\u002f18\",\"PS3\\u002f18\",\"PS4\\u002f18\",\"PS5\\u002f18\",\"PSN\\u002f18\",\"PSP\\u002f18\",\"PSV\\u002f18\",\"SAT\\u002f18\",\"SCD\\u002f18\",\"SNES\\u002f18\",\"Series\\u002f18\",\"VB\\u002f18\",\"VC\\u002f18\",\"WS\\u002f18\",\"WW\\u002f18\",\"Wii\\u002f18\",\"WiiU\\u002f18\",\"WinP\\u002f18\",\"X360\\u002f18\",\"XB\\u002f18\",\"XBL\\u002f18\",\"XOne\\u002f18\",\"XS\\u002f18\",\"iOS\\u002f18\",\"3DS\\u002f19\",\"All\\u002f19\",\"And\\u002f19\",\"DS\\u002f19\",\"Linux\\u002f19\",\"NS\\u002f19\",\"OSX\\u002f19\",\"PC\\u002f19\",\"PS\\u002f19\",\"PS2\\u002f19\",\"PS3\\u002f19\",\"PS4\\u002f19\",\"PS5\\u002f19\",\"PSP\\u002f19\",\"PSV\\u002f19\",\"Series\\u002f19\",\"X360\\u002f19\",\"XOne\\u002f19\",\"XS\\u002f19\",\"iOS\\u002f19\",\"2600\",\"3DO\",\"3DS\",\"5200\",\"7800\",\"ACPC\",\"AJ\",\"AST\",\"Aco\",\"All\",\"Amig\",\"And\",\"ApII\",\"Arc\",\"BBCM\",\"BRW\",\"C128\",\"C64\",\"CD32\",\"CDi\",\"CV\",\"DC\",\"DS\",\"DSi\",\"DSiW\",\"FDS\",\"FMT\",\"GB\",\"GBA\",\"GBC\",\"GC\",\"GEN\",\"GG\",\"GIZ\",\"Int\",\"Linux\",\"Lynx\",\"MS\",\"MSD\",\"MSX\",\"Mob\",\"N64\",\"NES\",\"NG\",\"NGage\",\"NS\",\"OR\",\"OSX\",\"Ouya\",\"PC\",\"PCE\",\"PCFX\",\"PS\",\"PS2\",\"PS3\",\"PS4\",\"PS5\",\"PSN\",\"PSP\",\"PSV\",\"S32X\",\"SAT\",\"SCD\",\"SNES\",\"Series\",\"TG16\",\"VB\",\"VC\",\"WS\",\"WW\",\"Wii\",\"WiiU\",\"WinP\",\"X360\",\"XB\",\"XBL\",\"XOne\",\"XS\",\"ZXS\",\"iOS\",\"iQue\"],\"labels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co\",\"All\",\"Amig\",\"And\",\"ApII\",\"Arc\",\"BBCM\",\"BRW\",\"C128\",\"C64\",\"CD32\",\"CDi\",\"CV\",\"DC\",\"DS\",\"DSi\",\"DSiW\",\"FDS\",\"FMT\",\"GB\",\"GBA\",\"GBC\",\"GC\",\"GEN\",\"GG\",\"GIZ\",\"Int\",\"Linux\",\"Lynx\",\"MS\",\"MSD\",\"MSX\",\"Mob\",\"N64\",\"NES\",\"NG\",\"NGage\",\"NS\",\"OR\",\"OSX\",\"Ouya\",\"PC\",\"PCE\",\"PCFX\",\"PS\",\"PS2\",\"PS3\",\"PS4\",\"PS5\",\"PSN\",\"PSP\",\"PSV\",\"S32X\",\"SAT\",\"SCD\",\"SNES\",\"Series\",\"TG16\",\"VB\",\"VC\",\"WS\",\"WW\",\"Wii\",\"WiiU\",\"WinP\",\"X360\",\"XB\",\"XBL\",\"XOne\",\"XS\",\"ZXS\",\"iOS\",\"iQue\"],\"name\":\"\",\"parents\":[\"2600\",\"3DO\",\"3DS\",\"5200\",\"7800\",\"ACPC\",\"AJ\",\"AST\",\"All\",\"Amig\",\"And\",\"Arc\",\"C64\",\"CV\",\"DC\",\"DS\",\"DSi\",\"DSiW\",\"FDS\",\"GB\",\"GBA\",\"GBC\",\"GC\",\"GEN\",\"GG\",\"GIZ\",\"Int\",\"Linux\",\"Lynx\",\"MS\",\"MSD\",\"MSX\",\"Mob\",\"N64\",\"NES\",\"NG\",\"NGage\",\"NS\",\"OR\",\"OSX\",\"Ouya\",\"PC\",\"PCE\",\"PCFX\",\"PS\",\"PS2\",\"PS3\",\"PS4\",\"PS5\",\"PSN\",\"PSP\",\"PSV\",\"S32X\",\"SAT\",\"SCD\",\"SNES\",\"Series\",\"VB\",\"VC\",\"WS\",\"WW\",\"Wii\",\"WiiU\",\"WinP\",\"X360\",\"XB\",\"XBL\",\"XOne\",\"XS\",\"ZXS\",\"iOS\",\"iQue\",\"3DS\",\"All\",\"And\",\"CDi\",\"CV\",\"DS\",\"Int\",\"Linux\",\"Mob\",\"NS\",\"OR\",\"OSX\",\"PC\",\"PS\",\"PS2\",\"PS3\",\"PS4\",\"PS5\",\"PSN\",\"PSP\",\"PSV\",\"Series\",\"Wii\",\"WiiU\",\"X360\",\"XB\",\"XBL\",\"XOne\",\"XS\",\"iOS\",\"2600\",\"3DO\",\"3DS\",\"5200\",\"ACPC\",\"AJ\",\"AST\",\"All\",\"Amig\",\"And\",\"C128\",\"CDi\",\"DC\",\"DS\",\"DSiW\",\"GB\",\"GBA\",\"GBC\",\"GC\",\"GEN\",\"GG\",\"GIZ\",\"Int\",\"Linux\",\"MS\",\"MSD\",\"N64\",\"NES\",\"NGage\",\"NS\",\"OR\",\"OSX\",\"Ouya\",\"PC\",\"PCE\",\"PCFX\",\"PS\",\"PS2\",\"PS3\",\"PS4\",\"PS5\",\"PSN\",\"PSP\",\"PSV\",\"SAT\",\"SCD\",\"SNES\",\"Series\",\"VC\",\"WS\",\"WW\",\"Wii\",\"WiiU\",\"WinP\",\"X360\",\"XB\",\"XBL\",\"XOne\",\"XS\",\"iOS\",\"iQue\",\"All\",\"CD32\",\"NES\",\"NS\",\"PC\",\"PS4\",\"PS5\",\"Series\",\"X360\",\"XOne\",\"XS\",\"3DS\",\"GC\",\"MSD\",\"NS\",\"OR\",\"PC\",\"PS2\",\"PS4\",\"Series\",\"WiiU\",\"X360\",\"XOne\",\"2600\",\"3DO\",\"3DS\",\"7800\",\"ACPC\",\"AJ\",\"All\",\"Amig\",\"And\",\"Arc\",\"C64\",\"CDi\",\"CV\",\"DC\",\"DS\",\"DSi\",\"DSiW\",\"GB\",\"GBA\",\"GC\",\"GEN\",\"GG\",\"Linux\",\"MS\",\"MSD\",\"N64\",\"NES\",\"NG\",\"NGage\",\"NS\",\"OR\",\"OSX\",\"PC\",\"PCE\",\"PCFX\",\"PS\",\"PS2\",\"PS3\",\"PS4\",\"PS5\",\"PSN\",\"PSP\",\"PSV\",\"SAT\",\"SCD\",\"SNES\",\"Series\",\"VB\",\"VC\",\"WS\",\"WW\",\"Wii\",\"WiiU\",\"X360\",\"XB\",\"XBL\",\"XOne\",\"XS\",\"iQue\",\"3DS\",\"All\",\"NS\",\"OSX\",\"PC\",\"PS2\",\"PS3\",\"PS4\",\"PS5\",\"PSN\",\"Series\",\"Wii\",\"WiiU\",\"XOne\",\"XS\",\"2600\",\"3DO\",\"3DS\",\"ACPC\",\"AJ\",\"AST\",\"Aco\",\"All\",\"Amig\",\"And\",\"ApII\",\"Arc\",\"BBCM\",\"BRW\",\"C64\",\"CD32\",\"DC\",\"DS\",\"DSi\",\"DSiW\",\"FMT\",\"GB\",\"GBA\",\"GBC\",\"GC\",\"GEN\",\"GG\",\"GIZ\",\"Int\",\"Linux\",\"Lynx\",\"MS\",\"MSD\",\"MSX\",\"Mob\",\"N64\",\"NES\",\"NG\",\"NGage\",\"NS\",\"OR\",\"OSX\",\"Ouya\",\"PC\",\"PCE\",\"PCFX\",\"PS\",\"PS2\",\"PS3\",\"PS4\",\"PS5\",\"PSN\",\"PSP\",\"PSV\",\"SAT\",\"SCD\",\"SNES\",\"Series\",\"TG16\",\"VB\",\"VC\",\"WS\",\"WW\",\"Wii\",\"WiiU\",\"WinP\",\"X360\",\"XB\",\"XBL\",\"XOne\",\"XS\",\"ZXS\",\"iOS\",\"3DS\",\"All\",\"And\",\"DS\",\"GBA\",\"Int\",\"Linux\",\"NS\",\"OR\",\"OSX\",\"PC\",\"PS3\",\"PS4\",\"PS5\",\"PSP\",\"PSV\",\"Series\",\"Wii\",\"WiiU\",\"X360\",\"XB\",\"XOne\",\"XS\",\"iOS\",\"3DS\",\"All\",\"NS\",\"PC\",\"PS\",\"PS2\",\"PS3\",\"PS4\",\"PS5\",\"PSN\",\"PSP\",\"Series\",\"Wii\",\"WiiU\",\"X360\",\"XB\",\"XOne\",\"XS\",\"2600\",\"3DO\",\"3DS\",\"5200\",\"7800\",\"ACPC\",\"AJ\",\"AST\",\"All\",\"Amig\",\"And\",\"BRW\",\"CV\",\"DC\",\"DS\",\"DSi\",\"DSiW\",\"GB\",\"GBA\",\"GBC\",\"GC\",\"GEN\",\"GG\",\"Int\",\"Linux\",\"Lynx\",\"MS\",\"MSD\",\"MSX\",\"Mob\",\"N64\",\"NES\",\"NG\",\"NGage\",\"NS\",\"OSX\",\"PC\",\"PCE\",\"PCFX\",\"PS\",\"PS2\",\"PS3\",\"PS4\",\"PS5\",\"PSN\",\"PSP\",\"PSV\",\"SAT\",\"SCD\",\"SNES\",\"Series\",\"VB\",\"VC\",\"WS\",\"WW\",\"Wii\",\"WiiU\",\"WinP\",\"X360\",\"XB\",\"XBL\",\"XOne\",\"XS\",\"ZXS\",\"iOS\",\"iQue\",\"2600\",\"3DO\",\"3DS\",\"5200\",\"7800\",\"AJ\",\"All\",\"Amig\",\"And\",\"Arc\",\"BRW\",\"CDi\",\"CV\",\"DC\",\"DS\",\"DSiW\",\"GB\",\"GBA\",\"GBC\",\"GC\",\"GEN\",\"GG\",\"GIZ\",\"Int\",\"Linux\",\"Lynx\",\"MS\",\"N64\",\"NES\",\"NG\",\"NGage\",\"NS\",\"OR\",\"OSX\",\"Ouya\",\"PC\",\"PCE\",\"PCFX\",\"PS\",\"PS2\",\"PS3\",\"PS4\",\"PS5\",\"PSN\",\"PSP\",\"PSV\",\"SAT\",\"SCD\",\"SNES\",\"Series\",\"VB\",\"VC\",\"WS\",\"WW\",\"Wii\",\"WiiU\",\"WinP\",\"X360\",\"XB\",\"XBL\",\"XOne\",\"XS\",\"iOS\",\"iQue\",\"2600\",\"3DO\",\"3DS\",\"5200\",\"7800\",\"AJ\",\"All\",\"And\",\"CV\",\"DC\",\"DS\",\"DSiW\",\"GB\",\"GBA\",\"GBC\",\"GC\",\"GEN\",\"GG\",\"GIZ\",\"Int\",\"Linux\",\"Lynx\",\"MS\",\"N64\",\"NES\",\"NGage\",\"NS\",\"OSX\",\"Ouya\",\"PC\",\"PCE\",\"PS\",\"PS2\",\"PS3\",\"PS4\",\"PS5\",\"PSN\",\"PSP\",\"PSV\",\"SAT\",\"SCD\",\"SNES\",\"Series\",\"VC\",\"WS\",\"WW\",\"Wii\",\"WiiU\",\"WinP\",\"X360\",\"XB\",\"XBL\",\"XOne\",\"XS\",\"iOS\",\"iQue\",\"2600\",\"3DO\",\"3DS\",\"ACPC\",\"AJ\",\"All\",\"And\",\"BRW\",\"CV\",\"DC\",\"DS\",\"DSiW\",\"GB\",\"GBA\",\"GBC\",\"GC\",\"GEN\",\"GG\",\"GIZ\",\"Int\",\"Linux\",\"Lynx\",\"MS\",\"N64\",\"NES\",\"NG\",\"NGage\",\"NS\",\"OSX\",\"Ouya\",\"PC\",\"PCE\",\"PCFX\",\"PS\",\"PS2\",\"PS3\",\"PS4\",\"PS5\",\"PSN\",\"PSP\",\"PSV\",\"SAT\",\"SCD\",\"SNES\",\"Series\",\"VC\",\"WS\",\"WW\",\"Wii\",\"WiiU\",\"X360\",\"XB\",\"XBL\",\"XOne\",\"XS\",\"iOS\",\"iQue\",\"All\",\"NS\",\"PC\",\"PS4\",\"Series\",\"XBL\",\"XOne\",\"2600\",\"3DO\",\"3DS\",\"5200\",\"7800\",\"ACPC\",\"AJ\",\"AST\",\"All\",\"Amig\",\"And\",\"ApII\",\"Arc\",\"C64\",\"CV\",\"DC\",\"DS\",\"DSiW\",\"FMT\",\"GB\",\"GBA\",\"GC\",\"GEN\",\"GG\",\"GIZ\",\"Int\",\"Linux\",\"Lynx\",\"MS\",\"MSD\",\"MSX\",\"Mob\",\"N64\",\"NES\",\"NG\",\"NGage\",\"NS\",\"OR\",\"OSX\",\"PC\",\"PCE\",\"PCFX\",\"PS\",\"PS2\",\"PS3\",\"PS4\",\"PS5\",\"PSN\",\"PSP\",\"PSV\",\"S32X\",\"SAT\",\"SCD\",\"SNES\",\"Series\",\"VB\",\"VC\",\"WS\",\"WW\",\"Wii\",\"WiiU\",\"WinP\",\"X360\",\"XB\",\"XBL\",\"XOne\",\"XS\",\"iOS\",\"iQue\",\"2600\",\"3DO\",\"3DS\",\"5200\",\"7800\",\"ACPC\",\"AJ\",\"All\",\"And\",\"CV\",\"DC\",\"DS\",\"DSiW\",\"GB\",\"GBA\",\"GC\",\"GEN\",\"GG\",\"GIZ\",\"Linux\",\"Lynx\",\"MS\",\"N64\",\"NES\",\"NGage\",\"NS\",\"OR\",\"OSX\",\"PC\",\"PCE\",\"PCFX\",\"PS\",\"PS2\",\"PS3\",\"PS4\",\"PS5\",\"PSN\",\"PSP\",\"PSV\",\"SAT\",\"SCD\",\"SNES\",\"Series\",\"VC\",\"WS\",\"WW\",\"Wii\",\"WiiU\",\"WinP\",\"X360\",\"XB\",\"XBL\",\"XOne\",\"XS\",\"iOS\",\"iQue\",\"2600\",\"3DO\",\"3DS\",\"5200\",\"7800\",\"AJ\",\"All\",\"And\",\"ApII\",\"Arc\",\"CV\",\"DC\",\"DS\",\"DSiW\",\"GB\",\"GBA\",\"GBC\",\"GC\",\"GEN\",\"GG\",\"GIZ\",\"Int\",\"Linux\",\"Lynx\",\"MS\",\"N64\",\"NES\",\"NG\",\"NGage\",\"NS\",\"OR\",\"OSX\",\"PC\",\"PCE\",\"PCFX\",\"PS\",\"PS2\",\"PS3\",\"PS4\",\"PS5\",\"PSN\",\"PSP\",\"PSV\",\"SAT\",\"SCD\",\"SNES\",\"Series\",\"VB\",\"VC\",\"WS\",\"WW\",\"Wii\",\"WiiU\",\"X360\",\"XB\",\"XBL\",\"XOne\",\"XS\",\"iOS\",\"2600\",\"3DO\",\"3DS\",\"ACPC\",\"AJ\",\"All\",\"Amig\",\"And\",\"CV\",\"DC\",\"DS\",\"DSiW\",\"GB\",\"GBA\",\"GBC\",\"GC\",\"GEN\",\"GG\",\"GIZ\",\"Int\",\"Linux\",\"Lynx\",\"MS\",\"Mob\",\"N64\",\"NES\",\"NGage\",\"NS\",\"OSX\",\"PC\",\"PCE\",\"PCFX\",\"PS\",\"PS2\",\"PS3\",\"PS4\",\"PS5\",\"PSN\",\"PSP\",\"PSV\",\"SAT\",\"SCD\",\"SNES\",\"Series\",\"VB\",\"VC\",\"WS\",\"WW\",\"Wii\",\"WiiU\",\"WinP\",\"X360\",\"XB\",\"XBL\",\"XOne\",\"XS\",\"iOS\",\"3DS\",\"All\",\"And\",\"DS\",\"Linux\",\"NS\",\"OSX\",\"PC\",\"PS\",\"PS2\",\"PS3\",\"PS4\",\"PS5\",\"PSP\",\"PSV\",\"Series\",\"X360\",\"XOne\",\"XS\",\"iOS\",\"\",\"\",\"\",\"\",\"\",\"\",\"\",\"\",\"\",\"\",\"\",\"\",\"\",\"\",\"\",\"\",\"\",\"\",\"\",\"\",\"\",\"\",\"\",\"\",\"\",\"\",\"\",\"\",\"\",\"\",\"\",\"\",\"\",\"\",\"\",\"\",\"\",\"\",\"\",\"\",\"\",\"\",\"\",\"\",\"\",\"\",\"\",\"\",\"\",\"\",\"\",\"\",\"\",\"\",\"\",\"\",\"\",\"\",\"\",\"\",\"\",\"\",\"\",\"\",\"\",\"\",\"\",\"\",\"\",\"\",\"\",\"\",\"\",\"\",\"\",\"\",\"\",\"\",\"\",\"\",\"\"],\"values\":[29.14,0.0,16.57,0.0,0.0,0.0,0.0,0.0,0.0,0.0,0.0,0.0,0.0,0.0,0.12,65.25,0.0,0.0,0.0,1.8599999999999999,41.53,0.0,18.669999999999998,4.15,0.0,0.0,0.0,0.0,0.0,0.0,0.0,0.0,0.0,10.75,5.699999999999999,0.0,0.0,7.3,0.0,0.0,0.0,10.540000000000001,0.0,0.0,78.44,171.01,191.66,92.41,0.0,0.11,47.01,11.95,0.0,1.3800000000000001,0.0,0.77,0.0,0.0,0.0,0.0,0.0,63.55,5.49,0.0,161.9,41.8,0.15,46.68,0.0,0.0,0.0,0.0,7.5200000000000005,0.0,0.0,0.0,0.0,0.95,0.0,0.0,0.0,1.28,0.0,0.0,2.74,0.0,0.0,26.28,51.21,0.0,0.0,0.12,2.73,0.0,2.9,7.13,24.59,0.71,0.0,20.36,0.0,0.0,0.0,0.06,5.06,0.0,0.0,0.0,0.0,0.0,0.0,0.0,0.0,0.0,1.32,64.27,0.0,0.52,19.55,3.7800000000000002,7.66,0.19,0.0,0.0,0.0,0.0,0.0,0.0,0.39,0.0,0.0,1.77,0.0,0.0,0.0,6.890000000000001,0.14,0.0,30.68,44.32,23.25,11.97,0.0,0.17,17.4,6.11,4.16,0.0,1.5,0.0,0.0,0.0,0.0,34.99,0.3,0.0,27.69,7.62,0.0,3.63,0.0,0.0,0.0,0.0,0.0,0.0,0.31,0.0,0.0,0.0,0.0,0.02,0.0,0.0,0.09,0.12,0.0,0.0,0.0,0.0,0.24,0.0,0.0,0.0,0.52,0.0,1.24,0.09,2.25,0.0,0.0,0.0,0.0,0.0,0.0,0.0,0.0,0.0,0.0,1.49,6.36,0.0,0.0,0.0,4.21,11.1,6.66,0.0,0.0,0.0,0.0,15.379999999999999,1.12,1.4200000000000002,0.0,1.22,0.0,0.0,0.4,0.0,0.0,57.63,66.77,46.87,15.51,0.0,0.0,12.55,3.02,8.52,0.0,11.35,0.0,0.0,0.0,0.0,0.0,10.67,0.52,37.47,11.81,0.01,5.49,0.0,0.0,0.17,0.0,0.1,0.0,1.57,0.32,1.42,3.63,0.0,0.0,0.0,0.0,0.47,1.63,0.0,0.51,0.0,8.05,0.0,0.0,0.0,0.0,0.0,0.0,0.0,0.0,0.0,0.0,0.0,0.0,0.0,0.0,68.13,0.0,0.0,0.0,1.13,33.660000000000004,0.0,5.6000000000000005,0.03,0.0,0.0,0.0,0.0,0.0,0.0,0.0,0.0,0.03,3.67,0.0,0.0,0.0,1.77,0.0,0.0,0.0,7.19,0.0,0.0,42.75,87.56,57.62,12.94,0.0,0.0,11.540000000000001,8.83,1.2,0.1,2.27,0.0,0.0,0.0,0.0,0.0,0.25,122.52,3.69,0.0,57.74,9.31,0.0,9.04,0.0,0.0,0.0,1.6,0.0,0.0,0.0,0.3,0.0,0.0,1.93,0.0,0.0,0.7,3.8600000000000003,5.46,0.0,0.41000000000000003,1.49,0.0,18.18,3.86,9.4,0.0,4.56,0.0,0.0,2.42,0.0,0.4,0.0,0.0,0.08,0.04,0.71,0.0,0.0,0.47000000000000003,0.0,0.4,1.33,0.22,0.09,0.05,0.0,8.77,0.0,7.82,0.0,0.0,0.0,0.0,0.0,0.0,0.0,0.0,0.0,0.0,2.54,26.04,0.0,0.0,1.11,53.19,0.0,17.330000000000002,3.67,0.04,0.0,0.0,0.0,0.0,0.0,0.0,0.0,7.3500000000000005,16.79,0.0,0.0,5.5200000000000005,0.0,0.54,0.0,0.0,26.55,59.58,20.14,14.78,0.0,0.07,15.94,3.23,0.83,0.0,6.54,0.0,0.0,0.01,0.0,0.0,16.46,3.45,0.0,17.16,9.620000000000001,0.01,4.07,0.0,0.0,0.0,0.0,6.42,0.02,5.640000000000001,0.0,0.0,0.0,0.0,0.0,0.0,0.0,0.0,0.0,0.0,0.0,40.22,0.0,2.7,10.88,0.0,4.28,0.0,0.0,0.0,0.0,0.0,0.0,0.0,3.41,6.38,0.0,0.0,1.32,0.0,0.0,0.0,0.9400000000000001,0.0,0.0,12.4,5.33,1.79,1.01,0.0,0.0,4.61,0.57,1.0,0.0,6.38,0.0,0.0,0.0,0.0,0.0,8.76,0.68,0.0,1.7,0.4,0.0,0.44,0.0,0.0,0.0,3.19,0.0,2.03,0.0,0.0,0.0,0.0,0.0,0.0,2.65,13.81,0.0,0.0,12.41,0.0,13.33,0.26,0.0,0.0,0.0,0.0,0.0,0.0,13.94,0.0,0.0,1.4,0.0,0.0,4.21,0.0,77.13,129.79,51.99,21.01,0.0,2.82,33.47,2.97,2.46,0.07,1.8800000000000001,0.0,0.0,0.0,0.0,25.31,0.8500000000000001,0.0,66.37,27.62,0.03,14.75,0.0,0.0,0.0,0.0,0.0,18.22,0.0,0.0,0.0,0.0,0.0,0.0,0.68,31.37,0.0,4.87,17.61,0.56,4.69,0.35000000000000003,0.0,0.0,0.0,0.0,0.0,0.0,1.5999999999999999,4.47,0.0,0.0,3.0,0.0,0.0,15.38,0.0,0.03,31.44,40.75,57.73,46.81,0.0,0.0,23.0,10.59,3.76,0.06,9.39,0.0,0.0,1.22,0.0,5.640000000000001,2.16,65.1,11.74,0.0,14.56,0.0,0.0,0.0,0.0,1.89,0.0,0.0,0.0,0.0,0.0,22.96,0.0,0.75,0.0,0.0,0.0,0.0,0.0,0.0,0.0,0.0,0.0,0.0,0.0,0.0,0.33,7.15,0.0,0.0,0.0,3.69,9.61,0.13,0.0,0.0,0.0,0.0,0.0,0.0,0.0,0.0,0.0,8.64,6.04,0.0,0.0,1.51,0.0,0.0,36.66,0.02,0.0,37.67,104.2,189.53,144.95,0.0,0.59,19.490000000000002,3.83,0.0,3.64,0.0,1.43,0.0,0.0,0.0,0.0,0.0,22.18,1.89,0.0,231.35,46.94,0.0,90.32,0.0,0.0,0.0,0.0,0.02,11.73,0.0,0.0,0.0,0.0,0.0,0.0,0.0,0.52,89.04,0.0,3.55,5.5,5.94,0.0,0.0,0.0,0.0,0.0,0.0,1.44,0.0,0.0,1.12,0.0,0.0,50.55,0.0,0.0,15.07,37.99,8.19,6.4799999999999995,0.0,0.0,5.76,0.6,1.1300000000000001,0.0,2.5100000000000002,0.0,0.0,0.0,0.0,31.6,0.0,0.0,10.98,7.45,0.0,3.48,0.0,0.0,0.0,3.43,0.0,7.09,0.0,0.0,0.0,0.0,0.0,0.0,0.0,0.0,3.66,30.57,0.0,2.46,16.44,0.0,19.71,3.1999999999999997,0.0,0.0,0.0,0.0,0.0,0.0,26.37,7.43,0.02,0.0,3.99,0.0,0.0,10.040000000000001,0.0,0.0,115.91,266.38,153.41,108.84,0.0,0.03,42.58,5.02,2.81,0.0,17.87,0.0,0.0,0.34,0.0,0.0,92.15,3.58,141.09,54.22,0.0,48.8,0.0,0.0,0.0,0.0,2.17,0.0,0.0,0.0,0.0,0.0,0.0,0.0,14.33,0.0,1.6400000000000001,5.51,0.0,1.49,0.19,0.0,0.0,0.0,0.0,0.0,0.0,0.0,0.78,0.0,0.0,0.57,0.03,20.64,0.0,0.0,20.58,13.34,4.95,1.62,0.0,0.02,8.82,0.49,2.7800000000000002,0.14,3.8200000000000003,0.0,0.0,0.0,0.21000000000000002,0.0,4.13,0.02,0.0,6.24,2.72,0.0,1.08,0.0,0.0,0.09,0.0,0.0,0.02,0.0,0.06,0.0,0.0,0.0,0.08,0.97,0.58,0.0,2.12,1.59,0.0,0.25,0.02,0.0,0.0,75.66,0.19,99.27,0.0,0.0,0.0,0.0,0.0,0.0,0.0,0.0,0.0,0.0,0.0,0.0,0.0,0.0,0.0,0.0,0.0,0.0,13.31,457.51,0.0,0.0,0.0,0.0,19.84,224.48000000000002,4.34,119.53,18.830000000000002,0.04,0.0,0.0,0.0,0.0,0.0,0.0,0.0,0.03,93.72,47.93,1.4400000000000002,0.0,36.46,0.0,0.03,0.0,168.99,0.16,0.03,546.25,1027.74,839.7,539.92,0.0,3.8099999999999996,245.29,63.019999999999996,0.0,33.67,0.37,65.71000000000001,0.0,0.0,0.0,0.35000000000000003,1.43,0.25,459.44,35.42,0.0,859.79,232.05,0.19999999999999998,268.96,0.0,0.0,0.0,0.0],\"type\":\"sunburst\"}],                        {\"template\":{\"data\":{\"histogram2dcontour\":[{\"type\":\"histogram2dcontour\",\"colorbar\":{\"outlinewidth\":0,\"ticks\":\"\"},\"colorscale\":[[0.0,\"#0d0887\"],[0.1111111111111111,\"#46039f\"],[0.2222222222222222,\"#7201a8\"],[0.3333333333333333,\"#9c179e\"],[0.4444444444444444,\"#bd3786\"],[0.5555555555555556,\"#d8576b\"],[0.6666666666666666,\"#ed7953\"],[0.7777777777777778,\"#fb9f3a\"],[0.8888888888888888,\"#fdca26\"],[1.0,\"#f0f921\"]]}],\"choropleth\":[{\"type\":\"choropleth\",\"colorbar\":{\"outlinewidth\":0,\"ticks\":\"\"}}],\"histogram2d\":[{\"type\":\"histogram2d\",\"colorbar\":{\"outlinewidth\":0,\"ticks\":\"\"},\"colorscale\":[[0.0,\"#0d0887\"],[0.1111111111111111,\"#46039f\"],[0.2222222222222222,\"#7201a8\"],[0.3333333333333333,\"#9c179e\"],[0.4444444444444444,\"#bd3786\"],[0.5555555555555556,\"#d8576b\"],[0.6666666666666666,\"#ed7953\"],[0.7777777777777778,\"#fb9f3a\"],[0.8888888888888888,\"#fdca26\"],[1.0,\"#f0f921\"]]}],\"heatmap\":[{\"type\":\"heatmap\",\"colorbar\":{\"outlinewidth\":0,\"ticks\":\"\"},\"colorscale\":[[0.0,\"#0d0887\"],[0.1111111111111111,\"#46039f\"],[0.2222222222222222,\"#7201a8\"],[0.3333333333333333,\"#9c179e\"],[0.4444444444444444,\"#bd3786\"],[0.5555555555555556,\"#d8576b\"],[0.6666666666666666,\"#ed7953\"],[0.7777777777777778,\"#fb9f3a\"],[0.8888888888888888,\"#fdca26\"],[1.0,\"#f0f921\"]]}],\"heatmapgl\":[{\"type\":\"heatmapgl\",\"colorbar\":{\"outlinewidth\":0,\"ticks\":\"\"},\"colorscale\":[[0.0,\"#0d0887\"],[0.1111111111111111,\"#46039f\"],[0.2222222222222222,\"#7201a8\"],[0.3333333333333333,\"#9c179e\"],[0.4444444444444444,\"#bd3786\"],[0.5555555555555556,\"#d8576b\"],[0.6666666666666666,\"#ed7953\"],[0.7777777777777778,\"#fb9f3a\"],[0.8888888888888888,\"#fdca26\"],[1.0,\"#f0f921\"]]}],\"contourcarpet\":[{\"type\":\"contourcarpet\",\"colorbar\":{\"outlinewidth\":0,\"ticks\":\"\"}}],\"contour\":[{\"type\":\"contour\",\"colorbar\":{\"outlinewidth\":0,\"ticks\":\"\"},\"colorscale\":[[0.0,\"#0d0887\"],[0.1111111111111111,\"#46039f\"],[0.2222222222222222,\"#7201a8\"],[0.3333333333333333,\"#9c179e\"],[0.4444444444444444,\"#bd3786\"],[0.5555555555555556,\"#d8576b\"],[0.6666666666666666,\"#ed7953\"],[0.7777777777777778,\"#fb9f3a\"],[0.8888888888888888,\"#fdca26\"],[1.0,\"#f0f921\"]]}],\"surface\":[{\"type\":\"surface\",\"colorbar\":{\"outlinewidth\":0,\"ticks\":\"\"},\"colorscale\":[[0.0,\"#0d0887\"],[0.1111111111111111,\"#46039f\"],[0.2222222222222222,\"#7201a8\"],[0.3333333333333333,\"#9c179e\"],[0.4444444444444444,\"#bd3786\"],[0.5555555555555556,\"#d8576b\"],[0.6666666666666666,\"#ed7953\"],[0.7777777777777778,\"#fb9f3a\"],[0.8888888888888888,\"#fdca26\"],[1.0,\"#f0f921\"]]}],\"mesh3d\":[{\"type\":\"mesh3d\",\"colorbar\":{\"outlinewidth\":0,\"ticks\":\"\"}}],\"scatter\":[{\"fillpattern\":{\"fillmode\":\"overlay\",\"size\":10,\"solidity\":0.2},\"type\":\"scatter\"}],\"parcoords\":[{\"type\":\"parcoords\",\"line\":{\"colorbar\":{\"outlinewidth\":0,\"ticks\":\"\"}}}],\"scatterpolargl\":[{\"type\":\"scatterpolargl\",\"marker\":{\"colorbar\":{\"outlinewidth\":0,\"ticks\":\"\"}}}],\"bar\":[{\"error_x\":{\"color\":\"#2a3f5f\"},\"error_y\":{\"color\":\"#2a3f5f\"},\"marker\":{\"line\":{\"color\":\"#E5ECF6\",\"width\":0.5},\"pattern\":{\"fillmode\":\"overlay\",\"size\":10,\"solidity\":0.2}},\"type\":\"bar\"}],\"scattergeo\":[{\"type\":\"scattergeo\",\"marker\":{\"colorbar\":{\"outlinewidth\":0,\"ticks\":\"\"}}}],\"scatterpolar\":[{\"type\":\"scatterpolar\",\"marker\":{\"colorbar\":{\"outlinewidth\":0,\"ticks\":\"\"}}}],\"histogram\":[{\"marker\":{\"pattern\":{\"fillmode\":\"overlay\",\"size\":10,\"solidity\":0.2}},\"type\":\"histogram\"}],\"scattergl\":[{\"type\":\"scattergl\",\"marker\":{\"colorbar\":{\"outlinewidth\":0,\"ticks\":\"\"}}}],\"scatter3d\":[{\"type\":\"scatter3d\",\"line\":{\"colorbar\":{\"outlinewidth\":0,\"ticks\":\"\"}},\"marker\":{\"colorbar\":{\"outlinewidth\":0,\"ticks\":\"\"}}}],\"scattermapbox\":[{\"type\":\"scattermapbox\",\"marker\":{\"colorbar\":{\"outlinewidth\":0,\"ticks\":\"\"}}}],\"scatterternary\":[{\"type\":\"scatterternary\",\"marker\":{\"colorbar\":{\"outlinewidth\":0,\"ticks\":\"\"}}}],\"scattercarpet\":[{\"type\":\"scattercarpet\",\"marker\":{\"colorbar\":{\"outlinewidth\":0,\"ticks\":\"\"}}}],\"carpet\":[{\"aaxis\":{\"endlinecolor\":\"#2a3f5f\",\"gridcolor\":\"white\",\"linecolor\":\"white\",\"minorgridcolor\":\"white\",\"startlinecolor\":\"#2a3f5f\"},\"baxis\":{\"endlinecolor\":\"#2a3f5f\",\"gridcolor\":\"white\",\"linecolor\":\"white\",\"minorgridcolor\":\"white\",\"startlinecolor\":\"#2a3f5f\"},\"type\":\"carpet\"}],\"table\":[{\"cells\":{\"fill\":{\"color\":\"#EBF0F8\"},\"line\":{\"color\":\"white\"}},\"header\":{\"fill\":{\"color\":\"#C8D4E3\"},\"line\":{\"color\":\"white\"}},\"type\":\"table\"}],\"barpolar\":[{\"marker\":{\"line\":{\"color\":\"#E5ECF6\",\"width\":0.5},\"pattern\":{\"fillmode\":\"overlay\",\"size\":10,\"solidity\":0.2}},\"type\":\"barpolar\"}],\"pie\":[{\"automargin\":true,\"type\":\"pie\"}]},\"layout\":{\"autotypenumbers\":\"strict\",\"colorway\":[\"#636efa\",\"#EF553B\",\"#00cc96\",\"#ab63fa\",\"#FFA15A\",\"#19d3f3\",\"#FF6692\",\"#B6E880\",\"#FF97FF\",\"#FECB52\"],\"font\":{\"color\":\"#2a3f5f\"},\"hovermode\":\"closest\",\"hoverlabel\":{\"align\":\"left\"},\"paper_bgcolor\":\"white\",\"plot_bgcolor\":\"#E5ECF6\",\"polar\":{\"bgcolor\":\"#E5ECF6\",\"angularaxis\":{\"gridcolor\":\"white\",\"linecolor\":\"white\",\"ticks\":\"\"},\"radialaxis\":{\"gridcolor\":\"white\",\"linecolor\":\"white\",\"ticks\":\"\"}},\"ternary\":{\"bgcolor\":\"#E5ECF6\",\"aaxis\":{\"gridcolor\":\"white\",\"linecolor\":\"white\",\"ticks\":\"\"},\"baxis\":{\"gridcolor\":\"white\",\"linecolor\":\"white\",\"ticks\":\"\"},\"caxis\":{\"gridcolor\":\"white\",\"linecolor\":\"white\",\"ticks\":\"\"}},\"coloraxis\":{\"colorbar\":{\"outlinewidth\":0,\"ticks\":\"\"}},\"colorscale\":{\"sequential\":[[0.0,\"#0d0887\"],[0.1111111111111111,\"#46039f\"],[0.2222222222222222,\"#7201a8\"],[0.3333333333333333,\"#9c179e\"],[0.4444444444444444,\"#bd3786\"],[0.5555555555555556,\"#d8576b\"],[0.6666666666666666,\"#ed7953\"],[0.7777777777777778,\"#fb9f3a\"],[0.8888888888888888,\"#fdca26\"],[1.0,\"#f0f921\"]],\"sequentialminus\":[[0.0,\"#0d0887\"],[0.1111111111111111,\"#46039f\"],[0.2222222222222222,\"#7201a8\"],[0.3333333333333333,\"#9c179e\"],[0.4444444444444444,\"#bd3786\"],[0.5555555555555556,\"#d8576b\"],[0.6666666666666666,\"#ed7953\"],[0.7777777777777778,\"#fb9f3a\"],[0.8888888888888888,\"#fdca26\"],[1.0,\"#f0f921\"]],\"diverging\":[[0,\"#8e0152\"],[0.1,\"#c51b7d\"],[0.2,\"#de77ae\"],[0.3,\"#f1b6da\"],[0.4,\"#fde0ef\"],[0.5,\"#f7f7f7\"],[0.6,\"#e6f5d0\"],[0.7,\"#b8e186\"],[0.8,\"#7fbc41\"],[0.9,\"#4d9221\"],[1,\"#276419\"]]},\"xaxis\":{\"gridcolor\":\"white\",\"linecolor\":\"white\",\"ticks\":\"\",\"title\":{\"standoff\":15},\"zerolinecolor\":\"white\",\"automargin\":true,\"zerolinewidth\":2},\"yaxis\":{\"gridcolor\":\"white\",\"linecolor\":\"white\",\"ticks\":\"\",\"title\":{\"standoff\":15},\"zerolinecolor\":\"white\",\"automargin\":true,\"zerolinewidth\":2},\"scene\":{\"xaxis\":{\"backgroundcolor\":\"#E5ECF6\",\"gridcolor\":\"white\",\"linecolor\":\"white\",\"showbackground\":true,\"ticks\":\"\",\"zerolinecolor\":\"white\",\"gridwidth\":2},\"yaxis\":{\"backgroundcolor\":\"#E5ECF6\",\"gridcolor\":\"white\",\"linecolor\":\"white\",\"showbackground\":true,\"ticks\":\"\",\"zerolinecolor\":\"white\",\"gridwidth\":2},\"zaxis\":{\"backgroundcolor\":\"#E5ECF6\",\"gridcolor\":\"white\",\"linecolor\":\"white\",\"showbackground\":true,\"ticks\":\"\",\"zerolinecolor\":\"white\",\"gridwidth\":2}},\"shapedefaults\":{\"line\":{\"color\":\"#2a3f5f\"}},\"annotationdefaults\":{\"arrowcolor\":\"#2a3f5f\",\"arrowhead\":0,\"arrowwidth\":1},\"geo\":{\"bgcolor\":\"white\",\"landcolor\":\"#E5ECF6\",\"subunitcolor\":\"white\",\"showland\":true,\"showlakes\":true,\"lakecolor\":\"white\"},\"title\":{\"x\":0.05},\"mapbox\":{\"style\":\"light\"}}},\"legend\":{\"tracegroupgap\":0},\"title\":{\"text\":\"Console specialization in genre\"}},                        {\"responsive\": true}                    ).then(function(){\n",
              "                            \n",
              "var gd = document.getElementById('27d32dff-b4e4-4547-ade8-c306a1dc588f');\n",
              "var x = new MutationObserver(function (mutations, observer) {{\n",
              "        var display = window.getComputedStyle(gd).display;\n",
              "        if (!display || display === 'none') {{\n",
              "            console.log([gd, 'removed!']);\n",
              "            Plotly.purge(gd);\n",
              "            observer.disconnect();\n",
              "        }}\n",
              "}});\n",
              "\n",
              "// Listen for the removal of the full notebook cells\n",
              "var notebookContainer = gd.closest('#notebook-container');\n",
              "if (notebookContainer) {{\n",
              "    x.observe(notebookContainer, {childList: true});\n",
              "}}\n",
              "\n",
              "// Listen for the clearing of the current output cell\n",
              "var outputEl = gd.closest('.output');\n",
              "if (outputEl) {{\n",
              "    x.observe(outputEl, {childList: true});\n",
              "}}\n",
              "\n",
              "                        })                };                            </script>        </div>\n",
              "</body>\n",
              "</html>"
            ]
          },
          "metadata": {}
        }
      ]
    },
    {
      "cell_type": "markdown",
      "source": [
        "conclusion : PC console do specialize in genre 'Adventure', 'Strategy' and 'Misc'"
      ],
      "metadata": {
        "id": "koYFswS4vGdL"
      }
    },
    {
      "cell_type": "markdown",
      "source": [
        "#4.What titles are popular in one region but flop in another?"
      ],
      "metadata": {
        "id": "vS99MGRGvpw1"
      }
    },
    {
      "cell_type": "code",
      "source": [
        "# Display the first few rows of the DataFrame to inspect the data\n",
        "df.head()"
      ],
      "metadata": {
        "id": "RAsoseJpjk8v",
        "colab": {
          "base_uri": "https://localhost:8080/",
          "height": 521
        },
        "outputId": "dd1a74c4-a986-4095-8740-c6b9004f476f"
      },
      "execution_count": null,
      "outputs": [
        {
          "output_type": "execute_result",
          "data": {
            "text/plain": [
              "                         title console  genre  publisher       developer  \\\n",
              "0           Grand Theft Auto V     PS3      0       2445  Rockstar North   \n",
              "1           Grand Theft Auto V     PS4      0       2445  Rockstar North   \n",
              "2  Grand Theft Auto: Vice City     PS2      0       2445  Rockstar North   \n",
              "3           Grand Theft Auto V    X360      0       2445  Rockstar North   \n",
              "4    Call of Duty: Black Ops 3     PS4     15        101        Treyarch   \n",
              "\n",
              "   critic_score  total_sales   na_sales  jp_sales  pal_sales  other_sales  \\\n",
              "0           9.4        20.32  12.339666  5.259037       9.85    24.297031   \n",
              "1           9.7        19.39  11.713109  2.948595       9.71    23.507387   \n",
              "2           9.6        16.15  16.462819  2.178447       5.49    13.715799   \n",
              "3           NaN        15.86  17.776569 -0.250480       5.33    10.873079   \n",
              "4           8.1        15.09  11.955647  1.822994       6.05    18.927450   \n",
              "\n",
              "  release_date last_update  avg_sales_per_region  release_year  \n",
              "0   2013-09-17         NaN             13.965245        2013.0  \n",
              "1   2014-11-18  2018-01-03             12.723030        2014.0  \n",
              "2   2002-10-28         NaN             10.785688        2002.0  \n",
              "3   2013-09-17         NaN              9.466389        2013.0  \n",
              "4   2015-11-06  2018-01-14             10.902031        2015.0  "
            ],
            "text/html": [
              "\n",
              "  <div id=\"df-06354e96-d1a9-40d0-ad4a-2b5889fa9a22\" class=\"colab-df-container\">\n",
              "    <div>\n",
              "<style scoped>\n",
              "    .dataframe tbody tr th:only-of-type {\n",
              "        vertical-align: middle;\n",
              "    }\n",
              "\n",
              "    .dataframe tbody tr th {\n",
              "        vertical-align: top;\n",
              "    }\n",
              "\n",
              "    .dataframe thead th {\n",
              "        text-align: right;\n",
              "    }\n",
              "</style>\n",
              "<table border=\"1\" class=\"dataframe\">\n",
              "  <thead>\n",
              "    <tr style=\"text-align: right;\">\n",
              "      <th></th>\n",
              "      <th>title</th>\n",
              "      <th>console</th>\n",
              "      <th>genre</th>\n",
              "      <th>publisher</th>\n",
              "      <th>developer</th>\n",
              "      <th>critic_score</th>\n",
              "      <th>total_sales</th>\n",
              "      <th>na_sales</th>\n",
              "      <th>jp_sales</th>\n",
              "      <th>pal_sales</th>\n",
              "      <th>other_sales</th>\n",
              "      <th>release_date</th>\n",
              "      <th>last_update</th>\n",
              "      <th>avg_sales_per_region</th>\n",
              "      <th>release_year</th>\n",
              "    </tr>\n",
              "  </thead>\n",
              "  <tbody>\n",
              "    <tr>\n",
              "      <th>0</th>\n",
              "      <td>Grand Theft Auto V</td>\n",
              "      <td>PS3</td>\n",
              "      <td>0</td>\n",
              "      <td>2445</td>\n",
              "      <td>Rockstar North</td>\n",
              "      <td>9.4</td>\n",
              "      <td>20.32</td>\n",
              "      <td>12.339666</td>\n",
              "      <td>5.259037</td>\n",
              "      <td>9.85</td>\n",
              "      <td>24.297031</td>\n",
              "      <td>2013-09-17</td>\n",
              "      <td>NaN</td>\n",
              "      <td>13.965245</td>\n",
              "      <td>2013.0</td>\n",
              "    </tr>\n",
              "    <tr>\n",
              "      <th>1</th>\n",
              "      <td>Grand Theft Auto V</td>\n",
              "      <td>PS4</td>\n",
              "      <td>0</td>\n",
              "      <td>2445</td>\n",
              "      <td>Rockstar North</td>\n",
              "      <td>9.7</td>\n",
              "      <td>19.39</td>\n",
              "      <td>11.713109</td>\n",
              "      <td>2.948595</td>\n",
              "      <td>9.71</td>\n",
              "      <td>23.507387</td>\n",
              "      <td>2014-11-18</td>\n",
              "      <td>2018-01-03</td>\n",
              "      <td>12.723030</td>\n",
              "      <td>2014.0</td>\n",
              "    </tr>\n",
              "    <tr>\n",
              "      <th>2</th>\n",
              "      <td>Grand Theft Auto: Vice City</td>\n",
              "      <td>PS2</td>\n",
              "      <td>0</td>\n",
              "      <td>2445</td>\n",
              "      <td>Rockstar North</td>\n",
              "      <td>9.6</td>\n",
              "      <td>16.15</td>\n",
              "      <td>16.462819</td>\n",
              "      <td>2.178447</td>\n",
              "      <td>5.49</td>\n",
              "      <td>13.715799</td>\n",
              "      <td>2002-10-28</td>\n",
              "      <td>NaN</td>\n",
              "      <td>10.785688</td>\n",
              "      <td>2002.0</td>\n",
              "    </tr>\n",
              "    <tr>\n",
              "      <th>3</th>\n",
              "      <td>Grand Theft Auto V</td>\n",
              "      <td>X360</td>\n",
              "      <td>0</td>\n",
              "      <td>2445</td>\n",
              "      <td>Rockstar North</td>\n",
              "      <td>NaN</td>\n",
              "      <td>15.86</td>\n",
              "      <td>17.776569</td>\n",
              "      <td>-0.250480</td>\n",
              "      <td>5.33</td>\n",
              "      <td>10.873079</td>\n",
              "      <td>2013-09-17</td>\n",
              "      <td>NaN</td>\n",
              "      <td>9.466389</td>\n",
              "      <td>2013.0</td>\n",
              "    </tr>\n",
              "    <tr>\n",
              "      <th>4</th>\n",
              "      <td>Call of Duty: Black Ops 3</td>\n",
              "      <td>PS4</td>\n",
              "      <td>15</td>\n",
              "      <td>101</td>\n",
              "      <td>Treyarch</td>\n",
              "      <td>8.1</td>\n",
              "      <td>15.09</td>\n",
              "      <td>11.955647</td>\n",
              "      <td>1.822994</td>\n",
              "      <td>6.05</td>\n",
              "      <td>18.927450</td>\n",
              "      <td>2015-11-06</td>\n",
              "      <td>2018-01-14</td>\n",
              "      <td>10.902031</td>\n",
              "      <td>2015.0</td>\n",
              "    </tr>\n",
              "  </tbody>\n",
              "</table>\n",
              "</div>\n",
              "    <div class=\"colab-df-buttons\">\n",
              "\n",
              "  <div class=\"colab-df-container\">\n",
              "    <button class=\"colab-df-convert\" onclick=\"convertToInteractive('df-06354e96-d1a9-40d0-ad4a-2b5889fa9a22')\"\n",
              "            title=\"Convert this dataframe to an interactive table.\"\n",
              "            style=\"display:none;\">\n",
              "\n",
              "  <svg xmlns=\"http://www.w3.org/2000/svg\" height=\"24px\" viewBox=\"0 -960 960 960\">\n",
              "    <path d=\"M120-120v-720h720v720H120Zm60-500h600v-160H180v160Zm220 220h160v-160H400v160Zm0 220h160v-160H400v160ZM180-400h160v-160H180v160Zm440 0h160v-160H620v160ZM180-180h160v-160H180v160Zm440 0h160v-160H620v160Z\"/>\n",
              "  </svg>\n",
              "    </button>\n",
              "\n",
              "  <style>\n",
              "    .colab-df-container {\n",
              "      display:flex;\n",
              "      gap: 12px;\n",
              "    }\n",
              "\n",
              "    .colab-df-convert {\n",
              "      background-color: #E8F0FE;\n",
              "      border: none;\n",
              "      border-radius: 50%;\n",
              "      cursor: pointer;\n",
              "      display: none;\n",
              "      fill: #1967D2;\n",
              "      height: 32px;\n",
              "      padding: 0 0 0 0;\n",
              "      width: 32px;\n",
              "    }\n",
              "\n",
              "    .colab-df-convert:hover {\n",
              "      background-color: #E2EBFA;\n",
              "      box-shadow: 0px 1px 2px rgba(60, 64, 67, 0.3), 0px 1px 3px 1px rgba(60, 64, 67, 0.15);\n",
              "      fill: #174EA6;\n",
              "    }\n",
              "\n",
              "    .colab-df-buttons div {\n",
              "      margin-bottom: 4px;\n",
              "    }\n",
              "\n",
              "    [theme=dark] .colab-df-convert {\n",
              "      background-color: #3B4455;\n",
              "      fill: #D2E3FC;\n",
              "    }\n",
              "\n",
              "    [theme=dark] .colab-df-convert:hover {\n",
              "      background-color: #434B5C;\n",
              "      box-shadow: 0px 1px 3px 1px rgba(0, 0, 0, 0.15);\n",
              "      filter: drop-shadow(0px 1px 2px rgba(0, 0, 0, 0.3));\n",
              "      fill: #FFFFFF;\n",
              "    }\n",
              "  </style>\n",
              "\n",
              "    <script>\n",
              "      const buttonEl =\n",
              "        document.querySelector('#df-06354e96-d1a9-40d0-ad4a-2b5889fa9a22 button.colab-df-convert');\n",
              "      buttonEl.style.display =\n",
              "        google.colab.kernel.accessAllowed ? 'block' : 'none';\n",
              "\n",
              "      async function convertToInteractive(key) {\n",
              "        const element = document.querySelector('#df-06354e96-d1a9-40d0-ad4a-2b5889fa9a22');\n",
              "        const dataTable =\n",
              "          await google.colab.kernel.invokeFunction('convertToInteractive',\n",
              "                                                    [key], {});\n",
              "        if (!dataTable) return;\n",
              "\n",
              "        const docLinkHtml = 'Like what you see? Visit the ' +\n",
              "          '<a target=\"_blank\" href=https://colab.research.google.com/notebooks/data_table.ipynb>data table notebook</a>'\n",
              "          + ' to learn more about interactive tables.';\n",
              "        element.innerHTML = '';\n",
              "        dataTable['output_type'] = 'display_data';\n",
              "        await google.colab.output.renderOutput(dataTable, element);\n",
              "        const docLink = document.createElement('div');\n",
              "        docLink.innerHTML = docLinkHtml;\n",
              "        element.appendChild(docLink);\n",
              "      }\n",
              "    </script>\n",
              "  </div>\n",
              "\n",
              "\n",
              "<div id=\"df-0a743961-7a14-4d11-b14e-6b697c25fdfd\">\n",
              "  <button class=\"colab-df-quickchart\" onclick=\"quickchart('df-0a743961-7a14-4d11-b14e-6b697c25fdfd')\"\n",
              "            title=\"Suggest charts\"\n",
              "            style=\"display:none;\">\n",
              "\n",
              "<svg xmlns=\"http://www.w3.org/2000/svg\" height=\"24px\"viewBox=\"0 0 24 24\"\n",
              "     width=\"24px\">\n",
              "    <g>\n",
              "        <path d=\"M19 3H5c-1.1 0-2 .9-2 2v14c0 1.1.9 2 2 2h14c1.1 0 2-.9 2-2V5c0-1.1-.9-2-2-2zM9 17H7v-7h2v7zm4 0h-2V7h2v10zm4 0h-2v-4h2v4z\"/>\n",
              "    </g>\n",
              "</svg>\n",
              "  </button>\n",
              "\n",
              "<style>\n",
              "  .colab-df-quickchart {\n",
              "      --bg-color: #E8F0FE;\n",
              "      --fill-color: #1967D2;\n",
              "      --hover-bg-color: #E2EBFA;\n",
              "      --hover-fill-color: #174EA6;\n",
              "      --disabled-fill-color: #AAA;\n",
              "      --disabled-bg-color: #DDD;\n",
              "  }\n",
              "\n",
              "  [theme=dark] .colab-df-quickchart {\n",
              "      --bg-color: #3B4455;\n",
              "      --fill-color: #D2E3FC;\n",
              "      --hover-bg-color: #434B5C;\n",
              "      --hover-fill-color: #FFFFFF;\n",
              "      --disabled-bg-color: #3B4455;\n",
              "      --disabled-fill-color: #666;\n",
              "  }\n",
              "\n",
              "  .colab-df-quickchart {\n",
              "    background-color: var(--bg-color);\n",
              "    border: none;\n",
              "    border-radius: 50%;\n",
              "    cursor: pointer;\n",
              "    display: none;\n",
              "    fill: var(--fill-color);\n",
              "    height: 32px;\n",
              "    padding: 0;\n",
              "    width: 32px;\n",
              "  }\n",
              "\n",
              "  .colab-df-quickchart:hover {\n",
              "    background-color: var(--hover-bg-color);\n",
              "    box-shadow: 0 1px 2px rgba(60, 64, 67, 0.3), 0 1px 3px 1px rgba(60, 64, 67, 0.15);\n",
              "    fill: var(--button-hover-fill-color);\n",
              "  }\n",
              "\n",
              "  .colab-df-quickchart-complete:disabled,\n",
              "  .colab-df-quickchart-complete:disabled:hover {\n",
              "    background-color: var(--disabled-bg-color);\n",
              "    fill: var(--disabled-fill-color);\n",
              "    box-shadow: none;\n",
              "  }\n",
              "\n",
              "  .colab-df-spinner {\n",
              "    border: 2px solid var(--fill-color);\n",
              "    border-color: transparent;\n",
              "    border-bottom-color: var(--fill-color);\n",
              "    animation:\n",
              "      spin 1s steps(1) infinite;\n",
              "  }\n",
              "\n",
              "  @keyframes spin {\n",
              "    0% {\n",
              "      border-color: transparent;\n",
              "      border-bottom-color: var(--fill-color);\n",
              "      border-left-color: var(--fill-color);\n",
              "    }\n",
              "    20% {\n",
              "      border-color: transparent;\n",
              "      border-left-color: var(--fill-color);\n",
              "      border-top-color: var(--fill-color);\n",
              "    }\n",
              "    30% {\n",
              "      border-color: transparent;\n",
              "      border-left-color: var(--fill-color);\n",
              "      border-top-color: var(--fill-color);\n",
              "      border-right-color: var(--fill-color);\n",
              "    }\n",
              "    40% {\n",
              "      border-color: transparent;\n",
              "      border-right-color: var(--fill-color);\n",
              "      border-top-color: var(--fill-color);\n",
              "    }\n",
              "    60% {\n",
              "      border-color: transparent;\n",
              "      border-right-color: var(--fill-color);\n",
              "    }\n",
              "    80% {\n",
              "      border-color: transparent;\n",
              "      border-right-color: var(--fill-color);\n",
              "      border-bottom-color: var(--fill-color);\n",
              "    }\n",
              "    90% {\n",
              "      border-color: transparent;\n",
              "      border-bottom-color: var(--fill-color);\n",
              "    }\n",
              "  }\n",
              "</style>\n",
              "\n",
              "  <script>\n",
              "    async function quickchart(key) {\n",
              "      const quickchartButtonEl =\n",
              "        document.querySelector('#' + key + ' button');\n",
              "      quickchartButtonEl.disabled = true;  // To prevent multiple clicks.\n",
              "      quickchartButtonEl.classList.add('colab-df-spinner');\n",
              "      try {\n",
              "        const charts = await google.colab.kernel.invokeFunction(\n",
              "            'suggestCharts', [key], {});\n",
              "      } catch (error) {\n",
              "        console.error('Error during call to suggestCharts:', error);\n",
              "      }\n",
              "      quickchartButtonEl.classList.remove('colab-df-spinner');\n",
              "      quickchartButtonEl.classList.add('colab-df-quickchart-complete');\n",
              "    }\n",
              "    (() => {\n",
              "      let quickchartButtonEl =\n",
              "        document.querySelector('#df-0a743961-7a14-4d11-b14e-6b697c25fdfd button');\n",
              "      quickchartButtonEl.style.display =\n",
              "        google.colab.kernel.accessAllowed ? 'block' : 'none';\n",
              "    })();\n",
              "  </script>\n",
              "</div>\n",
              "\n",
              "    </div>\n",
              "  </div>\n"
            ],
            "application/vnd.google.colaboratory.intrinsic+json": {
              "type": "dataframe",
              "variable_name": "df",
              "summary": "{\n  \"name\": \"df\",\n  \"rows\": 63998,\n  \"fields\": [\n    {\n      \"column\": \"title\",\n      \"properties\": {\n        \"dtype\": \"string\",\n        \"num_unique_values\": 39798,\n        \"samples\": [\n          \"Sokukoku no Kusabi: Hiiro no Kakera 3 Portable\",\n          \"Fit in Six\",\n          \"Destination Earthstar\"\n        ],\n        \"semantic_type\": \"\",\n        \"description\": \"\"\n      }\n    },\n    {\n      \"column\": \"console\",\n      \"properties\": {\n        \"dtype\": \"category\",\n        \"num_unique_values\": 81,\n        \"samples\": [\n          \"WW\",\n          \"PS3\",\n          \"GC\"\n        ],\n        \"semantic_type\": \"\",\n        \"description\": \"\"\n      }\n    },\n    {\n      \"column\": \"genre\",\n      \"properties\": {\n        \"dtype\": \"number\",\n        \"std\": 6,\n        \"min\": 0,\n        \"max\": 19,\n        \"num_unique_values\": 20,\n        \"samples\": [\n          0,\n          4,\n          14\n        ],\n        \"semantic_type\": \"\",\n        \"description\": \"\"\n      }\n    },\n    {\n      \"column\": \"publisher\",\n      \"properties\": {\n        \"dtype\": \"number\",\n        \"std\": 1042,\n        \"min\": 0,\n        \"max\": 3382,\n        \"num_unique_values\": 3383,\n        \"samples\": [\n          2219,\n          2963,\n          1553\n        ],\n        \"semantic_type\": \"\",\n        \"description\": \"\"\n      }\n    },\n    {\n      \"column\": \"developer\",\n      \"properties\": {\n        \"dtype\": \"category\",\n        \"num_unique_values\": 8862,\n        \"samples\": [\n          \"niceplay games\",\n          \"Cobra Mobile\",\n          \"Probe Software\"\n        ],\n        \"semantic_type\": \"\",\n        \"description\": \"\"\n      }\n    },\n    {\n      \"column\": \"critic_score\",\n      \"properties\": {\n        \"dtype\": \"number\",\n        \"std\": 1.4570656379948146,\n        \"min\": 1.0,\n        \"max\": 10.0,\n        \"num_unique_values\": 89,\n        \"samples\": [\n          6.0,\n          5.0,\n          6.8\n        ],\n        \"semantic_type\": \"\",\n        \"description\": \"\"\n      }\n    },\n    {\n      \"column\": \"total_sales\",\n      \"properties\": {\n        \"dtype\": \"number\",\n        \"std\": 0.8075169604128118,\n        \"min\": 0.0,\n        \"max\": 20.32,\n        \"num_unique_values\": 482,\n        \"samples\": [\n          0.65,\n          0.09,\n          3.11\n        ],\n        \"semantic_type\": \"\",\n        \"description\": \"\"\n      }\n    },\n    {\n      \"column\": \"na_sales\",\n      \"properties\": {\n        \"dtype\": \"number\",\n        \"std\": 1.0000395687011663,\n        \"min\": -0.5350802275202571,\n        \"max\": 19.19137611747043,\n        \"num_unique_values\": 320,\n        \"samples\": [\n          4.376322325587056,\n          4.275264659885258,\n          1.162688556269925\n        ],\n        \"semantic_type\": \"\",\n        \"description\": \"\"\n      }\n    },\n    {\n      \"column\": \"jp_sales\",\n      \"properties\": {\n        \"dtype\": \"number\",\n        \"std\": 0.9994649021285594,\n        \"min\": -0.6059325384052195,\n        \"max\": 12.012638557268485,\n        \"num_unique_values\": 121,\n        \"samples\": [\n          -0.6059325384052195,\n          2.889352412978577,\n          1.8229942922174185\n        ],\n        \"semantic_type\": \"\",\n        \"description\": \"\"\n      }\n    },\n    {\n      \"column\": \"pal_sales\",\n      \"properties\": {\n        \"dtype\": \"number\",\n        \"std\": 0.3926526251894178,\n        \"min\": 0.0,\n        \"max\": 9.85,\n        \"num_unique_values\": 256,\n        \"samples\": [\n          1.0,\n          3.73,\n          1.38\n        ],\n        \"semantic_type\": \"\",\n        \"description\": \"\"\n      }\n    },\n    {\n      \"column\": \"other_sales\",\n      \"properties\": {\n        \"dtype\": \"number\",\n        \"std\": 1.0000330529341237,\n        \"min\": -0.3398685524905771,\n        \"max\": 24.29703119207517,\n        \"num_unique_values\": 133,\n        \"samples\": [\n          1.4763131594485643,\n          4.871783316552177,\n          13.399940920440319\n        ],\n        \"semantic_type\": \"\",\n        \"description\": \"\"\n      }\n    },\n    {\n      \"column\": \"release_date\",\n      \"properties\": {\n        \"dtype\": \"object\",\n        \"num_unique_values\": 7922,\n        \"samples\": [\n          \"2020-10-22\",\n          \"2004-09-21\",\n          \"2006-04-28\"\n        ],\n        \"semantic_type\": \"\",\n        \"description\": \"\"\n      }\n    },\n    {\n      \"column\": \"last_update\",\n      \"properties\": {\n        \"dtype\": \"date\",\n        \"min\": \"2017-11-28 00:00:00\",\n        \"max\": \"2024-01-28 00:00:00\",\n        \"num_unique_values\": 1545,\n        \"samples\": [\n          \"2023-11-04\",\n          \"2020-02-13\",\n          \"2019-01-08\"\n        ],\n        \"semantic_type\": \"\",\n        \"description\": \"\"\n      }\n    },\n    {\n      \"column\": \"avg_sales_per_region\",\n      \"properties\": {\n        \"dtype\": \"number\",\n        \"std\": 0.7402434479068852,\n        \"min\": -0.6059325384052195,\n        \"max\": 13.965244900248315,\n        \"num_unique_values\": 3771,\n        \"samples\": [\n          1.4227077195986342,\n          -0.05931089913659357,\n          -0.3127533629763046\n        ],\n        \"semantic_type\": \"\",\n        \"description\": \"\"\n      }\n    },\n    {\n      \"column\": \"release_year\",\n      \"properties\": {\n        \"dtype\": \"number\",\n        \"std\": 8.617921617457853,\n        \"min\": 1971.0,\n        \"max\": 2024.0,\n        \"num_unique_values\": 51,\n        \"samples\": [\n          1979.0,\n          1984.0,\n          2021.0\n        ],\n        \"semantic_type\": \"\",\n        \"description\": \"\"\n      }\n    }\n  ]\n}"
            }
          },
          "metadata": {},
          "execution_count": 180
        }
      ]
    },
    {
      "cell_type": "markdown",
      "source": [
        "\n",
        "\n",
        "1.   na - North America\n",
        "2.   jp - Japan\n",
        "3.   PAL - Phase Alternating Line\n",
        "     (includes the regions like Europe, Austrailia, New Zealand and some other countries)\n",
        "\n",
        "\n",
        "\n",
        "\n",
        "\n"
      ],
      "metadata": {
        "id": "e-CjaFGCwB4T"
      }
    },
    {
      "cell_type": "code",
      "source": [
        "# Calculate the ratio of NA sales to total sales and create a new column 'na_ratio'\n",
        "df['na_ratio'] = df['na_sales'] / df['total_sales']\n",
        "\n",
        "\n",
        "# Calculate the ratio of JP sales to total sales and create a new column 'jp_ratio'\n",
        "df['jp_ratio'] = df['jp_sales'] / df['total_sales']\n",
        "\n",
        "\n",
        "# Calculate the ratio of PAL sales to total sales and create a new column 'pal_ratio'\n",
        "df['pal_ratio'] = df['pal_sales'] / df['total_sales']"
      ],
      "metadata": {
        "id": "qXfXrkE2jk_n"
      },
      "execution_count": null,
      "outputs": []
    },
    {
      "cell_type": "code",
      "source": [
        "# Display the first three rows of the DataFrame to inspect the data\n",
        "df.head(3)"
      ],
      "metadata": {
        "id": "dPT8ddzPjlCX",
        "colab": {
          "base_uri": "https://localhost:8080/",
          "height": 337
        },
        "outputId": "4f1f2838-4626-4c2e-85b0-98ecd296c91c"
      },
      "execution_count": null,
      "outputs": [
        {
          "output_type": "execute_result",
          "data": {
            "text/plain": [
              "                         title console  genre  publisher       developer  \\\n",
              "0           Grand Theft Auto V     PS3      0       2445  Rockstar North   \n",
              "1           Grand Theft Auto V     PS4      0       2445  Rockstar North   \n",
              "2  Grand Theft Auto: Vice City     PS2      0       2445  Rockstar North   \n",
              "\n",
              "   critic_score  total_sales   na_sales  jp_sales  pal_sales  other_sales  \\\n",
              "0           9.4        20.32  12.339666  5.259037       9.85    24.297031   \n",
              "1           9.7        19.39  11.713109  2.948595       9.71    23.507387   \n",
              "2           9.6        16.15  16.462819  2.178447       5.49    13.715799   \n",
              "\n",
              "  release_date last_update  avg_sales_per_region  release_year  na_ratio  \\\n",
              "0   2013-09-17         NaN             13.965245        2013.0  0.607267   \n",
              "1   2014-11-18  2018-01-03             12.723030        2014.0  0.604080   \n",
              "2   2002-10-28         NaN             10.785688        2002.0  1.019370   \n",
              "\n",
              "   jp_ratio  pal_ratio  \n",
              "0  0.258811   0.484744  \n",
              "1  0.152068   0.500774  \n",
              "2  0.134888   0.339938  "
            ],
            "text/html": [
              "\n",
              "  <div id=\"df-47f36e9d-74f6-428c-b705-8a2d682c2d86\" class=\"colab-df-container\">\n",
              "    <div>\n",
              "<style scoped>\n",
              "    .dataframe tbody tr th:only-of-type {\n",
              "        vertical-align: middle;\n",
              "    }\n",
              "\n",
              "    .dataframe tbody tr th {\n",
              "        vertical-align: top;\n",
              "    }\n",
              "\n",
              "    .dataframe thead th {\n",
              "        text-align: right;\n",
              "    }\n",
              "</style>\n",
              "<table border=\"1\" class=\"dataframe\">\n",
              "  <thead>\n",
              "    <tr style=\"text-align: right;\">\n",
              "      <th></th>\n",
              "      <th>title</th>\n",
              "      <th>console</th>\n",
              "      <th>genre</th>\n",
              "      <th>publisher</th>\n",
              "      <th>developer</th>\n",
              "      <th>critic_score</th>\n",
              "      <th>total_sales</th>\n",
              "      <th>na_sales</th>\n",
              "      <th>jp_sales</th>\n",
              "      <th>pal_sales</th>\n",
              "      <th>other_sales</th>\n",
              "      <th>release_date</th>\n",
              "      <th>last_update</th>\n",
              "      <th>avg_sales_per_region</th>\n",
              "      <th>release_year</th>\n",
              "      <th>na_ratio</th>\n",
              "      <th>jp_ratio</th>\n",
              "      <th>pal_ratio</th>\n",
              "    </tr>\n",
              "  </thead>\n",
              "  <tbody>\n",
              "    <tr>\n",
              "      <th>0</th>\n",
              "      <td>Grand Theft Auto V</td>\n",
              "      <td>PS3</td>\n",
              "      <td>0</td>\n",
              "      <td>2445</td>\n",
              "      <td>Rockstar North</td>\n",
              "      <td>9.4</td>\n",
              "      <td>20.32</td>\n",
              "      <td>12.339666</td>\n",
              "      <td>5.259037</td>\n",
              "      <td>9.85</td>\n",
              "      <td>24.297031</td>\n",
              "      <td>2013-09-17</td>\n",
              "      <td>NaN</td>\n",
              "      <td>13.965245</td>\n",
              "      <td>2013.0</td>\n",
              "      <td>0.607267</td>\n",
              "      <td>0.258811</td>\n",
              "      <td>0.484744</td>\n",
              "    </tr>\n",
              "    <tr>\n",
              "      <th>1</th>\n",
              "      <td>Grand Theft Auto V</td>\n",
              "      <td>PS4</td>\n",
              "      <td>0</td>\n",
              "      <td>2445</td>\n",
              "      <td>Rockstar North</td>\n",
              "      <td>9.7</td>\n",
              "      <td>19.39</td>\n",
              "      <td>11.713109</td>\n",
              "      <td>2.948595</td>\n",
              "      <td>9.71</td>\n",
              "      <td>23.507387</td>\n",
              "      <td>2014-11-18</td>\n",
              "      <td>2018-01-03</td>\n",
              "      <td>12.723030</td>\n",
              "      <td>2014.0</td>\n",
              "      <td>0.604080</td>\n",
              "      <td>0.152068</td>\n",
              "      <td>0.500774</td>\n",
              "    </tr>\n",
              "    <tr>\n",
              "      <th>2</th>\n",
              "      <td>Grand Theft Auto: Vice City</td>\n",
              "      <td>PS2</td>\n",
              "      <td>0</td>\n",
              "      <td>2445</td>\n",
              "      <td>Rockstar North</td>\n",
              "      <td>9.6</td>\n",
              "      <td>16.15</td>\n",
              "      <td>16.462819</td>\n",
              "      <td>2.178447</td>\n",
              "      <td>5.49</td>\n",
              "      <td>13.715799</td>\n",
              "      <td>2002-10-28</td>\n",
              "      <td>NaN</td>\n",
              "      <td>10.785688</td>\n",
              "      <td>2002.0</td>\n",
              "      <td>1.019370</td>\n",
              "      <td>0.134888</td>\n",
              "      <td>0.339938</td>\n",
              "    </tr>\n",
              "  </tbody>\n",
              "</table>\n",
              "</div>\n",
              "    <div class=\"colab-df-buttons\">\n",
              "\n",
              "  <div class=\"colab-df-container\">\n",
              "    <button class=\"colab-df-convert\" onclick=\"convertToInteractive('df-47f36e9d-74f6-428c-b705-8a2d682c2d86')\"\n",
              "            title=\"Convert this dataframe to an interactive table.\"\n",
              "            style=\"display:none;\">\n",
              "\n",
              "  <svg xmlns=\"http://www.w3.org/2000/svg\" height=\"24px\" viewBox=\"0 -960 960 960\">\n",
              "    <path d=\"M120-120v-720h720v720H120Zm60-500h600v-160H180v160Zm220 220h160v-160H400v160Zm0 220h160v-160H400v160ZM180-400h160v-160H180v160Zm440 0h160v-160H620v160ZM180-180h160v-160H180v160Zm440 0h160v-160H620v160Z\"/>\n",
              "  </svg>\n",
              "    </button>\n",
              "\n",
              "  <style>\n",
              "    .colab-df-container {\n",
              "      display:flex;\n",
              "      gap: 12px;\n",
              "    }\n",
              "\n",
              "    .colab-df-convert {\n",
              "      background-color: #E8F0FE;\n",
              "      border: none;\n",
              "      border-radius: 50%;\n",
              "      cursor: pointer;\n",
              "      display: none;\n",
              "      fill: #1967D2;\n",
              "      height: 32px;\n",
              "      padding: 0 0 0 0;\n",
              "      width: 32px;\n",
              "    }\n",
              "\n",
              "    .colab-df-convert:hover {\n",
              "      background-color: #E2EBFA;\n",
              "      box-shadow: 0px 1px 2px rgba(60, 64, 67, 0.3), 0px 1px 3px 1px rgba(60, 64, 67, 0.15);\n",
              "      fill: #174EA6;\n",
              "    }\n",
              "\n",
              "    .colab-df-buttons div {\n",
              "      margin-bottom: 4px;\n",
              "    }\n",
              "\n",
              "    [theme=dark] .colab-df-convert {\n",
              "      background-color: #3B4455;\n",
              "      fill: #D2E3FC;\n",
              "    }\n",
              "\n",
              "    [theme=dark] .colab-df-convert:hover {\n",
              "      background-color: #434B5C;\n",
              "      box-shadow: 0px 1px 3px 1px rgba(0, 0, 0, 0.15);\n",
              "      filter: drop-shadow(0px 1px 2px rgba(0, 0, 0, 0.3));\n",
              "      fill: #FFFFFF;\n",
              "    }\n",
              "  </style>\n",
              "\n",
              "    <script>\n",
              "      const buttonEl =\n",
              "        document.querySelector('#df-47f36e9d-74f6-428c-b705-8a2d682c2d86 button.colab-df-convert');\n",
              "      buttonEl.style.display =\n",
              "        google.colab.kernel.accessAllowed ? 'block' : 'none';\n",
              "\n",
              "      async function convertToInteractive(key) {\n",
              "        const element = document.querySelector('#df-47f36e9d-74f6-428c-b705-8a2d682c2d86');\n",
              "        const dataTable =\n",
              "          await google.colab.kernel.invokeFunction('convertToInteractive',\n",
              "                                                    [key], {});\n",
              "        if (!dataTable) return;\n",
              "\n",
              "        const docLinkHtml = 'Like what you see? Visit the ' +\n",
              "          '<a target=\"_blank\" href=https://colab.research.google.com/notebooks/data_table.ipynb>data table notebook</a>'\n",
              "          + ' to learn more about interactive tables.';\n",
              "        element.innerHTML = '';\n",
              "        dataTable['output_type'] = 'display_data';\n",
              "        await google.colab.output.renderOutput(dataTable, element);\n",
              "        const docLink = document.createElement('div');\n",
              "        docLink.innerHTML = docLinkHtml;\n",
              "        element.appendChild(docLink);\n",
              "      }\n",
              "    </script>\n",
              "  </div>\n",
              "\n",
              "\n",
              "<div id=\"df-eeeb8f4f-6217-41bf-b89f-a4c0c8134154\">\n",
              "  <button class=\"colab-df-quickchart\" onclick=\"quickchart('df-eeeb8f4f-6217-41bf-b89f-a4c0c8134154')\"\n",
              "            title=\"Suggest charts\"\n",
              "            style=\"display:none;\">\n",
              "\n",
              "<svg xmlns=\"http://www.w3.org/2000/svg\" height=\"24px\"viewBox=\"0 0 24 24\"\n",
              "     width=\"24px\">\n",
              "    <g>\n",
              "        <path d=\"M19 3H5c-1.1 0-2 .9-2 2v14c0 1.1.9 2 2 2h14c1.1 0 2-.9 2-2V5c0-1.1-.9-2-2-2zM9 17H7v-7h2v7zm4 0h-2V7h2v10zm4 0h-2v-4h2v4z\"/>\n",
              "    </g>\n",
              "</svg>\n",
              "  </button>\n",
              "\n",
              "<style>\n",
              "  .colab-df-quickchart {\n",
              "      --bg-color: #E8F0FE;\n",
              "      --fill-color: #1967D2;\n",
              "      --hover-bg-color: #E2EBFA;\n",
              "      --hover-fill-color: #174EA6;\n",
              "      --disabled-fill-color: #AAA;\n",
              "      --disabled-bg-color: #DDD;\n",
              "  }\n",
              "\n",
              "  [theme=dark] .colab-df-quickchart {\n",
              "      --bg-color: #3B4455;\n",
              "      --fill-color: #D2E3FC;\n",
              "      --hover-bg-color: #434B5C;\n",
              "      --hover-fill-color: #FFFFFF;\n",
              "      --disabled-bg-color: #3B4455;\n",
              "      --disabled-fill-color: #666;\n",
              "  }\n",
              "\n",
              "  .colab-df-quickchart {\n",
              "    background-color: var(--bg-color);\n",
              "    border: none;\n",
              "    border-radius: 50%;\n",
              "    cursor: pointer;\n",
              "    display: none;\n",
              "    fill: var(--fill-color);\n",
              "    height: 32px;\n",
              "    padding: 0;\n",
              "    width: 32px;\n",
              "  }\n",
              "\n",
              "  .colab-df-quickchart:hover {\n",
              "    background-color: var(--hover-bg-color);\n",
              "    box-shadow: 0 1px 2px rgba(60, 64, 67, 0.3), 0 1px 3px 1px rgba(60, 64, 67, 0.15);\n",
              "    fill: var(--button-hover-fill-color);\n",
              "  }\n",
              "\n",
              "  .colab-df-quickchart-complete:disabled,\n",
              "  .colab-df-quickchart-complete:disabled:hover {\n",
              "    background-color: var(--disabled-bg-color);\n",
              "    fill: var(--disabled-fill-color);\n",
              "    box-shadow: none;\n",
              "  }\n",
              "\n",
              "  .colab-df-spinner {\n",
              "    border: 2px solid var(--fill-color);\n",
              "    border-color: transparent;\n",
              "    border-bottom-color: var(--fill-color);\n",
              "    animation:\n",
              "      spin 1s steps(1) infinite;\n",
              "  }\n",
              "\n",
              "  @keyframes spin {\n",
              "    0% {\n",
              "      border-color: transparent;\n",
              "      border-bottom-color: var(--fill-color);\n",
              "      border-left-color: var(--fill-color);\n",
              "    }\n",
              "    20% {\n",
              "      border-color: transparent;\n",
              "      border-left-color: var(--fill-color);\n",
              "      border-top-color: var(--fill-color);\n",
              "    }\n",
              "    30% {\n",
              "      border-color: transparent;\n",
              "      border-left-color: var(--fill-color);\n",
              "      border-top-color: var(--fill-color);\n",
              "      border-right-color: var(--fill-color);\n",
              "    }\n",
              "    40% {\n",
              "      border-color: transparent;\n",
              "      border-right-color: var(--fill-color);\n",
              "      border-top-color: var(--fill-color);\n",
              "    }\n",
              "    60% {\n",
              "      border-color: transparent;\n",
              "      border-right-color: var(--fill-color);\n",
              "    }\n",
              "    80% {\n",
              "      border-color: transparent;\n",
              "      border-right-color: var(--fill-color);\n",
              "      border-bottom-color: var(--fill-color);\n",
              "    }\n",
              "    90% {\n",
              "      border-color: transparent;\n",
              "      border-bottom-color: var(--fill-color);\n",
              "    }\n",
              "  }\n",
              "</style>\n",
              "\n",
              "  <script>\n",
              "    async function quickchart(key) {\n",
              "      const quickchartButtonEl =\n",
              "        document.querySelector('#' + key + ' button');\n",
              "      quickchartButtonEl.disabled = true;  // To prevent multiple clicks.\n",
              "      quickchartButtonEl.classList.add('colab-df-spinner');\n",
              "      try {\n",
              "        const charts = await google.colab.kernel.invokeFunction(\n",
              "            'suggestCharts', [key], {});\n",
              "      } catch (error) {\n",
              "        console.error('Error during call to suggestCharts:', error);\n",
              "      }\n",
              "      quickchartButtonEl.classList.remove('colab-df-spinner');\n",
              "      quickchartButtonEl.classList.add('colab-df-quickchart-complete');\n",
              "    }\n",
              "    (() => {\n",
              "      let quickchartButtonEl =\n",
              "        document.querySelector('#df-eeeb8f4f-6217-41bf-b89f-a4c0c8134154 button');\n",
              "      quickchartButtonEl.style.display =\n",
              "        google.colab.kernel.accessAllowed ? 'block' : 'none';\n",
              "    })();\n",
              "  </script>\n",
              "</div>\n",
              "\n",
              "    </div>\n",
              "  </div>\n"
            ],
            "application/vnd.google.colaboratory.intrinsic+json": {
              "type": "dataframe",
              "variable_name": "df",
              "repr_error": "Out of range float values are not JSON compliant: -inf"
            }
          },
          "metadata": {},
          "execution_count": 182
        }
      ]
    },
    {
      "cell_type": "markdown",
      "source": [
        "Titles That are Popular in NA but flop in JP and Pal regions"
      ],
      "metadata": {
        "id": "XIeak_xgyF9i"
      }
    },
    {
      "cell_type": "code",
      "source": [
        "\n",
        "#Filter the data to find games that have more than 80% of sales in North America (NA)\n",
        "# and less than 20% of sales in Japan (JP) and the PAL region\n",
        "na_popular = df[(df.na_ratio > 0.8) & (df.jp_ratio < 0.2) & (df.pal_ratio < 0.2)]"
      ],
      "metadata": {
        "id": "DYv9ERJ7zdj8"
      },
      "execution_count": null,
      "outputs": []
    },
    {
      "cell_type": "code",
      "source": [
        "# Create a bar chart displaying the top 5 most popular titles in NA, but with low sales in JP and PAL regions\n",
        "px.bar(na_popular.head(5), x = 'title', y = [ 'na_sales', 'jp_sales', 'pal_sales'],\n",
        "       title = '5 most Popular titles in NA but flop in JP and PAL')"
      ],
      "metadata": {
        "id": "EWYAPK5XjlE3",
        "colab": {
          "base_uri": "https://localhost:8080/",
          "height": 542
        },
        "outputId": "c8263181-b9f6-4d43-8242-ced75d80d22d"
      },
      "execution_count": null,
      "outputs": [
        {
          "output_type": "display_data",
          "data": {
            "text/html": [
              "<html>\n",
              "<head><meta charset=\"utf-8\" /></head>\n",
              "<body>\n",
              "    <div>            <script src=\"https://cdnjs.cloudflare.com/ajax/libs/mathjax/2.7.5/MathJax.js?config=TeX-AMS-MML_SVG\"></script><script type=\"text/javascript\">if (window.MathJax && window.MathJax.Hub && window.MathJax.Hub.Config) {window.MathJax.Hub.Config({SVG: {font: \"STIX-Web\"}});}</script>                <script type=\"text/javascript\">window.PlotlyConfig = {MathJaxConfig: 'local'};</script>\n",
              "        <script charset=\"utf-8\" src=\"https://cdn.plot.ly/plotly-2.35.2.min.js\"></script>                <div id=\"39497335-818b-4f80-9653-9d5e1f6fd7e4\" class=\"plotly-graph-div\" style=\"height:525px; width:100%;\"></div>            <script type=\"text/javascript\">                                    window.PLOTLYENV=window.PLOTLYENV || {};                                    if (document.getElementById(\"39497335-818b-4f80-9653-9d5e1f6fd7e4\")) {                    Plotly.newPlot(                        \"39497335-818b-4f80-9653-9d5e1f6fd7e4\",                        [{\"alignmentgroup\":\"True\",\"hovertemplate\":\"variable=na_sales\\u003cbr\\u003etitle=%{x}\\u003cbr\\u003evalue=%{y}\\u003cextra\\u003e\\u003c\\u002fextra\\u003e\",\"legendgroup\":\"na_sales\",\"marker\":{\"color\":\"#636efa\",\"pattern\":{\"shape\":\"\"}},\"name\":\"na_sales\",\"offsetgroup\":\"na_sales\",\"orientation\":\"v\",\"showlegend\":true,\"textposition\":\"auto\",\"x\":[\"Madden NFL 2004\",\"Guitar Hero III: Legends of Rock\",\"Fallout 3\",\"Madden NFL 06\",\"Madden NFL 2005\"],\"xaxis\":\"x\",\"y\":[8.075032890272809,6.5187448384651425,6.357052573342268,7.509109962342748,7.913340625149934],\"yaxis\":\"y\",\"type\":\"bar\"},{\"alignmentgroup\":\"True\",\"hovertemplate\":\"variable=jp_sales\\u003cbr\\u003etitle=%{x}\\u003cbr\\u003evalue=%{y}\\u003cextra\\u003e\\u003c\\u002fextra\\u003e\",\"legendgroup\":\"jp_sales\",\"marker\":{\"color\":\"#EF553B\",\"pattern\":{\"shape\":\"\"}},\"name\":\"jp_sales\",\"offsetgroup\":\"jp_sales\",\"orientation\":\"v\",\"showlegend\":true,\"textposition\":\"auto\",\"x\":[\"Madden NFL 2004\",\"Guitar Hero III: Legends of Rock\",\"Fallout 3\",\"Madden NFL 06\",\"Madden NFL 2005\"],\"xaxis\":\"x\",\"y\":[-0.5466904205851553,-0.5466904205851553,-0.07275347802464048,-0.5466904205851553,-0.5466904205851553],\"yaxis\":\"y\",\"type\":\"bar\"},{\"alignmentgroup\":\"True\",\"hovertemplate\":\"variable=pal_sales\\u003cbr\\u003etitle=%{x}\\u003cbr\\u003evalue=%{y}\\u003cextra\\u003e\\u003c\\u002fextra\\u003e\",\"legendgroup\":\"pal_sales\",\"marker\":{\"color\":\"#00cc96\",\"pattern\":{\"shape\":\"\"}},\"name\":\"pal_sales\",\"offsetgroup\":\"pal_sales\",\"orientation\":\"v\",\"showlegend\":true,\"textposition\":\"auto\",\"x\":[\"Madden NFL 2004\",\"Guitar Hero III: Legends of Rock\",\"Fallout 3\",\"Madden NFL 06\",\"Madden NFL 2005\"],\"xaxis\":\"x\",\"y\":[0.26,0.01,0.99,0.26,0.26],\"yaxis\":\"y\",\"type\":\"bar\"}],                        {\"template\":{\"data\":{\"histogram2dcontour\":[{\"type\":\"histogram2dcontour\",\"colorbar\":{\"outlinewidth\":0,\"ticks\":\"\"},\"colorscale\":[[0.0,\"#0d0887\"],[0.1111111111111111,\"#46039f\"],[0.2222222222222222,\"#7201a8\"],[0.3333333333333333,\"#9c179e\"],[0.4444444444444444,\"#bd3786\"],[0.5555555555555556,\"#d8576b\"],[0.6666666666666666,\"#ed7953\"],[0.7777777777777778,\"#fb9f3a\"],[0.8888888888888888,\"#fdca26\"],[1.0,\"#f0f921\"]]}],\"choropleth\":[{\"type\":\"choropleth\",\"colorbar\":{\"outlinewidth\":0,\"ticks\":\"\"}}],\"histogram2d\":[{\"type\":\"histogram2d\",\"colorbar\":{\"outlinewidth\":0,\"ticks\":\"\"},\"colorscale\":[[0.0,\"#0d0887\"],[0.1111111111111111,\"#46039f\"],[0.2222222222222222,\"#7201a8\"],[0.3333333333333333,\"#9c179e\"],[0.4444444444444444,\"#bd3786\"],[0.5555555555555556,\"#d8576b\"],[0.6666666666666666,\"#ed7953\"],[0.7777777777777778,\"#fb9f3a\"],[0.8888888888888888,\"#fdca26\"],[1.0,\"#f0f921\"]]}],\"heatmap\":[{\"type\":\"heatmap\",\"colorbar\":{\"outlinewidth\":0,\"ticks\":\"\"},\"colorscale\":[[0.0,\"#0d0887\"],[0.1111111111111111,\"#46039f\"],[0.2222222222222222,\"#7201a8\"],[0.3333333333333333,\"#9c179e\"],[0.4444444444444444,\"#bd3786\"],[0.5555555555555556,\"#d8576b\"],[0.6666666666666666,\"#ed7953\"],[0.7777777777777778,\"#fb9f3a\"],[0.8888888888888888,\"#fdca26\"],[1.0,\"#f0f921\"]]}],\"heatmapgl\":[{\"type\":\"heatmapgl\",\"colorbar\":{\"outlinewidth\":0,\"ticks\":\"\"},\"colorscale\":[[0.0,\"#0d0887\"],[0.1111111111111111,\"#46039f\"],[0.2222222222222222,\"#7201a8\"],[0.3333333333333333,\"#9c179e\"],[0.4444444444444444,\"#bd3786\"],[0.5555555555555556,\"#d8576b\"],[0.6666666666666666,\"#ed7953\"],[0.7777777777777778,\"#fb9f3a\"],[0.8888888888888888,\"#fdca26\"],[1.0,\"#f0f921\"]]}],\"contourcarpet\":[{\"type\":\"contourcarpet\",\"colorbar\":{\"outlinewidth\":0,\"ticks\":\"\"}}],\"contour\":[{\"type\":\"contour\",\"colorbar\":{\"outlinewidth\":0,\"ticks\":\"\"},\"colorscale\":[[0.0,\"#0d0887\"],[0.1111111111111111,\"#46039f\"],[0.2222222222222222,\"#7201a8\"],[0.3333333333333333,\"#9c179e\"],[0.4444444444444444,\"#bd3786\"],[0.5555555555555556,\"#d8576b\"],[0.6666666666666666,\"#ed7953\"],[0.7777777777777778,\"#fb9f3a\"],[0.8888888888888888,\"#fdca26\"],[1.0,\"#f0f921\"]]}],\"surface\":[{\"type\":\"surface\",\"colorbar\":{\"outlinewidth\":0,\"ticks\":\"\"},\"colorscale\":[[0.0,\"#0d0887\"],[0.1111111111111111,\"#46039f\"],[0.2222222222222222,\"#7201a8\"],[0.3333333333333333,\"#9c179e\"],[0.4444444444444444,\"#bd3786\"],[0.5555555555555556,\"#d8576b\"],[0.6666666666666666,\"#ed7953\"],[0.7777777777777778,\"#fb9f3a\"],[0.8888888888888888,\"#fdca26\"],[1.0,\"#f0f921\"]]}],\"mesh3d\":[{\"type\":\"mesh3d\",\"colorbar\":{\"outlinewidth\":0,\"ticks\":\"\"}}],\"scatter\":[{\"fillpattern\":{\"fillmode\":\"overlay\",\"size\":10,\"solidity\":0.2},\"type\":\"scatter\"}],\"parcoords\":[{\"type\":\"parcoords\",\"line\":{\"colorbar\":{\"outlinewidth\":0,\"ticks\":\"\"}}}],\"scatterpolargl\":[{\"type\":\"scatterpolargl\",\"marker\":{\"colorbar\":{\"outlinewidth\":0,\"ticks\":\"\"}}}],\"bar\":[{\"error_x\":{\"color\":\"#2a3f5f\"},\"error_y\":{\"color\":\"#2a3f5f\"},\"marker\":{\"line\":{\"color\":\"#E5ECF6\",\"width\":0.5},\"pattern\":{\"fillmode\":\"overlay\",\"size\":10,\"solidity\":0.2}},\"type\":\"bar\"}],\"scattergeo\":[{\"type\":\"scattergeo\",\"marker\":{\"colorbar\":{\"outlinewidth\":0,\"ticks\":\"\"}}}],\"scatterpolar\":[{\"type\":\"scatterpolar\",\"marker\":{\"colorbar\":{\"outlinewidth\":0,\"ticks\":\"\"}}}],\"histogram\":[{\"marker\":{\"pattern\":{\"fillmode\":\"overlay\",\"size\":10,\"solidity\":0.2}},\"type\":\"histogram\"}],\"scattergl\":[{\"type\":\"scattergl\",\"marker\":{\"colorbar\":{\"outlinewidth\":0,\"ticks\":\"\"}}}],\"scatter3d\":[{\"type\":\"scatter3d\",\"line\":{\"colorbar\":{\"outlinewidth\":0,\"ticks\":\"\"}},\"marker\":{\"colorbar\":{\"outlinewidth\":0,\"ticks\":\"\"}}}],\"scattermapbox\":[{\"type\":\"scattermapbox\",\"marker\":{\"colorbar\":{\"outlinewidth\":0,\"ticks\":\"\"}}}],\"scatterternary\":[{\"type\":\"scatterternary\",\"marker\":{\"colorbar\":{\"outlinewidth\":0,\"ticks\":\"\"}}}],\"scattercarpet\":[{\"type\":\"scattercarpet\",\"marker\":{\"colorbar\":{\"outlinewidth\":0,\"ticks\":\"\"}}}],\"carpet\":[{\"aaxis\":{\"endlinecolor\":\"#2a3f5f\",\"gridcolor\":\"white\",\"linecolor\":\"white\",\"minorgridcolor\":\"white\",\"startlinecolor\":\"#2a3f5f\"},\"baxis\":{\"endlinecolor\":\"#2a3f5f\",\"gridcolor\":\"white\",\"linecolor\":\"white\",\"minorgridcolor\":\"white\",\"startlinecolor\":\"#2a3f5f\"},\"type\":\"carpet\"}],\"table\":[{\"cells\":{\"fill\":{\"color\":\"#EBF0F8\"},\"line\":{\"color\":\"white\"}},\"header\":{\"fill\":{\"color\":\"#C8D4E3\"},\"line\":{\"color\":\"white\"}},\"type\":\"table\"}],\"barpolar\":[{\"marker\":{\"line\":{\"color\":\"#E5ECF6\",\"width\":0.5},\"pattern\":{\"fillmode\":\"overlay\",\"size\":10,\"solidity\":0.2}},\"type\":\"barpolar\"}],\"pie\":[{\"automargin\":true,\"type\":\"pie\"}]},\"layout\":{\"autotypenumbers\":\"strict\",\"colorway\":[\"#636efa\",\"#EF553B\",\"#00cc96\",\"#ab63fa\",\"#FFA15A\",\"#19d3f3\",\"#FF6692\",\"#B6E880\",\"#FF97FF\",\"#FECB52\"],\"font\":{\"color\":\"#2a3f5f\"},\"hovermode\":\"closest\",\"hoverlabel\":{\"align\":\"left\"},\"paper_bgcolor\":\"white\",\"plot_bgcolor\":\"#E5ECF6\",\"polar\":{\"bgcolor\":\"#E5ECF6\",\"angularaxis\":{\"gridcolor\":\"white\",\"linecolor\":\"white\",\"ticks\":\"\"},\"radialaxis\":{\"gridcolor\":\"white\",\"linecolor\":\"white\",\"ticks\":\"\"}},\"ternary\":{\"bgcolor\":\"#E5ECF6\",\"aaxis\":{\"gridcolor\":\"white\",\"linecolor\":\"white\",\"ticks\":\"\"},\"baxis\":{\"gridcolor\":\"white\",\"linecolor\":\"white\",\"ticks\":\"\"},\"caxis\":{\"gridcolor\":\"white\",\"linecolor\":\"white\",\"ticks\":\"\"}},\"coloraxis\":{\"colorbar\":{\"outlinewidth\":0,\"ticks\":\"\"}},\"colorscale\":{\"sequential\":[[0.0,\"#0d0887\"],[0.1111111111111111,\"#46039f\"],[0.2222222222222222,\"#7201a8\"],[0.3333333333333333,\"#9c179e\"],[0.4444444444444444,\"#bd3786\"],[0.5555555555555556,\"#d8576b\"],[0.6666666666666666,\"#ed7953\"],[0.7777777777777778,\"#fb9f3a\"],[0.8888888888888888,\"#fdca26\"],[1.0,\"#f0f921\"]],\"sequentialminus\":[[0.0,\"#0d0887\"],[0.1111111111111111,\"#46039f\"],[0.2222222222222222,\"#7201a8\"],[0.3333333333333333,\"#9c179e\"],[0.4444444444444444,\"#bd3786\"],[0.5555555555555556,\"#d8576b\"],[0.6666666666666666,\"#ed7953\"],[0.7777777777777778,\"#fb9f3a\"],[0.8888888888888888,\"#fdca26\"],[1.0,\"#f0f921\"]],\"diverging\":[[0,\"#8e0152\"],[0.1,\"#c51b7d\"],[0.2,\"#de77ae\"],[0.3,\"#f1b6da\"],[0.4,\"#fde0ef\"],[0.5,\"#f7f7f7\"],[0.6,\"#e6f5d0\"],[0.7,\"#b8e186\"],[0.8,\"#7fbc41\"],[0.9,\"#4d9221\"],[1,\"#276419\"]]},\"xaxis\":{\"gridcolor\":\"white\",\"linecolor\":\"white\",\"ticks\":\"\",\"title\":{\"standoff\":15},\"zerolinecolor\":\"white\",\"automargin\":true,\"zerolinewidth\":2},\"yaxis\":{\"gridcolor\":\"white\",\"linecolor\":\"white\",\"ticks\":\"\",\"title\":{\"standoff\":15},\"zerolinecolor\":\"white\",\"automargin\":true,\"zerolinewidth\":2},\"scene\":{\"xaxis\":{\"backgroundcolor\":\"#E5ECF6\",\"gridcolor\":\"white\",\"linecolor\":\"white\",\"showbackground\":true,\"ticks\":\"\",\"zerolinecolor\":\"white\",\"gridwidth\":2},\"yaxis\":{\"backgroundcolor\":\"#E5ECF6\",\"gridcolor\":\"white\",\"linecolor\":\"white\",\"showbackground\":true,\"ticks\":\"\",\"zerolinecolor\":\"white\",\"gridwidth\":2},\"zaxis\":{\"backgroundcolor\":\"#E5ECF6\",\"gridcolor\":\"white\",\"linecolor\":\"white\",\"showbackground\":true,\"ticks\":\"\",\"zerolinecolor\":\"white\",\"gridwidth\":2}},\"shapedefaults\":{\"line\":{\"color\":\"#2a3f5f\"}},\"annotationdefaults\":{\"arrowcolor\":\"#2a3f5f\",\"arrowhead\":0,\"arrowwidth\":1},\"geo\":{\"bgcolor\":\"white\",\"landcolor\":\"#E5ECF6\",\"subunitcolor\":\"white\",\"showland\":true,\"showlakes\":true,\"lakecolor\":\"white\"},\"title\":{\"x\":0.05},\"mapbox\":{\"style\":\"light\"}}},\"xaxis\":{\"anchor\":\"y\",\"domain\":[0.0,1.0],\"title\":{\"text\":\"title\"}},\"yaxis\":{\"anchor\":\"x\",\"domain\":[0.0,1.0],\"title\":{\"text\":\"value\"}},\"legend\":{\"title\":{\"text\":\"variable\"},\"tracegroupgap\":0},\"title\":{\"text\":\"5 most Popular titles in NA but flop in JP and PAL\"},\"barmode\":\"relative\"},                        {\"responsive\": true}                    ).then(function(){\n",
              "                            \n",
              "var gd = document.getElementById('39497335-818b-4f80-9653-9d5e1f6fd7e4');\n",
              "var x = new MutationObserver(function (mutations, observer) {{\n",
              "        var display = window.getComputedStyle(gd).display;\n",
              "        if (!display || display === 'none') {{\n",
              "            console.log([gd, 'removed!']);\n",
              "            Plotly.purge(gd);\n",
              "            observer.disconnect();\n",
              "        }}\n",
              "}});\n",
              "\n",
              "// Listen for the removal of the full notebook cells\n",
              "var notebookContainer = gd.closest('#notebook-container');\n",
              "if (notebookContainer) {{\n",
              "    x.observe(notebookContainer, {childList: true});\n",
              "}}\n",
              "\n",
              "// Listen for the clearing of the current output cell\n",
              "var outputEl = gd.closest('.output');\n",
              "if (outputEl) {{\n",
              "    x.observe(outputEl, {childList: true});\n",
              "}}\n",
              "\n",
              "                        })                };                            </script>        </div>\n",
              "</body>\n",
              "</html>"
            ]
          },
          "metadata": {}
        }
      ]
    },
    {
      "cell_type": "markdown",
      "source": [
        "conclusion : the titles 'Madden NFL 2204' 'Madden NFL 06' and 'Madden NFL 2005' are popular in NA BUT FLOP JP and PAL"
      ],
      "metadata": {
        "id": "_65mBkos0dli"
      }
    },
    {
      "cell_type": "markdown",
      "source": [
        "TITLES THAT ARE POPULAR IN JP BUT FLOP IN NA AND PAL REGIONS"
      ],
      "metadata": {
        "id": "Gq4owWXI1oDk"
      }
    },
    {
      "cell_type": "code",
      "source": [
        "# Filter the data to find games that have more than 80% of sales in Japan (JP)\n",
        "# and less than 20% of sales in North America (NA) and the PAL region\n",
        "jp_popular = df[(df.jp_ratio > 0.8) & (df.na_ratio < 0.2) & (df.pal_ratio < 0.2)]"
      ],
      "metadata": {
        "id": "7hkshfQGjlHv"
      },
      "execution_count": null,
      "outputs": []
    },
    {
      "cell_type": "code",
      "source": [
        "# Create a bar chart displaying the top 5 most popular titles in Japan, but with low sales in NA and PAL regions\n",
        "\n",
        "px.bar(jp_popular.head(5), x = 'title', y = [ 'na_sales', 'jp_sales', 'pal_sales'],\n",
        "       title = '5 most Popular titles in JP but flop in NA and PAL')"
      ],
      "metadata": {
        "id": "oLb7GpBOjlMQ",
        "colab": {
          "base_uri": "https://localhost:8080/",
          "height": 542
        },
        "outputId": "d154a975-b302-4605-dd61-1fa02cca97f4"
      },
      "execution_count": null,
      "outputs": [
        {
          "output_type": "display_data",
          "data": {
            "text/html": [
              "<html>\n",
              "<head><meta charset=\"utf-8\" /></head>\n",
              "<body>\n",
              "    <div>            <script src=\"https://cdnjs.cloudflare.com/ajax/libs/mathjax/2.7.5/MathJax.js?config=TeX-AMS-MML_SVG\"></script><script type=\"text/javascript\">if (window.MathJax && window.MathJax.Hub && window.MathJax.Hub.Config) {window.MathJax.Hub.Config({SVG: {font: \"STIX-Web\"}});}</script>                <script type=\"text/javascript\">window.PlotlyConfig = {MathJaxConfig: 'local'};</script>\n",
              "        <script charset=\"utf-8\" src=\"https://cdn.plot.ly/plotly-2.35.2.min.js\"></script>                <div id=\"fc79ce9f-3db1-42b1-8983-55fbefed83d6\" class=\"plotly-graph-div\" style=\"height:525px; width:100%;\"></div>            <script type=\"text/javascript\">                                    window.PLOTLYENV=window.PLOTLYENV || {};                                    if (document.getElementById(\"fc79ce9f-3db1-42b1-8983-55fbefed83d6\")) {                    Plotly.newPlot(                        \"fc79ce9f-3db1-42b1-8983-55fbefed83d6\",                        [{\"alignmentgroup\":\"True\",\"hovertemplate\":\"variable=na_sales\\u003cbr\\u003etitle=%{x}\\u003cbr\\u003evalue=%{y}\\u003cextra\\u003e\\u003c\\u002fextra\\u003e\",\"legendgroup\":\"na_sales\",\"marker\":{\"color\":\"#636efa\",\"pattern\":{\"shape\":\"\"}},\"name\":\"na_sales\",\"offsetgroup\":\"na_sales\",\"orientation\":\"v\",\"showlegend\":true,\"textposition\":\"auto\",\"x\":[\"Pro Evolution Soccer 2008\",\"Hot Shots Golf\",\"Hot Shots Golf\",\"Dragon Quest XI: Echoes of an Elusive Age\",\"Virtua Fighter 2\"],\"xaxis\":\"x\",\"y\":[-0.4340225618184605,0.05105423355016294,-0.009580365870914934,0.05105423355016294,0.1521118992519596],\"yaxis\":\"y\",\"type\":\"bar\"},{\"alignmentgroup\":\"True\",\"hovertemplate\":\"variable=jp_sales\\u003cbr\\u003etitle=%{x}\\u003cbr\\u003evalue=%{y}\\u003cextra\\u003e\\u003c\\u002fextra\\u003e\",\"legendgroup\":\"jp_sales\",\"marker\":{\"color\":\"#EF553B\",\"pattern\":{\"shape\":\"\"}},\"name\":\"jp_sales\",\"offsetgroup\":\"jp_sales\",\"orientation\":\"v\",\"showlegend\":true,\"textposition\":\"auto\",\"x\":[\"Pro Evolution Soccer 2008\",\"Hot Shots Golf\",\"Hot Shots Golf\",\"Dragon Quest XI: Echoes of an Elusive Age\",\"Virtua Fighter 2\"],\"xaxis\":\"x\",\"y\":[3.1855630020788985,12.012638557268485,12.012638557268485,7.865690309863982,7.095542778203146],\"yaxis\":\"y\",\"type\":\"bar\"},{\"alignmentgroup\":\"True\",\"hovertemplate\":\"variable=pal_sales\\u003cbr\\u003etitle=%{x}\\u003cbr\\u003evalue=%{y}\\u003cextra\\u003e\\u003c\\u002fextra\\u003e\",\"legendgroup\":\"pal_sales\",\"marker\":{\"color\":\"#00cc96\",\"pattern\":{\"shape\":\"\"}},\"name\":\"pal_sales\",\"offsetgroup\":\"pal_sales\",\"orientation\":\"v\",\"showlegend\":true,\"textposition\":\"auto\",\"x\":[\"Pro Evolution Soccer 2008\",\"Hot Shots Golf\",\"Hot Shots Golf\",\"Dragon Quest XI: Echoes of an Elusive Age\",\"Virtua Fighter 2\"],\"xaxis\":\"x\",\"y\":[0.0,0.2,0.17,0.22,0.26],\"yaxis\":\"y\",\"type\":\"bar\"}],                        {\"template\":{\"data\":{\"histogram2dcontour\":[{\"type\":\"histogram2dcontour\",\"colorbar\":{\"outlinewidth\":0,\"ticks\":\"\"},\"colorscale\":[[0.0,\"#0d0887\"],[0.1111111111111111,\"#46039f\"],[0.2222222222222222,\"#7201a8\"],[0.3333333333333333,\"#9c179e\"],[0.4444444444444444,\"#bd3786\"],[0.5555555555555556,\"#d8576b\"],[0.6666666666666666,\"#ed7953\"],[0.7777777777777778,\"#fb9f3a\"],[0.8888888888888888,\"#fdca26\"],[1.0,\"#f0f921\"]]}],\"choropleth\":[{\"type\":\"choropleth\",\"colorbar\":{\"outlinewidth\":0,\"ticks\":\"\"}}],\"histogram2d\":[{\"type\":\"histogram2d\",\"colorbar\":{\"outlinewidth\":0,\"ticks\":\"\"},\"colorscale\":[[0.0,\"#0d0887\"],[0.1111111111111111,\"#46039f\"],[0.2222222222222222,\"#7201a8\"],[0.3333333333333333,\"#9c179e\"],[0.4444444444444444,\"#bd3786\"],[0.5555555555555556,\"#d8576b\"],[0.6666666666666666,\"#ed7953\"],[0.7777777777777778,\"#fb9f3a\"],[0.8888888888888888,\"#fdca26\"],[1.0,\"#f0f921\"]]}],\"heatmap\":[{\"type\":\"heatmap\",\"colorbar\":{\"outlinewidth\":0,\"ticks\":\"\"},\"colorscale\":[[0.0,\"#0d0887\"],[0.1111111111111111,\"#46039f\"],[0.2222222222222222,\"#7201a8\"],[0.3333333333333333,\"#9c179e\"],[0.4444444444444444,\"#bd3786\"],[0.5555555555555556,\"#d8576b\"],[0.6666666666666666,\"#ed7953\"],[0.7777777777777778,\"#fb9f3a\"],[0.8888888888888888,\"#fdca26\"],[1.0,\"#f0f921\"]]}],\"heatmapgl\":[{\"type\":\"heatmapgl\",\"colorbar\":{\"outlinewidth\":0,\"ticks\":\"\"},\"colorscale\":[[0.0,\"#0d0887\"],[0.1111111111111111,\"#46039f\"],[0.2222222222222222,\"#7201a8\"],[0.3333333333333333,\"#9c179e\"],[0.4444444444444444,\"#bd3786\"],[0.5555555555555556,\"#d8576b\"],[0.6666666666666666,\"#ed7953\"],[0.7777777777777778,\"#fb9f3a\"],[0.8888888888888888,\"#fdca26\"],[1.0,\"#f0f921\"]]}],\"contourcarpet\":[{\"type\":\"contourcarpet\",\"colorbar\":{\"outlinewidth\":0,\"ticks\":\"\"}}],\"contour\":[{\"type\":\"contour\",\"colorbar\":{\"outlinewidth\":0,\"ticks\":\"\"},\"colorscale\":[[0.0,\"#0d0887\"],[0.1111111111111111,\"#46039f\"],[0.2222222222222222,\"#7201a8\"],[0.3333333333333333,\"#9c179e\"],[0.4444444444444444,\"#bd3786\"],[0.5555555555555556,\"#d8576b\"],[0.6666666666666666,\"#ed7953\"],[0.7777777777777778,\"#fb9f3a\"],[0.8888888888888888,\"#fdca26\"],[1.0,\"#f0f921\"]]}],\"surface\":[{\"type\":\"surface\",\"colorbar\":{\"outlinewidth\":0,\"ticks\":\"\"},\"colorscale\":[[0.0,\"#0d0887\"],[0.1111111111111111,\"#46039f\"],[0.2222222222222222,\"#7201a8\"],[0.3333333333333333,\"#9c179e\"],[0.4444444444444444,\"#bd3786\"],[0.5555555555555556,\"#d8576b\"],[0.6666666666666666,\"#ed7953\"],[0.7777777777777778,\"#fb9f3a\"],[0.8888888888888888,\"#fdca26\"],[1.0,\"#f0f921\"]]}],\"mesh3d\":[{\"type\":\"mesh3d\",\"colorbar\":{\"outlinewidth\":0,\"ticks\":\"\"}}],\"scatter\":[{\"fillpattern\":{\"fillmode\":\"overlay\",\"size\":10,\"solidity\":0.2},\"type\":\"scatter\"}],\"parcoords\":[{\"type\":\"parcoords\",\"line\":{\"colorbar\":{\"outlinewidth\":0,\"ticks\":\"\"}}}],\"scatterpolargl\":[{\"type\":\"scatterpolargl\",\"marker\":{\"colorbar\":{\"outlinewidth\":0,\"ticks\":\"\"}}}],\"bar\":[{\"error_x\":{\"color\":\"#2a3f5f\"},\"error_y\":{\"color\":\"#2a3f5f\"},\"marker\":{\"line\":{\"color\":\"#E5ECF6\",\"width\":0.5},\"pattern\":{\"fillmode\":\"overlay\",\"size\":10,\"solidity\":0.2}},\"type\":\"bar\"}],\"scattergeo\":[{\"type\":\"scattergeo\",\"marker\":{\"colorbar\":{\"outlinewidth\":0,\"ticks\":\"\"}}}],\"scatterpolar\":[{\"type\":\"scatterpolar\",\"marker\":{\"colorbar\":{\"outlinewidth\":0,\"ticks\":\"\"}}}],\"histogram\":[{\"marker\":{\"pattern\":{\"fillmode\":\"overlay\",\"size\":10,\"solidity\":0.2}},\"type\":\"histogram\"}],\"scattergl\":[{\"type\":\"scattergl\",\"marker\":{\"colorbar\":{\"outlinewidth\":0,\"ticks\":\"\"}}}],\"scatter3d\":[{\"type\":\"scatter3d\",\"line\":{\"colorbar\":{\"outlinewidth\":0,\"ticks\":\"\"}},\"marker\":{\"colorbar\":{\"outlinewidth\":0,\"ticks\":\"\"}}}],\"scattermapbox\":[{\"type\":\"scattermapbox\",\"marker\":{\"colorbar\":{\"outlinewidth\":0,\"ticks\":\"\"}}}],\"scatterternary\":[{\"type\":\"scatterternary\",\"marker\":{\"colorbar\":{\"outlinewidth\":0,\"ticks\":\"\"}}}],\"scattercarpet\":[{\"type\":\"scattercarpet\",\"marker\":{\"colorbar\":{\"outlinewidth\":0,\"ticks\":\"\"}}}],\"carpet\":[{\"aaxis\":{\"endlinecolor\":\"#2a3f5f\",\"gridcolor\":\"white\",\"linecolor\":\"white\",\"minorgridcolor\":\"white\",\"startlinecolor\":\"#2a3f5f\"},\"baxis\":{\"endlinecolor\":\"#2a3f5f\",\"gridcolor\":\"white\",\"linecolor\":\"white\",\"minorgridcolor\":\"white\",\"startlinecolor\":\"#2a3f5f\"},\"type\":\"carpet\"}],\"table\":[{\"cells\":{\"fill\":{\"color\":\"#EBF0F8\"},\"line\":{\"color\":\"white\"}},\"header\":{\"fill\":{\"color\":\"#C8D4E3\"},\"line\":{\"color\":\"white\"}},\"type\":\"table\"}],\"barpolar\":[{\"marker\":{\"line\":{\"color\":\"#E5ECF6\",\"width\":0.5},\"pattern\":{\"fillmode\":\"overlay\",\"size\":10,\"solidity\":0.2}},\"type\":\"barpolar\"}],\"pie\":[{\"automargin\":true,\"type\":\"pie\"}]},\"layout\":{\"autotypenumbers\":\"strict\",\"colorway\":[\"#636efa\",\"#EF553B\",\"#00cc96\",\"#ab63fa\",\"#FFA15A\",\"#19d3f3\",\"#FF6692\",\"#B6E880\",\"#FF97FF\",\"#FECB52\"],\"font\":{\"color\":\"#2a3f5f\"},\"hovermode\":\"closest\",\"hoverlabel\":{\"align\":\"left\"},\"paper_bgcolor\":\"white\",\"plot_bgcolor\":\"#E5ECF6\",\"polar\":{\"bgcolor\":\"#E5ECF6\",\"angularaxis\":{\"gridcolor\":\"white\",\"linecolor\":\"white\",\"ticks\":\"\"},\"radialaxis\":{\"gridcolor\":\"white\",\"linecolor\":\"white\",\"ticks\":\"\"}},\"ternary\":{\"bgcolor\":\"#E5ECF6\",\"aaxis\":{\"gridcolor\":\"white\",\"linecolor\":\"white\",\"ticks\":\"\"},\"baxis\":{\"gridcolor\":\"white\",\"linecolor\":\"white\",\"ticks\":\"\"},\"caxis\":{\"gridcolor\":\"white\",\"linecolor\":\"white\",\"ticks\":\"\"}},\"coloraxis\":{\"colorbar\":{\"outlinewidth\":0,\"ticks\":\"\"}},\"colorscale\":{\"sequential\":[[0.0,\"#0d0887\"],[0.1111111111111111,\"#46039f\"],[0.2222222222222222,\"#7201a8\"],[0.3333333333333333,\"#9c179e\"],[0.4444444444444444,\"#bd3786\"],[0.5555555555555556,\"#d8576b\"],[0.6666666666666666,\"#ed7953\"],[0.7777777777777778,\"#fb9f3a\"],[0.8888888888888888,\"#fdca26\"],[1.0,\"#f0f921\"]],\"sequentialminus\":[[0.0,\"#0d0887\"],[0.1111111111111111,\"#46039f\"],[0.2222222222222222,\"#7201a8\"],[0.3333333333333333,\"#9c179e\"],[0.4444444444444444,\"#bd3786\"],[0.5555555555555556,\"#d8576b\"],[0.6666666666666666,\"#ed7953\"],[0.7777777777777778,\"#fb9f3a\"],[0.8888888888888888,\"#fdca26\"],[1.0,\"#f0f921\"]],\"diverging\":[[0,\"#8e0152\"],[0.1,\"#c51b7d\"],[0.2,\"#de77ae\"],[0.3,\"#f1b6da\"],[0.4,\"#fde0ef\"],[0.5,\"#f7f7f7\"],[0.6,\"#e6f5d0\"],[0.7,\"#b8e186\"],[0.8,\"#7fbc41\"],[0.9,\"#4d9221\"],[1,\"#276419\"]]},\"xaxis\":{\"gridcolor\":\"white\",\"linecolor\":\"white\",\"ticks\":\"\",\"title\":{\"standoff\":15},\"zerolinecolor\":\"white\",\"automargin\":true,\"zerolinewidth\":2},\"yaxis\":{\"gridcolor\":\"white\",\"linecolor\":\"white\",\"ticks\":\"\",\"title\":{\"standoff\":15},\"zerolinecolor\":\"white\",\"automargin\":true,\"zerolinewidth\":2},\"scene\":{\"xaxis\":{\"backgroundcolor\":\"#E5ECF6\",\"gridcolor\":\"white\",\"linecolor\":\"white\",\"showbackground\":true,\"ticks\":\"\",\"zerolinecolor\":\"white\",\"gridwidth\":2},\"yaxis\":{\"backgroundcolor\":\"#E5ECF6\",\"gridcolor\":\"white\",\"linecolor\":\"white\",\"showbackground\":true,\"ticks\":\"\",\"zerolinecolor\":\"white\",\"gridwidth\":2},\"zaxis\":{\"backgroundcolor\":\"#E5ECF6\",\"gridcolor\":\"white\",\"linecolor\":\"white\",\"showbackground\":true,\"ticks\":\"\",\"zerolinecolor\":\"white\",\"gridwidth\":2}},\"shapedefaults\":{\"line\":{\"color\":\"#2a3f5f\"}},\"annotationdefaults\":{\"arrowcolor\":\"#2a3f5f\",\"arrowhead\":0,\"arrowwidth\":1},\"geo\":{\"bgcolor\":\"white\",\"landcolor\":\"#E5ECF6\",\"subunitcolor\":\"white\",\"showland\":true,\"showlakes\":true,\"lakecolor\":\"white\"},\"title\":{\"x\":0.05},\"mapbox\":{\"style\":\"light\"}}},\"xaxis\":{\"anchor\":\"y\",\"domain\":[0.0,1.0],\"title\":{\"text\":\"title\"}},\"yaxis\":{\"anchor\":\"x\",\"domain\":[0.0,1.0],\"title\":{\"text\":\"value\"}},\"legend\":{\"title\":{\"text\":\"variable\"},\"tracegroupgap\":0},\"title\":{\"text\":\"5 most Popular titles in JP but flop in NA and PAL\"},\"barmode\":\"relative\"},                        {\"responsive\": true}                    ).then(function(){\n",
              "                            \n",
              "var gd = document.getElementById('fc79ce9f-3db1-42b1-8983-55fbefed83d6');\n",
              "var x = new MutationObserver(function (mutations, observer) {{\n",
              "        var display = window.getComputedStyle(gd).display;\n",
              "        if (!display || display === 'none') {{\n",
              "            console.log([gd, 'removed!']);\n",
              "            Plotly.purge(gd);\n",
              "            observer.disconnect();\n",
              "        }}\n",
              "}});\n",
              "\n",
              "// Listen for the removal of the full notebook cells\n",
              "var notebookContainer = gd.closest('#notebook-container');\n",
              "if (notebookContainer) {{\n",
              "    x.observe(notebookContainer, {childList: true});\n",
              "}}\n",
              "\n",
              "// Listen for the clearing of the current output cell\n",
              "var outputEl = gd.closest('.output');\n",
              "if (outputEl) {{\n",
              "    x.observe(outputEl, {childList: true});\n",
              "}}\n",
              "\n",
              "                        })                };                            </script>        </div>\n",
              "</body>\n",
              "</html>"
            ]
          },
          "metadata": {}
        }
      ]
    },
    {
      "cell_type": "markdown",
      "source": [
        "Conclusion : the title 'Hot Shots Golf','rBI Bseball'and 'Famista 89' are popular in JP but flop in Na and PAN"
      ],
      "metadata": {
        "id": "yVRRzB7G2bg_"
      }
    },
    {
      "cell_type": "markdown",
      "source": [
        "TITLES THAT ARE POPULAR IN PAL BUT FLOP IN NA AND JP REGIONS"
      ],
      "metadata": {
        "id": "i5l73-Vn3JAM"
      }
    },
    {
      "cell_type": "code",
      "source": [
        "# Filter the data to find games that have more than 80% of sales in the PAL region\n",
        "# and less than 20% of sales in North America (NA) and Japan (JP)\n",
        "pal_popular = df[(df.pal_ratio > 0.8) & (df.na_ratio < 0.2) & (df.jp_ratio < 0.2)]"
      ],
      "metadata": {
        "id": "cBeDa4GBjlRG"
      },
      "execution_count": null,
      "outputs": []
    },
    {
      "cell_type": "code",
      "source": [
        "# Create a bar chart displaying the top 5 most popular titles in the PAL region, but with low sales in NA and JP regions\n",
        "px.bar(pal_popular.head(5), x = 'title', y = [ 'na_sales', 'jp_sales', 'pal_sales'],\n",
        "       title = '5 most Popular titles in PAL but flop in NA and JP')"
      ],
      "metadata": {
        "id": "fqxs1Z83jlUv",
        "colab": {
          "base_uri": "https://localhost:8080/",
          "height": 542
        },
        "outputId": "1721bd88-81f2-4e5a-cbe8-6f62f157ba68"
      },
      "execution_count": null,
      "outputs": [
        {
          "output_type": "display_data",
          "data": {
            "text/html": [
              "<html>\n",
              "<head><meta charset=\"utf-8\" /></head>\n",
              "<body>\n",
              "    <div>            <script src=\"https://cdnjs.cloudflare.com/ajax/libs/mathjax/2.7.5/MathJax.js?config=TeX-AMS-MML_SVG\"></script><script type=\"text/javascript\">if (window.MathJax && window.MathJax.Hub && window.MathJax.Hub.Config) {window.MathJax.Hub.Config({SVG: {font: \"STIX-Web\"}});}</script>                <script type=\"text/javascript\">window.PlotlyConfig = {MathJaxConfig: 'local'};</script>\n",
              "        <script charset=\"utf-8\" src=\"https://cdn.plot.ly/plotly-2.35.2.min.js\"></script>                <div id=\"3784e5b0-c1af-464c-89d9-ea764dda1d7b\" class=\"plotly-graph-div\" style=\"height:525px; width:100%;\"></div>            <script type=\"text/javascript\">                                    window.PLOTLYENV=window.PLOTLYENV || {};                                    if (document.getElementById(\"3784e5b0-c1af-464c-89d9-ea764dda1d7b\")) {                    Plotly.newPlot(                        \"3784e5b0-c1af-464c-89d9-ea764dda1d7b\",                        [{\"alignmentgroup\":\"True\",\"hovertemplate\":\"variable=na_sales\\u003cbr\\u003etitle=%{x}\\u003cbr\\u003evalue=%{y}\\u003cextra\\u003e\\u003c\\u002fextra\\u003e\",\"legendgroup\":\"na_sales\",\"marker\":{\"color\":\"#636efa\",\"pattern\":{\"shape\":\"\"}},\"name\":\"na_sales\",\"offsetgroup\":\"na_sales\",\"orientation\":\"v\",\"showlegend\":true,\"textposition\":\"auto\",\"x\":[\"Colin McRae Rally\",\"TOCA 2 Touring Car Championship\",\"Brian Lara Cricket\",\"Pro Evolution Soccer 2008\",\"Winning Eleven: Pro Evolution Soccer 2007 (All Region sales)\"],\"xaxis\":\"x\",\"y\":[-0.35317642925702325,-0.4744456280991791,-0.49465716123953846,-0.37338796239738253,-0.37338796239738253],\"yaxis\":\"y\",\"type\":\"bar\"},{\"alignmentgroup\":\"True\",\"hovertemplate\":\"variable=jp_sales\\u003cbr\\u003etitle=%{x}\\u003cbr\\u003evalue=%{y}\\u003cextra\\u003e\\u003c\\u002fextra\\u003e\",\"legendgroup\":\"jp_sales\",\"marker\":{\"color\":\"#EF553B\",\"pattern\":{\"shape\":\"\"}},\"name\":\"jp_sales\",\"offsetgroup\":\"jp_sales\",\"orientation\":\"v\",\"showlegend\":true,\"textposition\":\"auto\",\"x\":[\"Colin McRae Rally\",\"TOCA 2 Touring Car Championship\",\"Brian Lara Cricket\",\"Pro Evolution Soccer 2008\",\"Winning Eleven: Pro Evolution Soccer 2007 (All Region sales)\"],\"xaxis\":\"x\",\"y\":[0.10497287543555255,-0.4874483027650909,-0.5466904205851553,-0.3689640671249622,-0.4874483027650909],\"yaxis\":\"y\",\"type\":\"bar\"},{\"alignmentgroup\":\"True\",\"hovertemplate\":\"variable=pal_sales\\u003cbr\\u003etitle=%{x}\\u003cbr\\u003evalue=%{y}\\u003cextra\\u003e\\u003c\\u002fextra\\u003e\",\"legendgroup\":\"pal_sales\",\"marker\":{\"color\":\"#00cc96\",\"pattern\":{\"shape\":\"\"}},\"name\":\"pal_sales\",\"offsetgroup\":\"pal_sales\",\"orientation\":\"v\",\"showlegend\":true,\"textposition\":\"auto\",\"x\":[\"Colin McRae Rally\",\"TOCA 2 Touring Car Championship\",\"Brian Lara Cricket\",\"Pro Evolution Soccer 2008\",\"Winning Eleven: Pro Evolution Soccer 2007 (All Region sales)\"],\"xaxis\":\"x\",\"y\":[2.43,1.16,1.13,0.9,0.9],\"yaxis\":\"y\",\"type\":\"bar\"}],                        {\"template\":{\"data\":{\"histogram2dcontour\":[{\"type\":\"histogram2dcontour\",\"colorbar\":{\"outlinewidth\":0,\"ticks\":\"\"},\"colorscale\":[[0.0,\"#0d0887\"],[0.1111111111111111,\"#46039f\"],[0.2222222222222222,\"#7201a8\"],[0.3333333333333333,\"#9c179e\"],[0.4444444444444444,\"#bd3786\"],[0.5555555555555556,\"#d8576b\"],[0.6666666666666666,\"#ed7953\"],[0.7777777777777778,\"#fb9f3a\"],[0.8888888888888888,\"#fdca26\"],[1.0,\"#f0f921\"]]}],\"choropleth\":[{\"type\":\"choropleth\",\"colorbar\":{\"outlinewidth\":0,\"ticks\":\"\"}}],\"histogram2d\":[{\"type\":\"histogram2d\",\"colorbar\":{\"outlinewidth\":0,\"ticks\":\"\"},\"colorscale\":[[0.0,\"#0d0887\"],[0.1111111111111111,\"#46039f\"],[0.2222222222222222,\"#7201a8\"],[0.3333333333333333,\"#9c179e\"],[0.4444444444444444,\"#bd3786\"],[0.5555555555555556,\"#d8576b\"],[0.6666666666666666,\"#ed7953\"],[0.7777777777777778,\"#fb9f3a\"],[0.8888888888888888,\"#fdca26\"],[1.0,\"#f0f921\"]]}],\"heatmap\":[{\"type\":\"heatmap\",\"colorbar\":{\"outlinewidth\":0,\"ticks\":\"\"},\"colorscale\":[[0.0,\"#0d0887\"],[0.1111111111111111,\"#46039f\"],[0.2222222222222222,\"#7201a8\"],[0.3333333333333333,\"#9c179e\"],[0.4444444444444444,\"#bd3786\"],[0.5555555555555556,\"#d8576b\"],[0.6666666666666666,\"#ed7953\"],[0.7777777777777778,\"#fb9f3a\"],[0.8888888888888888,\"#fdca26\"],[1.0,\"#f0f921\"]]}],\"heatmapgl\":[{\"type\":\"heatmapgl\",\"colorbar\":{\"outlinewidth\":0,\"ticks\":\"\"},\"colorscale\":[[0.0,\"#0d0887\"],[0.1111111111111111,\"#46039f\"],[0.2222222222222222,\"#7201a8\"],[0.3333333333333333,\"#9c179e\"],[0.4444444444444444,\"#bd3786\"],[0.5555555555555556,\"#d8576b\"],[0.6666666666666666,\"#ed7953\"],[0.7777777777777778,\"#fb9f3a\"],[0.8888888888888888,\"#fdca26\"],[1.0,\"#f0f921\"]]}],\"contourcarpet\":[{\"type\":\"contourcarpet\",\"colorbar\":{\"outlinewidth\":0,\"ticks\":\"\"}}],\"contour\":[{\"type\":\"contour\",\"colorbar\":{\"outlinewidth\":0,\"ticks\":\"\"},\"colorscale\":[[0.0,\"#0d0887\"],[0.1111111111111111,\"#46039f\"],[0.2222222222222222,\"#7201a8\"],[0.3333333333333333,\"#9c179e\"],[0.4444444444444444,\"#bd3786\"],[0.5555555555555556,\"#d8576b\"],[0.6666666666666666,\"#ed7953\"],[0.7777777777777778,\"#fb9f3a\"],[0.8888888888888888,\"#fdca26\"],[1.0,\"#f0f921\"]]}],\"surface\":[{\"type\":\"surface\",\"colorbar\":{\"outlinewidth\":0,\"ticks\":\"\"},\"colorscale\":[[0.0,\"#0d0887\"],[0.1111111111111111,\"#46039f\"],[0.2222222222222222,\"#7201a8\"],[0.3333333333333333,\"#9c179e\"],[0.4444444444444444,\"#bd3786\"],[0.5555555555555556,\"#d8576b\"],[0.6666666666666666,\"#ed7953\"],[0.7777777777777778,\"#fb9f3a\"],[0.8888888888888888,\"#fdca26\"],[1.0,\"#f0f921\"]]}],\"mesh3d\":[{\"type\":\"mesh3d\",\"colorbar\":{\"outlinewidth\":0,\"ticks\":\"\"}}],\"scatter\":[{\"fillpattern\":{\"fillmode\":\"overlay\",\"size\":10,\"solidity\":0.2},\"type\":\"scatter\"}],\"parcoords\":[{\"type\":\"parcoords\",\"line\":{\"colorbar\":{\"outlinewidth\":0,\"ticks\":\"\"}}}],\"scatterpolargl\":[{\"type\":\"scatterpolargl\",\"marker\":{\"colorbar\":{\"outlinewidth\":0,\"ticks\":\"\"}}}],\"bar\":[{\"error_x\":{\"color\":\"#2a3f5f\"},\"error_y\":{\"color\":\"#2a3f5f\"},\"marker\":{\"line\":{\"color\":\"#E5ECF6\",\"width\":0.5},\"pattern\":{\"fillmode\":\"overlay\",\"size\":10,\"solidity\":0.2}},\"type\":\"bar\"}],\"scattergeo\":[{\"type\":\"scattergeo\",\"marker\":{\"colorbar\":{\"outlinewidth\":0,\"ticks\":\"\"}}}],\"scatterpolar\":[{\"type\":\"scatterpolar\",\"marker\":{\"colorbar\":{\"outlinewidth\":0,\"ticks\":\"\"}}}],\"histogram\":[{\"marker\":{\"pattern\":{\"fillmode\":\"overlay\",\"size\":10,\"solidity\":0.2}},\"type\":\"histogram\"}],\"scattergl\":[{\"type\":\"scattergl\",\"marker\":{\"colorbar\":{\"outlinewidth\":0,\"ticks\":\"\"}}}],\"scatter3d\":[{\"type\":\"scatter3d\",\"line\":{\"colorbar\":{\"outlinewidth\":0,\"ticks\":\"\"}},\"marker\":{\"colorbar\":{\"outlinewidth\":0,\"ticks\":\"\"}}}],\"scattermapbox\":[{\"type\":\"scattermapbox\",\"marker\":{\"colorbar\":{\"outlinewidth\":0,\"ticks\":\"\"}}}],\"scatterternary\":[{\"type\":\"scatterternary\",\"marker\":{\"colorbar\":{\"outlinewidth\":0,\"ticks\":\"\"}}}],\"scattercarpet\":[{\"type\":\"scattercarpet\",\"marker\":{\"colorbar\":{\"outlinewidth\":0,\"ticks\":\"\"}}}],\"carpet\":[{\"aaxis\":{\"endlinecolor\":\"#2a3f5f\",\"gridcolor\":\"white\",\"linecolor\":\"white\",\"minorgridcolor\":\"white\",\"startlinecolor\":\"#2a3f5f\"},\"baxis\":{\"endlinecolor\":\"#2a3f5f\",\"gridcolor\":\"white\",\"linecolor\":\"white\",\"minorgridcolor\":\"white\",\"startlinecolor\":\"#2a3f5f\"},\"type\":\"carpet\"}],\"table\":[{\"cells\":{\"fill\":{\"color\":\"#EBF0F8\"},\"line\":{\"color\":\"white\"}},\"header\":{\"fill\":{\"color\":\"#C8D4E3\"},\"line\":{\"color\":\"white\"}},\"type\":\"table\"}],\"barpolar\":[{\"marker\":{\"line\":{\"color\":\"#E5ECF6\",\"width\":0.5},\"pattern\":{\"fillmode\":\"overlay\",\"size\":10,\"solidity\":0.2}},\"type\":\"barpolar\"}],\"pie\":[{\"automargin\":true,\"type\":\"pie\"}]},\"layout\":{\"autotypenumbers\":\"strict\",\"colorway\":[\"#636efa\",\"#EF553B\",\"#00cc96\",\"#ab63fa\",\"#FFA15A\",\"#19d3f3\",\"#FF6692\",\"#B6E880\",\"#FF97FF\",\"#FECB52\"],\"font\":{\"color\":\"#2a3f5f\"},\"hovermode\":\"closest\",\"hoverlabel\":{\"align\":\"left\"},\"paper_bgcolor\":\"white\",\"plot_bgcolor\":\"#E5ECF6\",\"polar\":{\"bgcolor\":\"#E5ECF6\",\"angularaxis\":{\"gridcolor\":\"white\",\"linecolor\":\"white\",\"ticks\":\"\"},\"radialaxis\":{\"gridcolor\":\"white\",\"linecolor\":\"white\",\"ticks\":\"\"}},\"ternary\":{\"bgcolor\":\"#E5ECF6\",\"aaxis\":{\"gridcolor\":\"white\",\"linecolor\":\"white\",\"ticks\":\"\"},\"baxis\":{\"gridcolor\":\"white\",\"linecolor\":\"white\",\"ticks\":\"\"},\"caxis\":{\"gridcolor\":\"white\",\"linecolor\":\"white\",\"ticks\":\"\"}},\"coloraxis\":{\"colorbar\":{\"outlinewidth\":0,\"ticks\":\"\"}},\"colorscale\":{\"sequential\":[[0.0,\"#0d0887\"],[0.1111111111111111,\"#46039f\"],[0.2222222222222222,\"#7201a8\"],[0.3333333333333333,\"#9c179e\"],[0.4444444444444444,\"#bd3786\"],[0.5555555555555556,\"#d8576b\"],[0.6666666666666666,\"#ed7953\"],[0.7777777777777778,\"#fb9f3a\"],[0.8888888888888888,\"#fdca26\"],[1.0,\"#f0f921\"]],\"sequentialminus\":[[0.0,\"#0d0887\"],[0.1111111111111111,\"#46039f\"],[0.2222222222222222,\"#7201a8\"],[0.3333333333333333,\"#9c179e\"],[0.4444444444444444,\"#bd3786\"],[0.5555555555555556,\"#d8576b\"],[0.6666666666666666,\"#ed7953\"],[0.7777777777777778,\"#fb9f3a\"],[0.8888888888888888,\"#fdca26\"],[1.0,\"#f0f921\"]],\"diverging\":[[0,\"#8e0152\"],[0.1,\"#c51b7d\"],[0.2,\"#de77ae\"],[0.3,\"#f1b6da\"],[0.4,\"#fde0ef\"],[0.5,\"#f7f7f7\"],[0.6,\"#e6f5d0\"],[0.7,\"#b8e186\"],[0.8,\"#7fbc41\"],[0.9,\"#4d9221\"],[1,\"#276419\"]]},\"xaxis\":{\"gridcolor\":\"white\",\"linecolor\":\"white\",\"ticks\":\"\",\"title\":{\"standoff\":15},\"zerolinecolor\":\"white\",\"automargin\":true,\"zerolinewidth\":2},\"yaxis\":{\"gridcolor\":\"white\",\"linecolor\":\"white\",\"ticks\":\"\",\"title\":{\"standoff\":15},\"zerolinecolor\":\"white\",\"automargin\":true,\"zerolinewidth\":2},\"scene\":{\"xaxis\":{\"backgroundcolor\":\"#E5ECF6\",\"gridcolor\":\"white\",\"linecolor\":\"white\",\"showbackground\":true,\"ticks\":\"\",\"zerolinecolor\":\"white\",\"gridwidth\":2},\"yaxis\":{\"backgroundcolor\":\"#E5ECF6\",\"gridcolor\":\"white\",\"linecolor\":\"white\",\"showbackground\":true,\"ticks\":\"\",\"zerolinecolor\":\"white\",\"gridwidth\":2},\"zaxis\":{\"backgroundcolor\":\"#E5ECF6\",\"gridcolor\":\"white\",\"linecolor\":\"white\",\"showbackground\":true,\"ticks\":\"\",\"zerolinecolor\":\"white\",\"gridwidth\":2}},\"shapedefaults\":{\"line\":{\"color\":\"#2a3f5f\"}},\"annotationdefaults\":{\"arrowcolor\":\"#2a3f5f\",\"arrowhead\":0,\"arrowwidth\":1},\"geo\":{\"bgcolor\":\"white\",\"landcolor\":\"#E5ECF6\",\"subunitcolor\":\"white\",\"showland\":true,\"showlakes\":true,\"lakecolor\":\"white\"},\"title\":{\"x\":0.05},\"mapbox\":{\"style\":\"light\"}}},\"xaxis\":{\"anchor\":\"y\",\"domain\":[0.0,1.0],\"title\":{\"text\":\"title\"}},\"yaxis\":{\"anchor\":\"x\",\"domain\":[0.0,1.0],\"title\":{\"text\":\"value\"}},\"legend\":{\"title\":{\"text\":\"variable\"},\"tracegroupgap\":0},\"title\":{\"text\":\"5 most Popular titles in PAL but flop in NA and JP\"},\"barmode\":\"relative\"},                        {\"responsive\": true}                    ).then(function(){\n",
              "                            \n",
              "var gd = document.getElementById('3784e5b0-c1af-464c-89d9-ea764dda1d7b');\n",
              "var x = new MutationObserver(function (mutations, observer) {{\n",
              "        var display = window.getComputedStyle(gd).display;\n",
              "        if (!display || display === 'none') {{\n",
              "            console.log([gd, 'removed!']);\n",
              "            Plotly.purge(gd);\n",
              "            observer.disconnect();\n",
              "        }}\n",
              "}});\n",
              "\n",
              "// Listen for the removal of the full notebook cells\n",
              "var notebookContainer = gd.closest('#notebook-container');\n",
              "if (notebookContainer) {{\n",
              "    x.observe(notebookContainer, {childList: true});\n",
              "}}\n",
              "\n",
              "// Listen for the clearing of the current output cell\n",
              "var outputEl = gd.closest('.output');\n",
              "if (outputEl) {{\n",
              "    x.observe(outputEl, {childList: true});\n",
              "}}\n",
              "\n",
              "                        })                };                            </script>        </div>\n",
              "</body>\n",
              "</html>"
            ]
          },
          "metadata": {}
        }
      ]
    },
    {
      "cell_type": "markdown",
      "source": [
        "CONCLUSION : THE TITLE 'THE 'THE SIMS 3', ' COLIN MCRAE RALLY' AND 'ANNO 2070' ARE VERY POPULAR IN PAL REGIONS BUT FLOP IN NA AND JP"
      ],
      "metadata": {
        "id": "QNxlyy9i4B55"
      }
    }
  ]
}